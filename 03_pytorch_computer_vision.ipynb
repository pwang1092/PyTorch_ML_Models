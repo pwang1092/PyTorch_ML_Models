{
  "cells": [
    {
      "cell_type": "markdown",
      "metadata": {
        "id": "Uk0bvYP8Nomy"
      },
      "source": [
        "# Pytorch computer vision\n",
        "\n",
        "Torchvision used for CV problems.\n",
        "\n",
        "We can use pretrained models too (transfer learning)\n",
        "\n",
        "* torchvision.transforsm for manipulating images\n",
        "* torchvision.utils.data.Dataset is base dataset class for PyTorch\n",
        "* torch.utils.data.DataLoader is a python iterable over dataset"
      ]
    },
    {
      "cell_type": "code",
      "execution_count": null,
      "metadata": {
        "colab": {
          "base_uri": "https://localhost:8080/"
        },
        "id": "P3gIN13kGino",
        "outputId": "5a1b9980-6ab6-480e-f6f7-ed630862d220"
      },
      "outputs": [
        {
          "output_type": "stream",
          "name": "stdout",
          "text": [
            "2.3.1+cu121\n",
            "0.18.1+cu121\n"
          ]
        }
      ],
      "source": [
        "import torch\n",
        "from torch import nn\n",
        "\n",
        "device = torch.device('cuda' if torch.cuda.is_available() else 'cpu')\n",
        "\n",
        "import torchvision\n",
        "from torchvision import datasets\n",
        "from torchvision import transforms\n",
        "from torchvision.transforms import ToTensor\n",
        "\n",
        "import matplotlib.pyplot as plt\n",
        "\n",
        "print(torch.__version__)\n",
        "print(torchvision.__version__)"
      ]
    },
    {
      "cell_type": "markdown",
      "metadata": {
        "id": "8OW1x0gVIFSH"
      },
      "source": [
        "# Model 1"
      ]
    },
    {
      "cell_type": "markdown",
      "metadata": {
        "id": "hkm2g8Vnuytx"
      },
      "source": [
        "## Creating dataset\n",
        "\n",
        "Lots of datasets in `torchvision.datasets`.\n",
        "\n",
        "`FashionMNIST` is used here."
      ]
    },
    {
      "cell_type": "code",
      "execution_count": null,
      "metadata": {
        "id": "2aHWZ5m7GilV"
      },
      "outputs": [],
      "source": [
        "# training data\n",
        "train_data = datasets.FashionMNIST(\n",
        "    root=\"data\", # where to download\n",
        "    train=True, # we want the training set\n",
        "    download=True,\n",
        "    transform=torchvision.transforms.ToTensor(), # using tensor format\n",
        "    target_transform=None\n",
        ")\n",
        "\n",
        "test_data = datasets.FashionMNIST(\n",
        "    root=\"data\",\n",
        "    train=False,\n",
        "    download=True,\n",
        "    transform=ToTensor(),\n",
        "    target_transform=None\n",
        ")\n"
      ]
    },
    {
      "cell_type": "code",
      "execution_count": null,
      "metadata": {
        "colab": {
          "base_uri": "https://localhost:8080/"
        },
        "id": "qRfaiH3gNrUX",
        "outputId": "5bfe51a9-2f81-4863-bbcf-cc9d38279c13"
      },
      "outputs": [
        {
          "output_type": "execute_result",
          "data": {
            "text/plain": [
              "(60000, 10000)"
            ]
          },
          "metadata": {},
          "execution_count": 27
        }
      ],
      "source": [
        "len(train_data), len(test_data)"
      ]
    },
    {
      "cell_type": "code",
      "execution_count": null,
      "metadata": {
        "colab": {
          "base_uri": "https://localhost:8080/"
        },
        "id": "tbS9TVaRNrkO",
        "outputId": "c2bababf-ca98-4b8d-c50f-72164a831b4f"
      },
      "outputs": [
        {
          "output_type": "execute_result",
          "data": {
            "text/plain": [
              "(tensor([[[0.0000, 0.0000, 0.0000, 0.0000, 0.0000, 0.0000, 0.0000, 0.0000,\n",
              "           0.0000, 0.0000, 0.0000, 0.0000, 0.0000, 0.0000, 0.0000, 0.0000,\n",
              "           0.0000, 0.0000, 0.0000, 0.0000, 0.0000, 0.0000, 0.0000, 0.0000,\n",
              "           0.0000, 0.0000, 0.0000, 0.0000],\n",
              "          [0.0000, 0.0000, 0.0000, 0.0000, 0.0000, 0.0000, 0.0000, 0.0000,\n",
              "           0.0000, 0.0000, 0.0000, 0.0000, 0.0000, 0.0000, 0.0000, 0.0000,\n",
              "           0.0000, 0.0000, 0.0000, 0.0000, 0.0000, 0.0000, 0.0000, 0.0000,\n",
              "           0.0000, 0.0000, 0.0000, 0.0000],\n",
              "          [0.0000, 0.0000, 0.0000, 0.0000, 0.0000, 0.0000, 0.0000, 0.0000,\n",
              "           0.0000, 0.0000, 0.0000, 0.0000, 0.0000, 0.0000, 0.0000, 0.0000,\n",
              "           0.0000, 0.0000, 0.0000, 0.0000, 0.0000, 0.0000, 0.0000, 0.0000,\n",
              "           0.0000, 0.0000, 0.0000, 0.0000],\n",
              "          [0.0000, 0.0000, 0.0000, 0.0000, 0.0000, 0.0000, 0.0000, 0.0000,\n",
              "           0.0000, 0.0000, 0.0000, 0.0000, 0.0039, 0.0000, 0.0000, 0.0510,\n",
              "           0.2863, 0.0000, 0.0000, 0.0039, 0.0157, 0.0000, 0.0000, 0.0000,\n",
              "           0.0000, 0.0039, 0.0039, 0.0000],\n",
              "          [0.0000, 0.0000, 0.0000, 0.0000, 0.0000, 0.0000, 0.0000, 0.0000,\n",
              "           0.0000, 0.0000, 0.0000, 0.0000, 0.0118, 0.0000, 0.1412, 0.5333,\n",
              "           0.4980, 0.2431, 0.2118, 0.0000, 0.0000, 0.0000, 0.0039, 0.0118,\n",
              "           0.0157, 0.0000, 0.0000, 0.0118],\n",
              "          [0.0000, 0.0000, 0.0000, 0.0000, 0.0000, 0.0000, 0.0000, 0.0000,\n",
              "           0.0000, 0.0000, 0.0000, 0.0000, 0.0235, 0.0000, 0.4000, 0.8000,\n",
              "           0.6902, 0.5255, 0.5647, 0.4824, 0.0902, 0.0000, 0.0000, 0.0000,\n",
              "           0.0000, 0.0471, 0.0392, 0.0000],\n",
              "          [0.0000, 0.0000, 0.0000, 0.0000, 0.0000, 0.0000, 0.0000, 0.0000,\n",
              "           0.0000, 0.0000, 0.0000, 0.0000, 0.0000, 0.0000, 0.6078, 0.9255,\n",
              "           0.8118, 0.6980, 0.4196, 0.6118, 0.6314, 0.4275, 0.2510, 0.0902,\n",
              "           0.3020, 0.5098, 0.2824, 0.0588],\n",
              "          [0.0000, 0.0000, 0.0000, 0.0000, 0.0000, 0.0000, 0.0000, 0.0000,\n",
              "           0.0000, 0.0000, 0.0000, 0.0039, 0.0000, 0.2706, 0.8118, 0.8745,\n",
              "           0.8549, 0.8471, 0.8471, 0.6392, 0.4980, 0.4745, 0.4784, 0.5725,\n",
              "           0.5529, 0.3451, 0.6745, 0.2588],\n",
              "          [0.0000, 0.0000, 0.0000, 0.0000, 0.0000, 0.0000, 0.0000, 0.0000,\n",
              "           0.0000, 0.0039, 0.0039, 0.0039, 0.0000, 0.7843, 0.9098, 0.9098,\n",
              "           0.9137, 0.8980, 0.8745, 0.8745, 0.8431, 0.8353, 0.6431, 0.4980,\n",
              "           0.4824, 0.7686, 0.8980, 0.0000],\n",
              "          [0.0000, 0.0000, 0.0000, 0.0000, 0.0000, 0.0000, 0.0000, 0.0000,\n",
              "           0.0000, 0.0000, 0.0000, 0.0000, 0.0000, 0.7176, 0.8824, 0.8471,\n",
              "           0.8745, 0.8941, 0.9216, 0.8902, 0.8784, 0.8706, 0.8784, 0.8667,\n",
              "           0.8745, 0.9608, 0.6784, 0.0000],\n",
              "          [0.0000, 0.0000, 0.0000, 0.0000, 0.0000, 0.0000, 0.0000, 0.0000,\n",
              "           0.0000, 0.0000, 0.0000, 0.0000, 0.0000, 0.7569, 0.8941, 0.8549,\n",
              "           0.8353, 0.7765, 0.7059, 0.8314, 0.8235, 0.8275, 0.8353, 0.8745,\n",
              "           0.8627, 0.9529, 0.7922, 0.0000],\n",
              "          [0.0000, 0.0000, 0.0000, 0.0000, 0.0000, 0.0000, 0.0000, 0.0000,\n",
              "           0.0000, 0.0039, 0.0118, 0.0000, 0.0471, 0.8588, 0.8627, 0.8314,\n",
              "           0.8549, 0.7529, 0.6627, 0.8902, 0.8157, 0.8549, 0.8784, 0.8314,\n",
              "           0.8863, 0.7725, 0.8196, 0.2039],\n",
              "          [0.0000, 0.0000, 0.0000, 0.0000, 0.0000, 0.0000, 0.0000, 0.0000,\n",
              "           0.0000, 0.0000, 0.0235, 0.0000, 0.3882, 0.9569, 0.8706, 0.8627,\n",
              "           0.8549, 0.7961, 0.7765, 0.8667, 0.8431, 0.8353, 0.8706, 0.8627,\n",
              "           0.9608, 0.4667, 0.6549, 0.2196],\n",
              "          [0.0000, 0.0000, 0.0000, 0.0000, 0.0000, 0.0000, 0.0000, 0.0000,\n",
              "           0.0000, 0.0157, 0.0000, 0.0000, 0.2157, 0.9255, 0.8941, 0.9020,\n",
              "           0.8941, 0.9412, 0.9098, 0.8353, 0.8549, 0.8745, 0.9176, 0.8510,\n",
              "           0.8510, 0.8196, 0.3608, 0.0000],\n",
              "          [0.0000, 0.0000, 0.0039, 0.0157, 0.0235, 0.0275, 0.0078, 0.0000,\n",
              "           0.0000, 0.0000, 0.0000, 0.0000, 0.9294, 0.8863, 0.8510, 0.8745,\n",
              "           0.8706, 0.8588, 0.8706, 0.8667, 0.8471, 0.8745, 0.8980, 0.8431,\n",
              "           0.8549, 1.0000, 0.3020, 0.0000],\n",
              "          [0.0000, 0.0118, 0.0000, 0.0000, 0.0000, 0.0000, 0.0000, 0.0000,\n",
              "           0.0000, 0.2431, 0.5686, 0.8000, 0.8941, 0.8118, 0.8353, 0.8667,\n",
              "           0.8549, 0.8157, 0.8275, 0.8549, 0.8784, 0.8745, 0.8588, 0.8431,\n",
              "           0.8784, 0.9569, 0.6235, 0.0000],\n",
              "          [0.0000, 0.0000, 0.0000, 0.0000, 0.0706, 0.1725, 0.3216, 0.4196,\n",
              "           0.7412, 0.8941, 0.8627, 0.8706, 0.8510, 0.8863, 0.7843, 0.8039,\n",
              "           0.8275, 0.9020, 0.8784, 0.9176, 0.6902, 0.7373, 0.9804, 0.9725,\n",
              "           0.9137, 0.9333, 0.8431, 0.0000],\n",
              "          [0.0000, 0.2235, 0.7333, 0.8157, 0.8784, 0.8667, 0.8784, 0.8157,\n",
              "           0.8000, 0.8392, 0.8157, 0.8196, 0.7843, 0.6235, 0.9608, 0.7569,\n",
              "           0.8078, 0.8745, 1.0000, 1.0000, 0.8667, 0.9176, 0.8667, 0.8275,\n",
              "           0.8627, 0.9098, 0.9647, 0.0000],\n",
              "          [0.0118, 0.7922, 0.8941, 0.8784, 0.8667, 0.8275, 0.8275, 0.8392,\n",
              "           0.8039, 0.8039, 0.8039, 0.8627, 0.9412, 0.3137, 0.5882, 1.0000,\n",
              "           0.8980, 0.8667, 0.7373, 0.6039, 0.7490, 0.8235, 0.8000, 0.8196,\n",
              "           0.8706, 0.8941, 0.8824, 0.0000],\n",
              "          [0.3843, 0.9137, 0.7765, 0.8235, 0.8706, 0.8980, 0.8980, 0.9176,\n",
              "           0.9765, 0.8627, 0.7608, 0.8431, 0.8510, 0.9451, 0.2549, 0.2863,\n",
              "           0.4157, 0.4588, 0.6588, 0.8588, 0.8667, 0.8431, 0.8510, 0.8745,\n",
              "           0.8745, 0.8784, 0.8980, 0.1137],\n",
              "          [0.2941, 0.8000, 0.8314, 0.8000, 0.7569, 0.8039, 0.8275, 0.8824,\n",
              "           0.8471, 0.7255, 0.7725, 0.8078, 0.7765, 0.8353, 0.9412, 0.7647,\n",
              "           0.8902, 0.9608, 0.9373, 0.8745, 0.8549, 0.8314, 0.8196, 0.8706,\n",
              "           0.8627, 0.8667, 0.9020, 0.2627],\n",
              "          [0.1882, 0.7961, 0.7176, 0.7608, 0.8353, 0.7725, 0.7255, 0.7451,\n",
              "           0.7608, 0.7529, 0.7922, 0.8392, 0.8588, 0.8667, 0.8627, 0.9255,\n",
              "           0.8824, 0.8471, 0.7804, 0.8078, 0.7294, 0.7098, 0.6941, 0.6745,\n",
              "           0.7098, 0.8039, 0.8078, 0.4510],\n",
              "          [0.0000, 0.4784, 0.8588, 0.7569, 0.7020, 0.6706, 0.7176, 0.7686,\n",
              "           0.8000, 0.8235, 0.8353, 0.8118, 0.8275, 0.8235, 0.7843, 0.7686,\n",
              "           0.7608, 0.7490, 0.7647, 0.7490, 0.7765, 0.7529, 0.6902, 0.6118,\n",
              "           0.6549, 0.6941, 0.8235, 0.3608],\n",
              "          [0.0000, 0.0000, 0.2902, 0.7412, 0.8314, 0.7490, 0.6863, 0.6745,\n",
              "           0.6863, 0.7098, 0.7255, 0.7373, 0.7412, 0.7373, 0.7569, 0.7765,\n",
              "           0.8000, 0.8196, 0.8235, 0.8235, 0.8275, 0.7373, 0.7373, 0.7608,\n",
              "           0.7529, 0.8471, 0.6667, 0.0000],\n",
              "          [0.0078, 0.0000, 0.0000, 0.0000, 0.2588, 0.7843, 0.8706, 0.9294,\n",
              "           0.9373, 0.9490, 0.9647, 0.9529, 0.9569, 0.8667, 0.8627, 0.7569,\n",
              "           0.7490, 0.7020, 0.7137, 0.7137, 0.7098, 0.6902, 0.6510, 0.6588,\n",
              "           0.3882, 0.2275, 0.0000, 0.0000],\n",
              "          [0.0000, 0.0000, 0.0000, 0.0000, 0.0000, 0.0000, 0.0000, 0.1569,\n",
              "           0.2392, 0.1725, 0.2824, 0.1608, 0.1373, 0.0000, 0.0000, 0.0000,\n",
              "           0.0000, 0.0000, 0.0000, 0.0000, 0.0000, 0.0000, 0.0000, 0.0000,\n",
              "           0.0000, 0.0000, 0.0000, 0.0000],\n",
              "          [0.0000, 0.0000, 0.0000, 0.0000, 0.0000, 0.0000, 0.0000, 0.0000,\n",
              "           0.0000, 0.0000, 0.0000, 0.0000, 0.0000, 0.0000, 0.0000, 0.0000,\n",
              "           0.0000, 0.0000, 0.0000, 0.0000, 0.0000, 0.0000, 0.0000, 0.0000,\n",
              "           0.0000, 0.0000, 0.0000, 0.0000],\n",
              "          [0.0000, 0.0000, 0.0000, 0.0000, 0.0000, 0.0000, 0.0000, 0.0000,\n",
              "           0.0000, 0.0000, 0.0000, 0.0000, 0.0000, 0.0000, 0.0000, 0.0000,\n",
              "           0.0000, 0.0000, 0.0000, 0.0000, 0.0000, 0.0000, 0.0000, 0.0000,\n",
              "           0.0000, 0.0000, 0.0000, 0.0000]]]),\n",
              " 9)"
            ]
          },
          "metadata": {},
          "execution_count": 28
        }
      ],
      "source": [
        "# see some training samples\n",
        "image, label = train_data[0]\n",
        "image, label"
      ]
    },
    {
      "cell_type": "markdown",
      "metadata": {
        "id": "eEhTK812K_az"
      },
      "source": [
        "## Checking data contents"
      ]
    },
    {
      "cell_type": "code",
      "execution_count": null,
      "metadata": {
        "colab": {
          "base_uri": "https://localhost:8080/"
        },
        "id": "KZrkn1G9JpnZ",
        "outputId": "53c9d00a-5e67-4565-f411-979798cc5b93"
      },
      "outputs": [
        {
          "output_type": "stream",
          "name": "stdout",
          "text": [
            "['T-shirt/top', 'Trouser', 'Pullover', 'Dress', 'Coat', 'Sandal', 'Shirt', 'Sneaker', 'Bag', 'Ankle boot']\n",
            "torch.Size([1, 28, 28]) | 9\n"
          ]
        }
      ],
      "source": [
        "class_names = train_data.classes\n",
        "print(class_names)\n",
        "print(image.shape, \"|\", label) # 1 color channel as grayscale"
      ]
    },
    {
      "cell_type": "markdown",
      "metadata": {
        "id": "DxRrm3GHLErh"
      },
      "source": [
        "## Visualize data"
      ]
    },
    {
      "cell_type": "code",
      "execution_count": null,
      "metadata": {
        "colab": {
          "base_uri": "https://localhost:8080/",
          "height": 469
        },
        "id": "inud7nJwKEsN",
        "outputId": "a50a890c-ca6a-468f-ebcf-c762a24ac111"
      },
      "outputs": [
        {
          "output_type": "stream",
          "name": "stdout",
          "text": [
            "Image shape torch.Size([1, 28, 28])\n"
          ]
        },
        {
          "output_type": "display_data",
          "data": {
            "text/plain": [
              "<Figure size 640x480 with 1 Axes>"
            ],
            "image/png": "[encoded data removed]"
          },
          "metadata": {}
        }
      ],
      "source": [
        "# plot first image\n",
        "image, label = train_data[0]\n",
        "print(f\"Image shape {image.shape}\")\n",
        "plt.imshow(image.squeeze(), cmap=\"gray\") # matplotlib doens't want color dimension\n",
        "plt.title(class_names[label]);"
      ]
    },
    {
      "cell_type": "code",
      "execution_count": null,
      "metadata": {
        "colab": {
          "base_uri": "https://localhost:8080/",
          "height": 663
        },
        "id": "Ebweo61wMTaR",
        "outputId": "7f09f765-40d2-4d89-e7b2-9468cbaeed4e"
      },
      "outputs": [
        {
          "output_type": "display_data",
          "data": {
            "text/plain": [
              "<Figure size 900x900 with 16 Axes>"
            ],
            "image/png": "[encoded data removed]"
          },
          "metadata": {}
        }
      ],
      "source": [
        "# plot some more images\n",
        "torch.manual_seed(42)\n",
        "fig = plt.figure(figsize=(9, 9))\n",
        "rows, cols = 4, 4\n",
        "for i in range(1, rows*cols+1):\n",
        "  rand_idx = torch.randint(0, len(train_data), size=[1]).item()\n",
        "  img, label = train_data[rand_idx]\n",
        "  fig.add_subplot(rows, cols, i)\n",
        "  plt.imshow(img.squeeze(), cmap=\"gray\")\n",
        "  plt.title(class_names[label])\n",
        "  plt.axis(False)"
      ]
    },
    {
      "cell_type": "code",
      "execution_count": null,
      "metadata": {
        "colab": {
          "base_uri": "https://localhost:8080/"
        },
        "id": "9aEk3WEqORUb",
        "outputId": "f431158a-6c10-43bd-d7e2-f4f941766b16"
      },
      "outputs": [
        {
          "output_type": "execute_result",
          "data": {
            "text/plain": [
              "(Dataset FashionMNIST\n",
              "     Number of datapoints: 60000\n",
              "     Root location: data\n",
              "     Split: Train\n",
              "     StandardTransform\n",
              " Transform: ToTensor(),\n",
              " Dataset FashionMNIST\n",
              "     Number of datapoints: 10000\n",
              "     Root location: data\n",
              "     Split: Test\n",
              "     StandardTransform\n",
              " Transform: ToTensor())"
            ]
          },
          "metadata": {},
          "execution_count": 32
        }
      ],
      "source": [
        "train_data, test_data"
      ]
    },
    {
      "cell_type": "markdown",
      "metadata": {
        "id": "42TJiFY8N6dY"
      },
      "source": [
        "## Prepare DataLoader\n",
        "\n",
        "Current data is in PyTorch Datasets format.\n",
        "\n",
        "DataLoaders turn dataset into a Python iterable. We want data in batches or minibatches.\n",
        "\n",
        "It is more computationally efficient to look at batches at a time, and gives the neural network more chances to update gradients per epoch.\n"
      ]
    },
    {
      "cell_type": "code",
      "execution_count": null,
      "metadata": {
        "colab": {
          "base_uri": "https://localhost:8080/"
        },
        "id": "wvX8oW_IM5LF",
        "outputId": "fd908f02-dab8-4307-f891-6f7a01bdb1cd"
      },
      "outputs": [
        {
          "output_type": "stream",
          "name": "stdout",
          "text": [
            "Dataloaders: (<torch.utils.data.dataloader.DataLoader object at 0x79c77c96f0d0>, <torch.utils.data.dataloader.DataLoader object at 0x79c77c96f310>)\n",
            "Lengths: 1875, 313 of batch size 32\n"
          ]
        }
      ],
      "source": [
        "from torch.utils.data import DataLoader\n",
        "\n",
        "# batch size hyperparameter\n",
        "BATCH_SIZE = 32\n",
        "\n",
        "# turn datasets into iterables\n",
        "train_dataloader = DataLoader(dataset=train_data,\n",
        "                              batch_size=BATCH_SIZE,\n",
        "                              shuffle=True)\n",
        "test_dataloader = DataLoader(dataset=test_data,\n",
        "                              batch_size=BATCH_SIZE,\n",
        "                              shuffle=False)\n",
        "\n",
        "print(f\"Dataloaders: {train_dataloader, test_dataloader}\")\n",
        "print(f\"Lengths: {len(train_dataloader)}, {len(test_dataloader)} of batch size 32\")"
      ]
    },
    {
      "cell_type": "code",
      "execution_count": null,
      "metadata": {
        "colab": {
          "base_uri": "https://localhost:8080/"
        },
        "id": "UDr-YdZbKkFU",
        "outputId": "c8b872b4-017b-49c9-8f6d-3e3f003da698"
      },
      "outputs": [
        {
          "output_type": "execute_result",
          "data": {
            "text/plain": [
              "(torch.Size([32, 1, 28, 28]), torch.Size([32]))"
            ]
          },
          "metadata": {},
          "execution_count": 34
        }
      ],
      "source": [
        "# batches\n",
        "train_features_batch, train_labels_batch = next(iter(train_dataloader))\n",
        "train_features_batch.shape, train_labels_batch.shape"
      ]
    },
    {
      "cell_type": "code",
      "execution_count": null,
      "metadata": {
        "colab": {
          "base_uri": "https://localhost:8080/",
          "height": 445
        },
        "id": "BF1sRwuOJ27A",
        "outputId": "9530f90a-e0d2-4fe4-82c1-18a9b98048b1"
      },
      "outputs": [
        {
          "output_type": "stream",
          "name": "stdout",
          "text": [
            "Label 6\n"
          ]
        },
        {
          "output_type": "display_data",
          "data": {
            "text/plain": [
              "<Figure size 640x480 with 1 Axes>"
            ],
            "image/png": "[encoded data removed]"
          },
          "metadata": {}
        }
      ],
      "source": [
        "# show a sample\n",
        "torch.manual_seed(42)\n",
        "rand_idx = torch.randint(0, len(train_features_batch), size=[1]).item()\n",
        "img, label = train_features_batch[rand_idx], train_labels_batch[rand_idx]\n",
        "plt.imshow(img.squeeze(), cmap=\"gray\")\n",
        "plt.title(class_names[label])\n",
        "plt.axis(False)\n",
        "print(f\"Label {label}\")"
      ]
    },
    {
      "cell_type": "markdown",
      "metadata": {
        "id": "M5cdcIMCmRCg"
      },
      "source": [
        "## Build baseline model\n",
        "\n",
        "`flatten` layer flattens a contiguous range of dims into a tensor.\n",
        "\n",
        "linear layer will want a vector instead of multidimentional tensor.\n",
        "\n",
        "https://pytorch.org/docs/stable/generated/torch.nn.Flatten.html"
      ]
    },
    {
      "cell_type": "code",
      "execution_count": null,
      "metadata": {
        "colab": {
          "base_uri": "https://localhost:8080/"
        },
        "id": "pIC1WVfszewf",
        "outputId": "daaf60a4-24b6-4b04-81f2-072d829b1d0d"
      },
      "outputs": [
        {
          "output_type": "stream",
          "name": "stdout",
          "text": [
            "torch.Size([1, 28, 28])\n",
            "flattened:  torch.Size([1, 784])\n"
          ]
        }
      ],
      "source": [
        "# create a flatten layer\n",
        "flatten_model = nn.Flatten()\n",
        "\n",
        "# get a sample to test flatten\n",
        "x = train_features_batch[0]\n",
        "print(x.shape)\n",
        "\n",
        "# flatten a sample\n",
        "output = flatten_model(x)\n",
        "\n",
        "print(\"flattened: \", output.shape)"
      ]
    },
    {
      "cell_type": "code",
      "execution_count": null,
      "metadata": {
        "id": "iejLL90zm9yg"
      },
      "outputs": [],
      "source": [
        "class FashionMNISTModelV0(nn.Module):\n",
        "  def __init__(self,\n",
        "               input_shape:int,\n",
        "               hidden_units: int,\n",
        "               output_shape:int):\n",
        "    super().__init__()\n",
        "    self.layer_stack = nn.Sequential(\n",
        "            nn.Flatten(),\n",
        "            nn.Linear(in_features=input_shape,\n",
        "                      out_features=hidden_units),\n",
        "            nn.Linear(in_features=hidden_units,\n",
        "                      out_features=output_shape)\n",
        "        )\n",
        "  def forward(self, x):\n",
        "    return self.layer_stack(x)"
      ]
    },
    {
      "cell_type": "code",
      "execution_count": null,
      "metadata": {
        "colab": {
          "base_uri": "https://localhost:8080/"
        },
        "id": "WGvfYkvGojUQ",
        "outputId": "802765c4-a417-4859-e30e-6e877da8dde5"
      },
      "outputs": [
        {
          "output_type": "execute_result",
          "data": {
            "text/plain": [
              "FashionMNISTModelV0(\n",
              "  (layer_stack): Sequential(\n",
              "    (0): Flatten(start_dim=1, end_dim=-1)\n",
              "    (1): Linear(in_features=784, out_features=10, bias=True)\n",
              "    (2): Linear(in_features=10, out_features=10, bias=True)\n",
              "  )\n",
              ")"
            ]
          },
          "metadata": {},
          "execution_count": 38
        }
      ],
      "source": [
        "torch.manual_seed(42)\n",
        "\n",
        "model_0 = FashionMNISTModelV0(\n",
        "    input_shape=784,\n",
        "    hidden_units=10,\n",
        "    output_shape=len(class_names)\n",
        ").to(\"cpu\")\n",
        "\n",
        "model_0"
      ]
    },
    {
      "cell_type": "code",
      "execution_count": null,
      "metadata": {
        "colab": {
          "base_uri": "https://localhost:8080/"
        },
        "id": "XDp93s3npBWJ",
        "outputId": "7a031afd-3dcc-44c4-cc45-f84a9fe65a97"
      },
      "outputs": [
        {
          "output_type": "stream",
          "name": "stdout",
          "text": [
            "torch.Size([1, 10])\n",
            "OrderedDict([('layer_stack.1.weight', tensor([[ 0.0273,  0.0296, -0.0084,  ..., -0.0142,  0.0093,  0.0135],\n",
            "        [-0.0188, -0.0354,  0.0187,  ..., -0.0106, -0.0001,  0.0115],\n",
            "        [-0.0008,  0.0017,  0.0045,  ..., -0.0127, -0.0188,  0.0059],\n",
            "        ...,\n",
            "        [-0.0116,  0.0273, -0.0344,  ...,  0.0176,  0.0283, -0.0011],\n",
            "        [-0.0230,  0.0257,  0.0291,  ..., -0.0187, -0.0087,  0.0001],\n",
            "        [ 0.0176, -0.0147,  0.0053,  ..., -0.0336, -0.0221,  0.0205]])), ('layer_stack.1.bias', tensor([-0.0093,  0.0283, -0.0033,  0.0255,  0.0017,  0.0037, -0.0302, -0.0123,\n",
            "         0.0018,  0.0163])), ('layer_stack.2.weight', tensor([[ 0.0614, -0.0687,  0.0021,  0.2718,  0.2109,  0.1079, -0.2279, -0.1063,\n",
            "          0.2019,  0.2847],\n",
            "        [-0.1495,  0.1344, -0.0740,  0.2006, -0.0475, -0.2514, -0.3130, -0.0118,\n",
            "          0.0932, -0.1864],\n",
            "        [ 0.2488,  0.1500,  0.1907,  0.1457, -0.3050, -0.0580,  0.1643,  0.1565,\n",
            "         -0.2877, -0.1792],\n",
            "        [ 0.2305, -0.2618,  0.2397, -0.0610,  0.0232,  0.1542,  0.0851, -0.2027,\n",
            "          0.1030, -0.2715],\n",
            "        [-0.1596, -0.0555, -0.0633,  0.2302, -0.1726,  0.2654,  0.1473,  0.1029,\n",
            "          0.2252, -0.2160],\n",
            "        [-0.2725,  0.0118,  0.1559,  0.1596,  0.0132,  0.3024,  0.1124,  0.1366,\n",
            "         -0.1533,  0.0965],\n",
            "        [-0.1184, -0.2555, -0.2057, -0.1909, -0.0477, -0.1324,  0.2905,  0.1307,\n",
            "         -0.2629,  0.0133],\n",
            "        [ 0.2727, -0.0127,  0.0513,  0.0863, -0.1043, -0.2047, -0.1185, -0.0825,\n",
            "          0.2488, -0.2571],\n",
            "        [ 0.0425, -0.1209, -0.0336, -0.0281, -0.1227,  0.0730,  0.0747, -0.1816,\n",
            "          0.1943,  0.2853],\n",
            "        [-0.1310,  0.0645, -0.1171,  0.2168, -0.0245, -0.2820,  0.0736,  0.2621,\n",
            "          0.0012, -0.0810]])), ('layer_stack.2.bias', tensor([-0.0087,  0.1791,  0.2712, -0.0791,  0.1685,  0.1762,  0.2825,  0.2266,\n",
            "        -0.2612, -0.2613]))])\n"
          ]
        }
      ],
      "source": [
        "# test the forward of the model\n",
        "dummy_x = torch.rand([1, 1, 28, 28])\n",
        "print(model_0(dummy_x).shape)\n",
        "print(model_0.state_dict())"
      ]
    },
    {
      "cell_type": "markdown",
      "metadata": {
        "id": "rkHSE7DtohM1"
      },
      "source": [
        "### Loss optimizer and evaluation metrics\n",
        "\n",
        "Loss function will be `nn.CrossEntropyLoss()`\n",
        "\n",
        "Optimizer will be `torch.optim.SGD()`, stochastic gradient descent.\n",
        "\n",
        "We'll evaluate with accuracy"
      ]
    },
    {
      "cell_type": "code",
      "execution_count": null,
      "metadata": {
        "colab": {
          "base_uri": "https://localhost:8080/"
        },
        "id": "SyrztgyVxMHH",
        "outputId": "9aacf4a4-04be-43d1-a711-f43e406e0864"
      },
      "outputs": [
        {
          "output_type": "stream",
          "name": "stdout",
          "text": [
            "already downloaded\n"
          ]
        }
      ],
      "source": [
        "import requests\n",
        "from pathlib import Path\n",
        "\n",
        "# download helper functions py for accuracy method\n",
        "if Path(\"helper_functions.py\").is_file():\n",
        "  print(\"already downloaded\")\n",
        "else:\n",
        "  request = requests.get(\"https://raw.githubusercontent.com/mrdbourke/pytorch-deep-learning/main/helper_functions.py\")\n",
        "  with open(\"helper_functions.py\", \"wb\") as f:\n",
        "    f.write(request.content)"
      ]
    },
    {
      "cell_type": "code",
      "execution_count": null,
      "metadata": {
        "id": "DO79TleExZoY"
      },
      "outputs": [],
      "source": [
        "from helper_functions import accuracy_fn\n",
        "\n",
        "# setup loss function and optimizer\n",
        "loss_fn = nn.CrossEntropyLoss()\n",
        "optimizer = torch.optim.SGD(params=model_0.parameters(),\n",
        "                            lr=0.1)"
      ]
    },
    {
      "cell_type": "code",
      "execution_count": null,
      "metadata": {
        "id": "oi95z23HxwZc"
      },
      "outputs": [],
      "source": [
        "from timeit import default_timer as timer\n",
        "\n",
        "# function to time our expiriments\n",
        "def print_train_time(start: float,\n",
        "                     end:float):\n",
        "  total_time = end - start\n",
        "  print(f\"train time {total_time:.3f}\")\n",
        "  return total_time"
      ]
    },
    {
      "cell_type": "markdown",
      "metadata": {
        "id": "eIHt7OWwzDlo"
      },
      "source": [
        "### Create training loop on batches of data\n",
        "\n",
        "Optimizer will update parameters once per batch rather than once per epoch :)"
      ]
    },
    {
      "cell_type": "code",
      "execution_count": null,
      "metadata": {
        "colab": {
          "base_uri": "https://localhost:8080/",
          "height": 508,
          "referenced_widgets": [
            "69becab64f9e40e98edddd0a96551075",
            "40d9b746e8bf478ca1a2a89b875eb692",
            "0d1d4ba278b540e983da038d0512e272",
            "eca86db2cafe4feab94c12407587e505",
            "ac3f040d828f40cdb922d5d14f534270",
            "3af56db91c8b44d69df049eb4fdc62cd",
            "e21f1767bbf14a1c940d2f47faab04b7",
            "b86010a2033046b89baabcd0bb5b087c",
            "d75f8e85f29240269df5871c46e21054",
            "726219137a2241109c5653090008729e",
            "458f8cc7582449cc96215d427f23ef79"
          ]
        },
        "id": "tH9Pxqyhyt-H",
        "outputId": "9025b485-56c4-44d9-e29c-35be747211f7"
      },
      "outputs": [
        {
          "output_type": "display_data",
          "data": {
            "text/plain": [
              "  0%|          | 0/3 [00:00<?, ?it/s]"
            ],
            "application/vnd.jupyter.widget-view+json": {
              "version_major": 2,
              "version_minor": 0,
              "model_id": "69becab64f9e40e98edddd0a96551075"
            }
          },
          "metadata": {}
        },
        {
          "output_type": "stream",
          "name": "stdout",
          "text": [
            "\n",
            "Epoch 0\n",
            "0/60000 samples\n",
            "12800/60000 samples\n",
            "25600/60000 samples\n",
            "38400/60000 samples\n",
            "51200/60000 samples\n",
            "train loss 0.5904 | test loss 0.5095 | test acc 82.0387\n",
            "train time 15.419\n",
            "\n",
            "Epoch 1\n",
            "0/60000 samples\n",
            "12800/60000 samples\n",
            "25600/60000 samples\n",
            "38400/60000 samples\n",
            "51200/60000 samples\n",
            "train loss 0.4763 | test loss 0.4799 | test acc 83.1969\n",
            "train time 28.782\n",
            "\n",
            "Epoch 2\n",
            "0/60000 samples\n",
            "12800/60000 samples\n",
            "25600/60000 samples\n",
            "38400/60000 samples\n",
            "51200/60000 samples\n",
            "train loss 0.4550 | test loss 0.4766 | test acc 83.4265\n",
            "train time 41.916\n"
          ]
        }
      ],
      "source": [
        "# tqdm for progress bar\n",
        "from tqdm.auto import tqdm\n",
        "\n",
        "torch.manual_seed(42)\n",
        "train_time_start_on_cpu = timer()\n",
        "\n",
        "epochs = 3\n",
        "\n",
        "# training loop\n",
        "for epoch in tqdm(range(epochs)):\n",
        "  print(f\"\\nEpoch {epoch}\")\n",
        "  train_loss = 0\n",
        "\n",
        "  # loop through training batches\n",
        "  for batch, (X, y) in enumerate(train_dataloader):\n",
        "    model_0.train()\n",
        "    # forward pass\n",
        "    y_pred = model_0(X)\n",
        "\n",
        "    # calculate loss per batch\n",
        "    loss = loss_fn(y_pred, y)\n",
        "    train_loss += loss\n",
        "\n",
        "    # zero optimizer grad\n",
        "    optimizer.zero_grad()\n",
        "\n",
        "    # loss backward\n",
        "    loss.backward()\n",
        "\n",
        "    # optimizer step\n",
        "    optimizer.step()\n",
        "\n",
        "    # print stuff\n",
        "    if batch % 400 == 0:\n",
        "      print(f\"{batch * len(X)}/{len(train_dataloader.dataset)} samples\")\n",
        "\n",
        "  # average loss per batch\n",
        "  train_loss /= len(train_dataloader)\n",
        "\n",
        "  # testing loop\n",
        "  test_loss, test_acc = 0, 0\n",
        "  model_0.eval() # eval mode\n",
        "  with torch.inference_mode():\n",
        "    for X_test, y_test in test_dataloader:\n",
        "      # forward pass\n",
        "      test_pred = model_0(X_test)\n",
        "\n",
        "      # calculate loss sums\n",
        "      test_loss += loss_fn(test_pred, y_test)\n",
        "\n",
        "      # calculate accuracy\n",
        "      test_acc += accuracy_fn(y_true = y_test,\n",
        "                              y_pred=test_pred.argmax(dim=1))\n",
        "\n",
        "    # claculate test loss average\n",
        "    test_loss /= len(test_dataloader)\n",
        "    # test accuracy per batch\n",
        "    test_acc /= len(test_dataloader)\n",
        "\n",
        "  print(f\"train loss {train_loss:.4f} | test loss {test_loss:.4f} | test acc {test_acc:.4f}\")\n",
        "\n",
        "  train_time_end = timer()\n",
        "  total_train_time_model_0 = print_train_time(start=train_time_start_on_cpu,\n",
        "                                              end = train_time_end)"
      ]
    },
    {
      "cell_type": "markdown",
      "metadata": {
        "id": "pgxAPs_o-Ma7"
      },
      "source": [
        "## Predictions and Model 0 results"
      ]
    },
    {
      "cell_type": "markdown",
      "source": [
        "### eval model function"
      ],
      "metadata": {
        "id": "bMwtd_jE4knT"
      }
    },
    {
      "cell_type": "code",
      "execution_count": null,
      "metadata": {
        "colab": {
          "base_uri": "https://localhost:8080/"
        },
        "id": "kuRlNL1vzxaX",
        "outputId": "21df9192-c129-494d-db3a-5493288fa4a8"
      },
      "outputs": [
        {
          "output_type": "execute_result",
          "data": {
            "text/plain": [
              "{'model_name': 'FashionMNISTModelV0',\n",
              " 'model_loss': 0.47663894295692444,\n",
              " 'model_acc': 83.42651757188499}"
            ]
          },
          "metadata": {},
          "execution_count": 44
        }
      ],
      "source": [
        "torch.manual_seed(42)\n",
        "\n",
        "# returns dictionary with results of model predicting on data_loader\n",
        "def eval_model(model: torch.nn.Module,\n",
        "              data_loader: torch.utils.data.DataLoader,\n",
        "              loss_fn: torch.nn.Module,\n",
        "              accuracy_fn):\n",
        "  loss, acc = 0, 0\n",
        "  model.eval() # eval mode\n",
        "  with torch.inference_mode():\n",
        "    for X, y in data_loader:\n",
        "      # device agnostic\n",
        "      X, y = X.to(device), y.to(device)\n",
        "\n",
        "      # make predictions\n",
        "      y_pred = model(X)\n",
        "\n",
        "      # accumulate loss and acc per batch\n",
        "      loss += loss_fn(y_pred, y)\n",
        "      acc += accuracy_fn(y_true=y,\n",
        "                         y_pred=y_pred.argmax(dim=1))\n",
        "\n",
        "    # scale loss and acc\n",
        "    loss /= len(data_loader)\n",
        "    acc /= len(data_loader)\n",
        "\n",
        "    return {\"model_name\": model.__class__.__name__,\n",
        "            \"model_loss\": loss.item(),\n",
        "            \"model_acc\": acc}\n",
        "\n",
        "model_0_results = eval_model(model=model_0,\n",
        "                             data_loader=test_dataloader,\n",
        "                             loss_fn=loss_fn,\n",
        "                             accuracy_fn=accuracy_fn)\n",
        "\n",
        "model_0_results"
      ]
    },
    {
      "cell_type": "code",
      "execution_count": null,
      "metadata": {
        "id": "Bbp87ItS_SvT"
      },
      "outputs": [],
      "source": [
        "# device agnostic code\n",
        "device = \"cuda\" if torch.cuda.is_available() else \"cpu\""
      ]
    },
    {
      "cell_type": "markdown",
      "metadata": {
        "id": "ck3TbG34Em7e"
      },
      "source": [
        "# Model 2\n",
        "\n",
        "Try to create better model with non-linearity"
      ]
    },
    {
      "cell_type": "code",
      "execution_count": null,
      "metadata": {
        "id": "piCIm_X0ErT8"
      },
      "outputs": [],
      "source": [
        "class FashionMNISTModelV1(nn.Module):\n",
        "  def __init__(self,\n",
        "               input_shape:int,\n",
        "               hidden_units: int,\n",
        "               output_shape:int):\n",
        "    super().__init__()\n",
        "    self.layer_stack = nn.Sequential(\n",
        "            nn.Flatten(),\n",
        "            nn.Linear(in_features=input_shape,\n",
        "                      out_features=hidden_units),\n",
        "            nn.ReLU(),\n",
        "            nn.Linear(in_features=hidden_units,\n",
        "                      out_features=output_shape),\n",
        "            nn.ReLU()\n",
        "        )\n",
        "  def forward(self, x):\n",
        "    return self.layer_stack(x)"
      ]
    },
    {
      "cell_type": "code",
      "execution_count": null,
      "metadata": {
        "colab": {
          "base_uri": "https://localhost:8080/"
        },
        "id": "UFhk3Z-PGquu",
        "outputId": "84fb2253-d280-4b23-9c63-1e6eb22d38e2"
      },
      "outputs": [
        {
          "output_type": "execute_result",
          "data": {
            "text/plain": [
              "device(type='cpu')"
            ]
          },
          "metadata": {},
          "execution_count": 47
        }
      ],
      "source": [
        "# instance of model_1\n",
        "torch.manual_seed(42)\n",
        "model_1 = FashionMNISTModelV1(input_shape=784,\n",
        "                              hidden_units=10,\n",
        "                              output_shape=len(class_names)).to(device)\n",
        "next(model_1.parameters()).device"
      ]
    },
    {
      "cell_type": "markdown",
      "metadata": {
        "id": "kPQ_fGMrcq-j"
      },
      "source": [
        "## Loss, optimizer, and evaluation metrics\n",
        "\n",
        "(loss function measures how off the model is, optimizer updates model parameters to reduce loss)"
      ]
    },
    {
      "cell_type": "code",
      "execution_count": null,
      "metadata": {
        "id": "Y_-SRQHkG5Ly"
      },
      "outputs": [],
      "source": [
        "loss_fn = nn.CrossEntropyLoss()\n",
        "optimizer = torch.optim.SGD(params=model_1.parameters(),\n",
        "                            lr=0.1)"
      ]
    },
    {
      "cell_type": "markdown",
      "metadata": {
        "id": "JkEK_ItudQzW"
      },
      "source": [
        "Functionize training and evaluation loops"
      ]
    },
    {
      "cell_type": "code",
      "execution_count": null,
      "metadata": {
        "id": "HVpBnUn4c9IJ"
      },
      "outputs": [],
      "source": [
        "# functions for training loop and testing loop\n",
        "\n",
        "def train_step(model: torch.nn.Module,\n",
        "               data_loader: torch.utils.data.DataLoader,\n",
        "               loss_fn: torch.nn.Module,\n",
        "               optimizer: torch.optim.Optimizer,\n",
        "               accuracy_fn,\n",
        "               device: torch.device = device):\n",
        "\n",
        "  train_loss, train_acc = 0, 0\n",
        "\n",
        "  # training mode\n",
        "  model.train()\n",
        "\n",
        "  # loop through training batches\n",
        "  for batch, (X, y) in enumerate(train_dataloader):\n",
        "    X, y = X.to(device), y.to(device)\n",
        "    # forward pass\n",
        "    y_pred = model(X)\n",
        "\n",
        "    # calculate loss per batch\n",
        "    loss = loss_fn(y_pred, y)\n",
        "    train_loss += loss\n",
        "    train_acc += accuracy_fn(y_true=y,\n",
        "                             y_pred=y_pred.argmax(dim=1))\n",
        "\n",
        "    # zero optimizer grad\n",
        "    optimizer.zero_grad()\n",
        "\n",
        "    # loss backward\"\n",
        "    loss.backward()\n",
        "\n",
        "    # optimizer step\n",
        "    optimizer.step()\n",
        "\n",
        "  # average loss per batch\n",
        "  train_loss /= len(data_loader)\n",
        "  train_acc /= len(data_loader)\n",
        "  print(f\"Train loss {train_loss:.5f} | Train acc {train_acc:.5f}%\")\n",
        "\n",
        "\n",
        "def test_step(model: torch.nn.Module,\n",
        "              data_loader: torch.utils.data.DataLoader,\n",
        "              loss_fn: torch.nn.Module,\n",
        "              accuracy_fn,\n",
        "              device: torch.device = device):\n",
        "  test_loss, test_acc = 0, 0\n",
        "  model.eval() # eval mode\n",
        "\n",
        "  with torch.inference_mode():\n",
        "    for X, y in test_dataloader:\n",
        "      X, y = X.to(device), y.to(device)\n",
        "\n",
        "      # forward pass\n",
        "      test_pred = model(X)\n",
        "\n",
        "      # calculate loss sums\n",
        "      test_loss += loss_fn(test_pred, y)\n",
        "\n",
        "      # calculate accuracy\n",
        "      test_acc += accuracy_fn(y_true=y,\n",
        "                              y_pred=test_pred.argmax(dim=1))\n",
        "\n",
        "    # claculate test loss average\n",
        "    test_loss /= len(data_loader)\n",
        "    # test accuracy per batch\n",
        "    test_acc /= len(data_loader)\n",
        "\n",
        "  print(f\"test loss {test_loss:.4f} | test acc {test_acc:.4f}\")\n"
      ]
    },
    {
      "cell_type": "code",
      "execution_count": null,
      "metadata": {
        "colab": {
          "base_uri": "https://localhost:8080/",
          "height": 304,
          "referenced_widgets": [
            "9a689259af0c4d84b5050b3411c84976",
            "4fa28859b1184bc883bc9cfa74392384",
            "cd98eae86d08433d9b964531477f8eb4",
            "0c89aa1dac5d4a2f8dd35568bd331c62",
            "bb10f8ac5b524140a6711585b03ccbd1",
            "7301e99caf61430c937b7e55562e64d7",
            "04f1097ebfc748018b3e64b8c2f0a46e",
            "6995b1806c0b4da9b4b7adfba4345e01",
            "2cce821b0dfe459eb7dafec2cd775068",
            "26f245691cac48218f7eb0343ae56342",
            "3971f63ca23040129d74e7f20a165b2e"
          ]
        },
        "id": "6ocKWJRkf4Yc",
        "outputId": "b2319701-2081-4474-a1ca-45329d7a1483"
      },
      "outputs": [
        {
          "output_type": "display_data",
          "data": {
            "text/plain": [
              "  0%|          | 0/3 [00:00<?, ?it/s]"
            ],
            "application/vnd.jupyter.widget-view+json": {
              "version_major": 2,
              "version_minor": 0,
              "model_id": "9a689259af0c4d84b5050b3411c84976"
            }
          },
          "metadata": {}
        },
        {
          "output_type": "stream",
          "name": "stdout",
          "text": [
            "\n",
            "Epoch: 0\n",
            "Train loss 1.09199 | Train acc 61.34333%\n",
            "test loss 0.9564 | test acc 64.9960\n",
            "train time 14.318\n",
            "\n",
            "Epoch: 1\n",
            "Train loss 0.78101 | Train acc 71.92833%\n",
            "test loss 0.7223 | test acc 73.9117\n",
            "train time 27.596\n",
            "\n",
            "Epoch: 2\n",
            "Train loss 0.67027 | Train acc 75.93667%\n",
            "test loss 0.6850 | test acc 75.0200\n",
            "train time 40.922\n"
          ]
        }
      ],
      "source": [
        "torch.manual_seed(42)\n",
        "\n",
        "# measure time\n",
        "train_time_start = timer()\n",
        "epochs = 3\n",
        "\n",
        "# optimization and evaluation loop\n",
        "for epoch in tqdm(range(epochs)):\n",
        "  print(f\"\\nEpoch: {epoch}\")\n",
        "  train_step(model=model_1,\n",
        "             data_loader=train_dataloader,\n",
        "             loss_fn=loss_fn,\n",
        "             optimizer=optimizer,\n",
        "             accuracy_fn=accuracy_fn,\n",
        "             device=device)\n",
        "  test_step(model=model_1,\n",
        "            data_loader=test_dataloader,\n",
        "            loss_fn=loss_fn,\n",
        "            accuracy_fn=accuracy_fn,\n",
        "            device=device)\n",
        "\n",
        "  train_time_end = timer()\n",
        "  model_1_time = print_train_time(start=train_time_start,\n",
        "                                  end=train_time_end)"
      ]
    },
    {
      "cell_type": "code",
      "execution_count": null,
      "metadata": {
        "colab": {
          "base_uri": "https://localhost:8080/"
        },
        "id": "O-uLkvwHm-95",
        "outputId": "fb31d702-1562-41bb-f560-81396592a09d"
      },
      "outputs": [
        {
          "output_type": "execute_result",
          "data": {
            "text/plain": [
              "{'model_name': 'FashionMNISTModelV1',\n",
              " 'model_loss': 0.6850009560585022,\n",
              " 'model_acc': 75.01996805111821}"
            ]
          },
          "metadata": {},
          "execution_count": 51
        }
      ],
      "source": [
        "model_1_results = eval_model(model=model_1,\n",
        "                             data_loader=test_dataloader,\n",
        "                             loss_fn=loss_fn,\n",
        "                             accuracy_fn=accuracy_fn)\n",
        "model_1_results"
      ]
    },
    {
      "cell_type": "markdown",
      "metadata": {
        "id": "uRQNylBWqOlk"
      },
      "source": [
        "# Model 3: Build. Convolution Neural Network\n",
        "\n",
        "* input layer\n",
        "* convolution layer (convolutional layers figures out what features to learn)\n",
        "* hidden activation layer\n",
        "* pooling layer\n",
        "* output layer\n",
        "\n",
        "Can have several convolution, ReLU, or pooling layers\n",
        "\n",
        "Interactive CNN visualization: https://poloclub.github.io/cnn-explainer\n",
        "\n",
        "Conv2d: `out(Ni, Coutj)=bias(Coutj)+sum_(k=0) to Cin-1 (weight(Coutj, k)*input(Nik))`. From what I understand it's like sliding a layer of weights over different areas of the image and trying to get the greatest sum of products. `*` is cross-correlation operator. https://pytorch.org/docs/stable/generated/torch.nn.Conv2d.html\n",
        "\n",
        "Maxpool 2d: Downsamples the input along its spatial dimensions (height and width) by taking the maximum value over an input window for each channel of the input. The window is shifted by strides along each dimension. https://pytorch.org/docs/stable/generated/torch.nn.MaxPool2d.html\n",
        "\n",
        "Images basically get compressed through the layer until feature vector is created."
      ]
    },
    {
      "cell_type": "code",
      "execution_count": null,
      "metadata": {
        "id": "qYJzPk1rpeIn"
      },
      "outputs": [],
      "source": [
        "# create CNN\n",
        "class FashionMNISTModelV2(nn.Module):\n",
        "  # model architecture to replicate TinyVGG model from CNN explanation site\n",
        "  def __init__(self,\n",
        "             input_shape: int,\n",
        "             hidden_units: int,\n",
        "             output_shape: int):\n",
        "    super().__init__()\n",
        "    self.conv_block_1 = nn.Sequential(\n",
        "        nn.Conv2d(in_channels=input_shape,\n",
        "                  out_channels=hidden_units,\n",
        "                  kernel_size=3,\n",
        "                  stride=1,\n",
        "                  padding=1), # these params are the hyperparameters\n",
        "        nn.ReLU(),\n",
        "        nn.Conv2d(in_channels=hidden_units,\n",
        "                  out_channels=hidden_units,\n",
        "                  kernel_size=3,\n",
        "                  stride=1,\n",
        "                  padding=1),\n",
        "        nn.ReLU(),\n",
        "        nn.MaxPool2d(kernel_size=2)\n",
        "    )\n",
        "    self.conv_block_2 = nn.Sequential(\n",
        "        nn.Conv2d(in_channels=hidden_units,\n",
        "                  out_channels=hidden_units,\n",
        "                  kernel_size=3,\n",
        "                  stride=1,\n",
        "                  padding=1),\n",
        "        nn.ReLU(),\n",
        "        nn.Conv2d(in_channels=hidden_units,\n",
        "                  out_channels=hidden_units,\n",
        "                  kernel_size=3,\n",
        "                  stride=1,\n",
        "                  padding=1),\n",
        "        nn.MaxPool2d(kernel_size=2)\n",
        "    )\n",
        "    # i guess classifier (output layer) needs flatten but conv layers don't\n",
        "    self.classifier = nn.Sequential(\n",
        "        nn.Flatten(),\n",
        "        nn.Linear(in_features=hidden_units * 7 * 7, # flatten changes matrice dimensions, so this accounts for it\n",
        "                  out_features=output_shape)\n",
        "    )\n",
        "\n",
        "  def forward(self, x):\n",
        "    x = self.conv_block_1(x)\n",
        "    # print(x.shape)\n",
        "    x = self.conv_block_2(x)\n",
        "    x = self.classifier(x)\n",
        "    return x\n"
      ]
    },
    {
      "cell_type": "code",
      "execution_count": null,
      "metadata": {
        "id": "IhNxY_LE34RK"
      },
      "outputs": [],
      "source": [
        "\n",
        "torch.manual_seed(42)\n",
        "model_2 = FashionMNISTModelV2(input_shape=1, # 1 color channel\n",
        "                              hidden_units=10,\n",
        "                              output_shape=len(class_names)).to(device)\n"
      ]
    },
    {
      "cell_type": "markdown",
      "metadata": {
        "id": "gVBC4sQO6j2W"
      },
      "source": [
        "## Stepping through `nn.Conv2d`"
      ]
    },
    {
      "cell_type": "code",
      "execution_count": null,
      "metadata": {
        "colab": {
          "base_uri": "https://localhost:8080/"
        },
        "id": "bs3XbkIy5X9b",
        "outputId": "989b008b-d22b-49e7-bd14-52050be0e282"
      },
      "outputs": [
        {
          "output_type": "stream",
          "name": "stdout",
          "text": [
            "Image batch shape torch.Size([32, 3, 64, 64])\n",
            "Shape torch.Size([3, 64, 64])\n",
            "Test image\n",
            " tensor([[[ 1.9269,  1.4873,  0.9007,  ...,  1.8446, -1.1845,  1.3835],\n",
            "         [ 1.4451,  0.8564,  2.2181,  ...,  0.3399,  0.7200,  0.4114],\n",
            "         [ 1.9312,  1.0119, -1.4364,  ..., -0.5558,  0.7043,  0.7099],\n",
            "         ...,\n",
            "         [-0.5610, -0.4830,  0.4770,  ..., -0.2713, -0.9537, -0.6737],\n",
            "         [ 0.3076, -0.1277,  0.0366,  ..., -2.0060,  0.2824, -0.8111],\n",
            "         [-1.5486,  0.0485, -0.7712,  ..., -0.1403,  0.9416, -0.0118]],\n",
            "\n",
            "        [[-0.5197,  1.8524,  1.8365,  ...,  0.8935, -1.5114, -0.8515],\n",
            "         [ 2.0818,  1.0677, -1.4277,  ...,  1.6612, -2.6223, -0.4319],\n",
            "         [-0.1010, -0.4388, -1.9775,  ...,  0.2106,  0.2536, -0.7318],\n",
            "         ...,\n",
            "         [ 0.2779,  0.7342, -0.3736,  ..., -0.4601,  0.1815,  0.1850],\n",
            "         [ 0.7205, -0.2833,  0.0937,  ..., -0.1002, -2.3609,  2.2465],\n",
            "         [-1.3242, -0.1973,  0.2920,  ...,  0.5409,  0.6940,  1.8563]],\n",
            "\n",
            "        [[-0.7978,  1.0261,  1.1465,  ...,  1.2134,  0.9354, -0.0780],\n",
            "         [-1.4647, -1.9571,  0.1017,  ..., -1.9986, -0.7409,  0.7011],\n",
            "         [-1.3938,  0.8466, -1.7191,  ..., -1.1867,  0.1320,  0.3407],\n",
            "         ...,\n",
            "         [ 0.8206, -0.3745,  1.2499,  ..., -0.0676,  0.0385,  0.6335],\n",
            "         [-0.5589, -0.3393,  0.2347,  ...,  2.1181,  2.4569,  1.3083],\n",
            "         [-0.4092,  1.5199,  0.2401,  ..., -0.2558,  0.7870,  0.9924]]])\n"
          ]
        }
      ],
      "source": [
        "torch.manual_seed(42)\n",
        "\n",
        "# batch of images\n",
        "images = torch.randn(size=(32, 3, 64, 64))\n",
        "test_image = images[0]\n",
        "print(f\"Image batch shape {images.shape}\")\n",
        "print(f\"Shape {test_image.shape}\")\n",
        "print(f\"Test image\\n {test_image}\")"
      ]
    },
    {
      "cell_type": "markdown",
      "metadata": {
        "id": "8JOpqWDDDaqw"
      },
      "source": [
        "Test single convolutional layer"
      ]
    },
    {
      "cell_type": "code",
      "execution_count": null,
      "metadata": {
        "colab": {
          "base_uri": "https://localhost:8080/"
        },
        "id": "Wmj7n6KV7LlL",
        "outputId": "7ea7239a-9224-4c4d-b34b-ef967d2ffcf9"
      },
      "outputs": [
        {
          "output_type": "stream",
          "name": "stdout",
          "text": [
            "tensor([[[[ 1.6446e-01, -6.2518e-01, -7.7713e-01,  ..., -3.2504e-01,\n",
            "           -3.1604e-01,  4.5352e-01],\n",
            "          [ 3.5455e-01, -2.8778e-01, -6.0596e-02,  ...,  6.6224e-01,\n",
            "           -2.3216e-01,  7.7080e-01],\n",
            "          [-4.5420e-02, -9.8911e-01, -4.0099e-01,  ..., -1.8552e-01,\n",
            "           -5.7622e-01,  4.2301e-01],\n",
            "          ...,\n",
            "          [ 2.9288e-01, -1.4512e-01, -1.1566e-01,  ..., -3.6626e-01,\n",
            "            3.5645e-01,  2.8384e-01],\n",
            "          [ 2.0746e-01,  3.6096e-02,  1.5214e-01,  ..., -4.9680e-01,\n",
            "           -7.2258e-01, -8.3858e-02],\n",
            "          [-3.2457e-01, -3.2326e-01,  9.5475e-02,  ...,  5.9960e-01,\n",
            "            3.2819e-01,  3.6604e-01]],\n",
            "\n",
            "         [[ 1.2406e+00,  2.2794e-01, -1.8362e-01,  ..., -6.3520e-01,\n",
            "           -7.5413e-01,  4.0612e-01],\n",
            "          [ 4.1380e-01, -1.0853e+00, -1.6079e+00,  ..., -1.7643e+00,\n",
            "            2.5263e-01,  3.8844e-01],\n",
            "          [ 5.3442e-01, -8.2507e-01,  6.3866e-01,  ...,  4.8068e-01,\n",
            "            8.4869e-01, -1.5706e-01],\n",
            "          ...,\n",
            "          [-5.6923e-03, -5.9820e-01,  3.7339e-01,  ..., -8.9892e-01,\n",
            "            2.9192e-01, -3.8672e-01],\n",
            "          [-6.2494e-01, -1.8412e-01,  2.2085e-01,  ..., -9.0971e-01,\n",
            "            7.9518e-01,  1.1271e-01],\n",
            "          [-3.0298e-02,  6.1405e-01, -8.5520e-02,  ..., -5.1270e-01,\n",
            "            1.5888e-01, -1.3645e+00]],\n",
            "\n",
            "         [[-6.2468e-01,  9.7328e-03, -1.4578e-01,  ...,  2.6686e-01,\n",
            "            1.4064e-01, -4.5320e-01],\n",
            "          [ 2.3947e-01,  3.9605e-02,  6.7841e-01,  ..., -2.9320e-01,\n",
            "           -1.8889e-01,  3.6433e-01],\n",
            "          [-7.0521e-01, -1.5027e+00, -1.1401e+00,  ..., -9.3105e-01,\n",
            "            6.8724e-02,  4.9460e-01],\n",
            "          ...,\n",
            "          [ 2.9098e-01,  8.3423e-02,  2.5296e-01,  ...,  9.1973e-01,\n",
            "            3.2513e-02,  7.0298e-01],\n",
            "          [ 5.6353e-01,  2.0770e-01,  6.7494e-01,  ..., -1.6368e-01,\n",
            "           -1.3886e-01,  7.8882e-01],\n",
            "          [-4.7558e-01, -2.8268e-01,  3.1672e-01,  ..., -1.9034e-01,\n",
            "            1.2044e+00,  8.2398e-01]],\n",
            "\n",
            "         ...,\n",
            "\n",
            "         [[ 8.8568e-01,  1.5031e-01,  2.5578e-01,  ..., -2.8288e-01,\n",
            "            1.0414e+00,  3.5871e-01],\n",
            "          [-1.0052e-01, -6.5893e-01, -1.0476e+00,  ...,  3.5072e-01,\n",
            "            2.5077e-01, -1.0703e-01],\n",
            "          [ 1.6056e+00,  1.3226e+00,  1.9803e+00,  ...,  1.5939e+00,\n",
            "           -1.0821e-01, -1.6139e-01],\n",
            "          ...,\n",
            "          [-5.8132e-01,  1.5033e-01, -3.4481e-01,  ..., -5.1884e-01,\n",
            "            1.9113e-01, -8.4433e-01],\n",
            "          [-4.8288e-01, -2.3805e-02, -4.3101e-01,  ...,  4.1791e-01,\n",
            "            6.0961e-01, -3.4790e-01],\n",
            "          [ 1.1551e+00,  1.9797e-01,  3.4713e-01,  ..., -2.1822e-01,\n",
            "           -1.7563e+00, -6.8369e-01]],\n",
            "\n",
            "         [[-3.4908e-01,  3.2126e-01,  5.9795e-02,  ..., -1.6095e-01,\n",
            "            1.4005e-01, -8.1813e-01],\n",
            "          [-5.7935e-01, -5.7891e-02,  6.3499e-02,  ...,  7.6985e-01,\n",
            "           -6.7518e-01,  2.2837e-01],\n",
            "          [-6.6116e-04,  2.9175e-01,  1.1631e-04,  ...,  6.5636e-01,\n",
            "           -5.4662e-01, -3.0450e-02],\n",
            "          ...,\n",
            "          [-3.9861e-01,  7.5117e-01, -1.5956e-01,  ...,  2.8248e-01,\n",
            "           -4.3361e-01, -5.9872e-01],\n",
            "          [ 1.5383e-01, -2.1132e-01, -4.4753e-01,  ...,  7.9822e-01,\n",
            "           -6.3137e-01,  5.3328e-01],\n",
            "          [-1.9565e-02, -5.6879e-01, -5.2269e-02,  ..., -9.6052e-02,\n",
            "            2.3590e-01,  3.7118e-01]],\n",
            "\n",
            "         [[-2.1315e-02,  5.3412e-01,  4.6034e-01,  ..., -9.8752e-02,\n",
            "            6.7246e-01,  6.9068e-03],\n",
            "          [ 6.7462e-01,  8.6642e-01,  1.6339e+00,  ...,  5.0939e-01,\n",
            "            8.1898e-01, -2.2876e-01],\n",
            "          [ 2.1855e-01,  1.0650e-01,  3.0274e-01,  ..., -4.6203e-01,\n",
            "            3.4506e-01, -4.7562e-01],\n",
            "          ...,\n",
            "          [ 1.1837e-01, -3.4261e-01, -1.6038e-02,  ...,  4.4527e-01,\n",
            "           -1.0111e-01, -2.8634e-01],\n",
            "          [ 2.3712e-01,  4.4487e-02,  9.7506e-02,  ...,  5.3990e-01,\n",
            "           -4.2942e-01, -1.5234e+00],\n",
            "          [ 3.8439e-01, -4.2035e-01, -3.6207e-01,  ...,  1.0422e-01,\n",
            "            1.0504e+00, -6.5699e-01]]]], grad_fn=<ConvolutionBackward0>) \n",
            " torch.Size([1, 10, 64, 64])\n"
          ]
        }
      ],
      "source": [
        "# test a single conv layer\n",
        "conv_layer = nn.Conv2d(in_channels=3,\n",
        "                       out_channels=10,\n",
        "                       kernel_size=(3,3),\n",
        "                       stride=1,\n",
        "                       padding=1)\n",
        "# pass data through\n",
        "conv_output = conv_layer(test_image.unsqueeze(0))\n",
        "print(conv_output, \"\\n\", conv_output.shape)"
      ]
    },
    {
      "cell_type": "markdown",
      "metadata": {
        "id": "MvA_1NhEIHgr"
      },
      "source": [
        "## Stepping through `nn.maxPool2d()`\n",
        "\n",
        "Basically takes max of filter area I think?"
      ]
    },
    {
      "cell_type": "code",
      "execution_count": null,
      "metadata": {
        "colab": {
          "base_uri": "https://localhost:8080/"
        },
        "id": "F2bk8CxnDAZQ",
        "outputId": "c30248a3-2d2b-4f44-efa4-3edc5f20334d"
      },
      "outputs": [
        {
          "output_type": "execute_result",
          "data": {
            "text/plain": [
              "torch.Size([3, 64, 64])"
            ]
          },
          "metadata": {},
          "execution_count": 56
        }
      ],
      "source": [
        "test_image.shape"
      ]
    },
    {
      "cell_type": "code",
      "execution_count": null,
      "metadata": {
        "colab": {
          "base_uri": "https://localhost:8080/"
        },
        "id": "nzBrnk7TIaqv",
        "outputId": "1b3e8b8a-6bfd-4c89-db80-bef3696b1d9b"
      },
      "outputs": [
        {
          "output_type": "stream",
          "name": "stdout",
          "text": [
            "Shape after conv torch.Size([1, 10, 64, 64])\n",
            "Shape after conv and pool torch.Size([1, 10, 32, 32])\n"
          ]
        }
      ],
      "source": [
        "# sample max pool layer\n",
        "max_pool_layer = nn.MaxPool2d(kernel_size=2)\n",
        "\n",
        "test_image_through_conv = conv_layer(test_image.unsqueeze(dim=0))\n",
        "print(f\"Shape after conv {test_image_through_conv.shape}\")\n",
        "\n",
        "# pass through max pool\n",
        "test_image_conv_and_pool = max_pool_layer(test_image_through_conv)\n",
        "print(f\"Shape after conv and pool {test_image_conv_and_pool.shape}\")"
      ]
    },
    {
      "cell_type": "code",
      "execution_count": null,
      "metadata": {
        "colab": {
          "base_uri": "https://localhost:8080/"
        },
        "id": "qhCVc2JwI43f",
        "outputId": "5622e712-23b3-40c8-9bff-b7b5f4216969"
      },
      "outputs": [
        {
          "output_type": "stream",
          "name": "stdout",
          "text": [
            "Random pool tensor tensor([[[[0.8823, 0.9150],\n",
            "          [0.3829, 0.9593]]]])\n",
            "Random pool tensor shape torch.Size([1, 1, 2, 2])\n",
            "Max pool tensor tensor([[[[0.9593]]]])\n",
            "Max pool tensor shape torch.Size([1, 1, 1, 1])\n"
          ]
        }
      ],
      "source": [
        "torch.manual_seed(42)\n",
        "# random tensor\n",
        "random_tensor = torch.rand(size=(1, 1, 2, 2))\n",
        "print(f\"Random pool tensor {random_tensor}\")\n",
        "print(f\"Random pool tensor shape {random_tensor.shape}\")\n",
        "\n",
        "# max pool layer\n",
        "max_pool_layer = nn.MaxPool2d(kernel_size=2)\n",
        "max_pool_tensor = max_pool_layer(random_tensor)\n",
        "\n",
        "print(f\"Max pool tensor {max_pool_tensor}\")\n",
        "print(f\"Max pool tensor shape {max_pool_tensor.shape}\")"
      ]
    },
    {
      "cell_type": "markdown",
      "metadata": {
        "id": "q7P7w_c5jQbp"
      },
      "source": [
        "Pass through dummy data through whole model for testing"
      ]
    },
    {
      "cell_type": "code",
      "execution_count": null,
      "metadata": {
        "colab": {
          "base_uri": "https://localhost:8080/"
        },
        "id": "b2XoEsP3KmT5",
        "outputId": "370ac408-151d-4d80-b52a-5c3de5e646ec"
      },
      "outputs": [
        {
          "output_type": "execute_result",
          "data": {
            "text/plain": [
              "tensor([[ 0.0330, -0.0462,  0.0494, -0.0067, -0.0493,  0.0068,  0.0440, -0.0504,\n",
              "          0.0056, -0.0581]], grad_fn=<AddmmBackward0>)"
            ]
          },
          "metadata": {},
          "execution_count": 59
        }
      ],
      "source": [
        "rand_image_tensor = torch.randn(size=(1, 28, 28))\n",
        "model_2(rand_image_tensor.unsqueeze(0))"
      ]
    },
    {
      "cell_type": "markdown",
      "metadata": {
        "id": "qud_99GjujNK"
      },
      "source": [
        "## Setup loss function and optimizer"
      ]
    },
    {
      "cell_type": "code",
      "execution_count": null,
      "metadata": {
        "id": "wXPLFT7yudse"
      },
      "outputs": [],
      "source": [
        "# Setup loss function and optimizer\n",
        "\n",
        "loss_fn = nn.CrossEntropyLoss()\n",
        "optimizer = torch.optim.SGD(params=model_2.parameters(),\n",
        "                            lr=0.1)"
      ]
    },
    {
      "cell_type": "markdown",
      "metadata": {
        "id": "LuY8cdDLvbdF"
      },
      "source": [
        "## Training and testing"
      ]
    },
    {
      "cell_type": "code",
      "execution_count": null,
      "metadata": {
        "colab": {
          "base_uri": "https://localhost:8080/",
          "height": 304,
          "referenced_widgets": [
            "0849bc1ff4e548a1b1ec53a4ad898a3e",
            "cbc4e7cd4f4240388fbb796b2bfa766c",
            "3bbcac59751c4febab05b1fa6abcfbba",
            "4aab2d475900444cb4eb5dba73d7b56d",
            "f68ae3c4e8ff45f4b1d0f9ecd1ab07a6",
            "b5a3c8f5310f426ba8a18db168901553",
            "b6058f5e2ac4462cb2b73d3392b3173f",
            "0e783335fbfd4a13bf14de258deb0ad5",
            "996a2bd1883e4f6c8509dc482ba867c4",
            "1586f410b7ce4726b811906d9bf7c177",
            "53ca4c1d68614e028bb5045a7680cb57"
          ]
        },
        "id": "s3XF79FBvTT2",
        "outputId": "4cd65af1-fb7b-4db5-a27d-db9576be7eb1"
      },
      "outputs": [
        {
          "output_type": "display_data",
          "data": {
            "text/plain": [
              "  0%|          | 0/3 [00:00<?, ?it/s]"
            ],
            "application/vnd.jupyter.widget-view+json": {
              "version_major": 2,
              "version_minor": 0,
              "model_id": "0849bc1ff4e548a1b1ec53a4ad898a3e"
            }
          },
          "metadata": {}
        },
        {
          "output_type": "stream",
          "name": "stdout",
          "text": [
            "\n",
            "Epoch 0\n",
            "Train loss 0.52635 | Train acc 81.02333%\n",
            "test loss 0.3797 | test acc 86.4217\n",
            "train time 62.606\n",
            "\n",
            "Epoch 1\n",
            "Train loss 0.34611 | Train acc 87.59333%\n",
            "test loss 0.3357 | test acc 87.8894\n",
            "train time 123.067\n",
            "\n",
            "Epoch 2\n",
            "Train loss 0.31026 | Train acc 88.88000%\n",
            "test loss 0.3052 | test acc 88.9876\n",
            "train time 183.494\n"
          ]
        }
      ],
      "source": [
        "torch.manual_seed(42)\n",
        "torch.cuda.manual_seed(42)\n",
        "\n",
        "# measure time\n",
        "from timeit import default_timer as timer\n",
        "train_start_model2 = timer()\n",
        "\n",
        "# train and test models\n",
        "epochs = 3\n",
        "for epoch in tqdm(range(epochs)):\n",
        "  print(f\"\\nEpoch {epoch}\")\n",
        "  train_step(model=model_2,\n",
        "             data_loader=train_dataloader,\n",
        "             loss_fn=loss_fn,\n",
        "             optimizer=optimizer,\n",
        "             accuracy_fn=accuracy_fn,\n",
        "             device=device)\n",
        "  test_step(model=model_2,\n",
        "            data_loader=test_dataloader,\n",
        "            loss_fn=loss_fn,\n",
        "            accuracy_fn=accuracy_fn,\n",
        "            device=device)\n",
        "  train_end_model2 = timer()\n",
        "  total_train_time_model2 = print_train_time(start=train_start_model2,\n",
        "                                             end=train_end_model2)\n"
      ]
    },
    {
      "cell_type": "code",
      "execution_count": null,
      "metadata": {
        "id": "gX78gwjR1Hhh",
        "colab": {
          "base_uri": "https://localhost:8080/"
        },
        "outputId": "0ead6b60-ada7-47ca-8142-629c8ef4244b"
      },
      "outputs": [
        {
          "output_type": "execute_result",
          "data": {
            "text/plain": [
              "{'model_name': 'FashionMNISTModelV2',\n",
              " 'model_loss': 0.30516013503074646,\n",
              " 'model_acc': 88.9876198083067}"
            ]
          },
          "metadata": {},
          "execution_count": 62
        }
      ],
      "source": [
        "# get model 2 results\n",
        "model_2_results = eval_model(\n",
        "    model=model_2,\n",
        "    data_loader=test_dataloader,\n",
        "    loss_fn=loss_fn,\n",
        "    accuracy_fn=accuracy_fn,\n",
        ")\n",
        "\n",
        "model_2_results"
      ]
    },
    {
      "cell_type": "markdown",
      "metadata": {
        "id": "UNK9dkAd1bHu"
      },
      "source": [
        "## Compare model results and training time"
      ]
    },
    {
      "cell_type": "code",
      "execution_count": null,
      "metadata": {
        "colab": {
          "base_uri": "https://localhost:8080/",
          "height": 142
        },
        "id": "Vba0DaPUwQ_w",
        "outputId": "7d4dd8e5-37c3-4321-afea-417b365d30dd"
      },
      "outputs": [
        {
          "output_type": "execute_result",
          "data": {
            "text/plain": [
              "            model_name  model_loss  model_acc\n",
              "0  FashionMNISTModelV0    0.476639  83.426518\n",
              "1  FashionMNISTModelV1    0.685001  75.019968\n",
              "2  FashionMNISTModelV2    0.305160  88.987620"
            ],
            "text/html": [
              "\n",
              "  <div id=\"df-19b4d9dd-c3bc-4807-b337-e5ce35fa2ec3\" class=\"colab-df-container\">\n",
              "    <div>\n",
              "<style scoped>\n",
              "    .dataframe tbody tr th:only-of-type {\n",
              "        vertical-align: middle;\n",
              "    }\n",
              "\n",
              "    .dataframe tbody tr th {\n",
              "        vertical-align: top;\n",
              "    }\n",
              "\n",
              "    .dataframe thead th {\n",
              "        text-align: right;\n",
              "    }\n",
              "</style>\n",
              "<table border=\"1\" class=\"dataframe\">\n",
              "  <thead>\n",
              "    <tr style=\"text-align: right;\">\n",
              "      <th></th>\n",
              "      <th>model_name</th>\n",
              "      <th>model_loss</th>\n",
              "      <th>model_acc</th>\n",
              "    </tr>\n",
              "  </thead>\n",
              "  <tbody>\n",
              "    <tr>\n",
              "      <th>0</th>\n",
              "      <td>FashionMNISTModelV0</td>\n",
              "      <td>0.476639</td>\n",
              "      <td>83.426518</td>\n",
              "    </tr>\n",
              "    <tr>\n",
              "      <th>1</th>\n",
              "      <td>FashionMNISTModelV1</td>\n",
              "      <td>0.685001</td>\n",
              "      <td>75.019968</td>\n",
              "    </tr>\n",
              "    <tr>\n",
              "      <th>2</th>\n",
              "      <td>FashionMNISTModelV2</td>\n",
              "      <td>0.305160</td>\n",
              "      <td>88.987620</td>\n",
              "    </tr>\n",
              "  </tbody>\n",
              "</table>\n",
              "</div>\n",
              "    <div class=\"colab-df-buttons\">\n",
              "\n",
              "  <div class=\"colab-df-container\">\n",
              "    <button class=\"colab-df-convert\" onclick=\"convertToInteractive('df-19b4d9dd-c3bc-4807-b337-e5ce35fa2ec3')\"\n",
              "            title=\"Convert this dataframe to an interactive table.\"\n",
              "            style=\"display:none;\">\n",
              "\n",
              "  <svg xmlns=\"http://www.w3.org/2000/svg\" height=\"24px\" viewBox=\"0 -960 960 960\">\n",
              "    <path d=\"M120-120v-720h720v720H120Zm60-500h600v-160H180v160Zm220 220h160v-160H400v160Zm0 220h160v-160H400v160ZM180-400h160v-160H180v160Zm440 0h160v-160H620v160ZM180-180h160v-160H180v160Zm440 0h160v-160H620v160Z\"/>\n",
              "  </svg>\n",
              "    </button>\n",
              "\n",
              "  <style>\n",
              "    .colab-df-container {\n",
              "      display:flex;\n",
              "      gap: 12px;\n",
              "    }\n",
              "\n",
              "    .colab-df-convert {\n",
              "      background-color: #E8F0FE;\n",
              "      border: none;\n",
              "      border-radius: 50%;\n",
              "      cursor: pointer;\n",
              "      display: none;\n",
              "      fill: #1967D2;\n",
              "      height: 32px;\n",
              "      padding: 0 0 0 0;\n",
              "      width: 32px;\n",
              "    }\n",
              "\n",
              "    .colab-df-convert:hover {\n",
              "      background-color: #E2EBFA;\n",
              "      box-shadow: 0px 1px 2px rgba(60, 64, 67, 0.3), 0px 1px 3px 1px rgba(60, 64, 67, 0.15);\n",
              "      fill: #174EA6;\n",
              "    }\n",
              "\n",
              "    .colab-df-buttons div {\n",
              "      margin-bottom: 4px;\n",
              "    }\n",
              "\n",
              "    [theme=dark] .colab-df-convert {\n",
              "      background-color: #3B4455;\n",
              "      fill: #D2E3FC;\n",
              "    }\n",
              "\n",
              "    [theme=dark] .colab-df-convert:hover {\n",
              "      background-color: #434B5C;\n",
              "      box-shadow: 0px 1px 3px 1px rgba(0, 0, 0, 0.15);\n",
              "      filter: drop-shadow(0px 1px 2px rgba(0, 0, 0, 0.3));\n",
              "      fill: #FFFFFF;\n",
              "    }\n",
              "  </style>\n",
              "\n",
              "    <script>\n",
              "      const buttonEl =\n",
              "        document.querySelector('#df-19b4d9dd-c3bc-4807-b337-e5ce35fa2ec3 button.colab-df-convert');\n",
              "      buttonEl.style.display =\n",
              "        google.colab.kernel.accessAllowed ? 'block' : 'none';\n",
              "\n",
              "      async function convertToInteractive(key) {\n",
              "        const element = document.querySelector('#df-19b4d9dd-c3bc-4807-b337-e5ce35fa2ec3');\n",
              "        const dataTable =\n",
              "          await google.colab.kernel.invokeFunction('convertToInteractive',\n",
              "                                                    [key], {});\n",
              "        if (!dataTable) return;\n",
              "\n",
              "        const docLinkHtml = 'Like what you see? Visit the ' +\n",
              "          '<a target=\"_blank\" href=https://colab.research.google.com/notebooks/data_table.ipynb>data table notebook</a>'\n",
              "          + ' to learn more about interactive tables.';\n",
              "        element.innerHTML = '';\n",
              "        dataTable['output_type'] = 'display_data';\n",
              "        await google.colab.output.renderOutput(dataTable, element);\n",
              "        const docLink = document.createElement('div');\n",
              "        docLink.innerHTML = docLinkHtml;\n",
              "        element.appendChild(docLink);\n",
              "      }\n",
              "    </script>\n",
              "  </div>\n",
              "\n",
              "\n",
              "<div id=\"df-3309611d-2be4-4a8d-b4af-3732a49c9555\">\n",
              "  <button class=\"colab-df-quickchart\" onclick=\"quickchart('df-3309611d-2be4-4a8d-b4af-3732a49c9555')\"\n",
              "            title=\"Suggest charts\"\n",
              "            style=\"display:none;\">\n",
              "\n",
              "<svg xmlns=\"http://www.w3.org/2000/svg\" height=\"24px\"viewBox=\"0 0 24 24\"\n",
              "     width=\"24px\">\n",
              "    <g>\n",
              "        <path d=\"M19 3H5c-1.1 0-2 .9-2 2v14c0 1.1.9 2 2 2h14c1.1 0 2-.9 2-2V5c0-1.1-.9-2-2-2zM9 17H7v-7h2v7zm4 0h-2V7h2v10zm4 0h-2v-4h2v4z\"/>\n",
              "    </g>\n",
              "</svg>\n",
              "  </button>\n",
              "\n",
              "<style>\n",
              "  .colab-df-quickchart {\n",
              "      --bg-color: #E8F0FE;\n",
              "      --fill-color: #1967D2;\n",
              "      --hover-bg-color: #E2EBFA;\n",
              "      --hover-fill-color: #174EA6;\n",
              "      --disabled-fill-color: #AAA;\n",
              "      --disabled-bg-color: #DDD;\n",
              "  }\n",
              "\n",
              "  [theme=dark] .colab-df-quickchart {\n",
              "      --bg-color: #3B4455;\n",
              "      --fill-color: #D2E3FC;\n",
              "      --hover-bg-color: #434B5C;\n",
              "      --hover-fill-color: #FFFFFF;\n",
              "      --disabled-bg-color: #3B4455;\n",
              "      --disabled-fill-color: #666;\n",
              "  }\n",
              "\n",
              "  .colab-df-quickchart {\n",
              "    background-color: var(--bg-color);\n",
              "    border: none;\n",
              "    border-radius: 50%;\n",
              "    cursor: pointer;\n",
              "    display: none;\n",
              "    fill: var(--fill-color);\n",
              "    height: 32px;\n",
              "    padding: 0;\n",
              "    width: 32px;\n",
              "  }\n",
              "\n",
              "  .colab-df-quickchart:hover {\n",
              "    background-color: var(--hover-bg-color);\n",
              "    box-shadow: 0 1px 2px rgba(60, 64, 67, 0.3), 0 1px 3px 1px rgba(60, 64, 67, 0.15);\n",
              "    fill: var(--button-hover-fill-color);\n",
              "  }\n",
              "\n",
              "  .colab-df-quickchart-complete:disabled,\n",
              "  .colab-df-quickchart-complete:disabled:hover {\n",
              "    background-color: var(--disabled-bg-color);\n",
              "    fill: var(--disabled-fill-color);\n",
              "    box-shadow: none;\n",
              "  }\n",
              "\n",
              "  .colab-df-spinner {\n",
              "    border: 2px solid var(--fill-color);\n",
              "    border-color: transparent;\n",
              "    border-bottom-color: var(--fill-color);\n",
              "    animation:\n",
              "      spin 1s steps(1) infinite;\n",
              "  }\n",
              "\n",
              "  @keyframes spin {\n",
              "    0% {\n",
              "      border-color: transparent;\n",
              "      border-bottom-color: var(--fill-color);\n",
              "      border-left-color: var(--fill-color);\n",
              "    }\n",
              "    20% {\n",
              "      border-color: transparent;\n",
              "      border-left-color: var(--fill-color);\n",
              "      border-top-color: var(--fill-color);\n",
              "    }\n",
              "    30% {\n",
              "      border-color: transparent;\n",
              "      border-left-color: var(--fill-color);\n",
              "      border-top-color: var(--fill-color);\n",
              "      border-right-color: var(--fill-color);\n",
              "    }\n",
              "    40% {\n",
              "      border-color: transparent;\n",
              "      border-right-color: var(--fill-color);\n",
              "      border-top-color: var(--fill-color);\n",
              "    }\n",
              "    60% {\n",
              "      border-color: transparent;\n",
              "      border-right-color: var(--fill-color);\n",
              "    }\n",
              "    80% {\n",
              "      border-color: transparent;\n",
              "      border-right-color: var(--fill-color);\n",
              "      border-bottom-color: var(--fill-color);\n",
              "    }\n",
              "    90% {\n",
              "      border-color: transparent;\n",
              "      border-bottom-color: var(--fill-color);\n",
              "    }\n",
              "  }\n",
              "</style>\n",
              "\n",
              "  <script>\n",
              "    async function quickchart(key) {\n",
              "      const quickchartButtonEl =\n",
              "        document.querySelector('#' + key + ' button');\n",
              "      quickchartButtonEl.disabled = true;  // To prevent multiple clicks.\n",
              "      quickchartButtonEl.classList.add('colab-df-spinner');\n",
              "      try {\n",
              "        const charts = await google.colab.kernel.invokeFunction(\n",
              "            'suggestCharts', [key], {});\n",
              "      } catch (error) {\n",
              "        console.error('Error during call to suggestCharts:', error);\n",
              "      }\n",
              "      quickchartButtonEl.classList.remove('colab-df-spinner');\n",
              "      quickchartButtonEl.classList.add('colab-df-quickchart-complete');\n",
              "    }\n",
              "    (() => {\n",
              "      let quickchartButtonEl =\n",
              "        document.querySelector('#df-3309611d-2be4-4a8d-b4af-3732a49c9555 button');\n",
              "      quickchartButtonEl.style.display =\n",
              "        google.colab.kernel.accessAllowed ? 'block' : 'none';\n",
              "    })();\n",
              "  </script>\n",
              "</div>\n",
              "\n",
              "  <div id=\"id_e517ae32-c4b4-4c24-9572-7acbf170a924\">\n",
              "    <style>\n",
              "      .colab-df-generate {\n",
              "        background-color: #E8F0FE;\n",
              "        border: none;\n",
              "        border-radius: 50%;\n",
              "        cursor: pointer;\n",
              "        display: none;\n",
              "        fill: #1967D2;\n",
              "        height: 32px;\n",
              "        padding: 0 0 0 0;\n",
              "        width: 32px;\n",
              "      }\n",
              "\n",
              "      .colab-df-generate:hover {\n",
              "        background-color: #E2EBFA;\n",
              "        box-shadow: 0px 1px 2px rgba(60, 64, 67, 0.3), 0px 1px 3px 1px rgba(60, 64, 67, 0.15);\n",
              "        fill: #174EA6;\n",
              "      }\n",
              "\n",
              "      [theme=dark] .colab-df-generate {\n",
              "        background-color: #3B4455;\n",
              "        fill: #D2E3FC;\n",
              "      }\n",
              "\n",
              "      [theme=dark] .colab-df-generate:hover {\n",
              "        background-color: #434B5C;\n",
              "        box-shadow: 0px 1px 3px 1px rgba(0, 0, 0, 0.15);\n",
              "        filter: drop-shadow(0px 1px 2px rgba(0, 0, 0, 0.3));\n",
              "        fill: #FFFFFF;\n",
              "      }\n",
              "    </style>\n",
              "    <button class=\"colab-df-generate\" onclick=\"generateWithVariable('compare_results')\"\n",
              "            title=\"Generate code using this dataframe.\"\n",
              "            style=\"display:none;\">\n",
              "\n",
              "  <svg xmlns=\"http://www.w3.org/2000/svg\" height=\"24px\"viewBox=\"0 0 24 24\"\n",
              "       width=\"24px\">\n",
              "    <path d=\"M7,19H8.4L18.45,9,17,7.55,7,17.6ZM5,21V16.75L18.45,3.32a2,2,0,0,1,2.83,0l1.4,1.43a1.91,1.91,0,0,1,.58,1.4,1.91,1.91,0,0,1-.58,1.4L9.25,21ZM18.45,9,17,7.55Zm-12,3A5.31,5.31,0,0,0,4.9,8.1,5.31,5.31,0,0,0,1,6.5,5.31,5.31,0,0,0,4.9,4.9,5.31,5.31,0,0,0,6.5,1,5.31,5.31,0,0,0,8.1,4.9,5.31,5.31,0,0,0,12,6.5,5.46,5.46,0,0,0,6.5,12Z\"/>\n",
              "  </svg>\n",
              "    </button>\n",
              "    <script>\n",
              "      (() => {\n",
              "      const buttonEl =\n",
              "        document.querySelector('#id_e517ae32-c4b4-4c24-9572-7acbf170a924 button.colab-df-generate');\n",
              "      buttonEl.style.display =\n",
              "        google.colab.kernel.accessAllowed ? 'block' : 'none';\n",
              "\n",
              "      buttonEl.onclick = () => {\n",
              "        google.colab.notebook.generateWithVariable('compare_results');\n",
              "      }\n",
              "      })();\n",
              "    </script>\n",
              "  </div>\n",
              "\n",
              "    </div>\n",
              "  </div>\n"
            ],
            "application/vnd.google.colaboratory.intrinsic+json": {
              "type": "dataframe",
              "variable_name": "compare_results",
              "summary": "{\n  \"name\": \"compare_results\",\n  \"rows\": 3,\n  \"fields\": [\n    {\n      \"column\": \"model_name\",\n      \"properties\": {\n        \"dtype\": \"string\",\n        \"num_unique_values\": 3,\n        \"samples\": [\n          \"FashionMNISTModelV0\",\n          \"FashionMNISTModelV1\",\n          \"FashionMNISTModelV2\"\n        ],\n        \"semantic_type\": \"\",\n        \"description\": \"\"\n      }\n    },\n    {\n      \"column\": \"model_loss\",\n      \"properties\": {\n        \"dtype\": \"number\",\n        \"std\": 0.19021862833354178,\n        \"min\": 0.30516013503074646,\n        \"max\": 0.6850009560585022,\n        \"num_unique_values\": 3,\n        \"samples\": [\n          0.47663894295692444,\n          0.6850009560585022,\n          0.30516013503074646\n        ],\n        \"semantic_type\": \"\",\n        \"description\": \"\"\n      }\n    },\n    {\n      \"column\": \"model_acc\",\n      \"properties\": {\n        \"dtype\": \"number\",\n        \"std\": 7.031965449990131,\n        \"min\": 75.01996805111821,\n        \"max\": 88.9876198083067,\n        \"num_unique_values\": 3,\n        \"samples\": [\n          83.42651757188499,\n          75.01996805111821,\n          88.9876198083067\n        ],\n        \"semantic_type\": \"\",\n        \"description\": \"\"\n      }\n    }\n  ]\n}"
            }
          },
          "metadata": {},
          "execution_count": 63
        }
      ],
      "source": [
        "import pandas as pd\n",
        "compare_results = pd.DataFrame([model_0_results,\n",
        "                                model_1_results,\n",
        "                                model_2_results])\n",
        "\n",
        "compare_results"
      ]
    },
    {
      "cell_type": "code",
      "source": [
        "compare_results[\"training_time\"] = [total_train_time_model_0,\n",
        "                                    model_1_time,\n",
        "                                    total_train_time_model2]\n",
        "compare_results"
      ],
      "metadata": {
        "colab": {
          "base_uri": "https://localhost:8080/",
          "height": 142
        },
        "id": "ulAhSIIX4pi8",
        "outputId": "849f3d53-9c9a-4799-9621-eed4b626eb9b"
      },
      "execution_count": null,
      "outputs": [
        {
          "output_type": "execute_result",
          "data": {
            "text/plain": [
              "            model_name  model_loss  model_acc  training_time\n",
              "0  FashionMNISTModelV0    0.476639  83.426518      41.916186\n",
              "1  FashionMNISTModelV1    0.685001  75.019968      40.921578\n",
              "2  FashionMNISTModelV2    0.305160  88.987620     183.493920"
            ],
            "text/html": [
              "\n",
              "  <div id=\"df-686b276f-3878-4c9a-bd4b-d02444db6d9b\" class=\"colab-df-container\">\n",
              "    <div>\n",
              "<style scoped>\n",
              "    .dataframe tbody tr th:only-of-type {\n",
              "        vertical-align: middle;\n",
              "    }\n",
              "\n",
              "    .dataframe tbody tr th {\n",
              "        vertical-align: top;\n",
              "    }\n",
              "\n",
              "    .dataframe thead th {\n",
              "        text-align: right;\n",
              "    }\n",
              "</style>\n",
              "<table border=\"1\" class=\"dataframe\">\n",
              "  <thead>\n",
              "    <tr style=\"text-align: right;\">\n",
              "      <th></th>\n",
              "      <th>model_name</th>\n",
              "      <th>model_loss</th>\n",
              "      <th>model_acc</th>\n",
              "      <th>training_time</th>\n",
              "    </tr>\n",
              "  </thead>\n",
              "  <tbody>\n",
              "    <tr>\n",
              "      <th>0</th>\n",
              "      <td>FashionMNISTModelV0</td>\n",
              "      <td>0.476639</td>\n",
              "      <td>83.426518</td>\n",
              "      <td>41.916186</td>\n",
              "    </tr>\n",
              "    <tr>\n",
              "      <th>1</th>\n",
              "      <td>FashionMNISTModelV1</td>\n",
              "      <td>0.685001</td>\n",
              "      <td>75.019968</td>\n",
              "      <td>40.921578</td>\n",
              "    </tr>\n",
              "    <tr>\n",
              "      <th>2</th>\n",
              "      <td>FashionMNISTModelV2</td>\n",
              "      <td>0.305160</td>\n",
              "      <td>88.987620</td>\n",
              "      <td>183.493920</td>\n",
              "    </tr>\n",
              "  </tbody>\n",
              "</table>\n",
              "</div>\n",
              "    <div class=\"colab-df-buttons\">\n",
              "\n",
              "  <div class=\"colab-df-container\">\n",
              "    <button class=\"colab-df-convert\" onclick=\"convertToInteractive('df-686b276f-3878-4c9a-bd4b-d02444db6d9b')\"\n",
              "            title=\"Convert this dataframe to an interactive table.\"\n",
              "            style=\"display:none;\">\n",
              "\n",
              "  <svg xmlns=\"http://www.w3.org/2000/svg\" height=\"24px\" viewBox=\"0 -960 960 960\">\n",
              "    <path d=\"M120-120v-720h720v720H120Zm60-500h600v-160H180v160Zm220 220h160v-160H400v160Zm0 220h160v-160H400v160ZM180-400h160v-160H180v160Zm440 0h160v-160H620v160ZM180-180h160v-160H180v160Zm440 0h160v-160H620v160Z\"/>\n",
              "  </svg>\n",
              "    </button>\n",
              "\n",
              "  <style>\n",
              "    .colab-df-container {\n",
              "      display:flex;\n",
              "      gap: 12px;\n",
              "    }\n",
              "\n",
              "    .colab-df-convert {\n",
              "      background-color: #E8F0FE;\n",
              "      border: none;\n",
              "      border-radius: 50%;\n",
              "      cursor: pointer;\n",
              "      display: none;\n",
              "      fill: #1967D2;\n",
              "      height: 32px;\n",
              "      padding: 0 0 0 0;\n",
              "      width: 32px;\n",
              "    }\n",
              "\n",
              "    .colab-df-convert:hover {\n",
              "      background-color: #E2EBFA;\n",
              "      box-shadow: 0px 1px 2px rgba(60, 64, 67, 0.3), 0px 1px 3px 1px rgba(60, 64, 67, 0.15);\n",
              "      fill: #174EA6;\n",
              "    }\n",
              "\n",
              "    .colab-df-buttons div {\n",
              "      margin-bottom: 4px;\n",
              "    }\n",
              "\n",
              "    [theme=dark] .colab-df-convert {\n",
              "      background-color: #3B4455;\n",
              "      fill: #D2E3FC;\n",
              "    }\n",
              "\n",
              "    [theme=dark] .colab-df-convert:hover {\n",
              "      background-color: #434B5C;\n",
              "      box-shadow: 0px 1px 3px 1px rgba(0, 0, 0, 0.15);\n",
              "      filter: drop-shadow(0px 1px 2px rgba(0, 0, 0, 0.3));\n",
              "      fill: #FFFFFF;\n",
              "    }\n",
              "  </style>\n",
              "\n",
              "    <script>\n",
              "      const buttonEl =\n",
              "        document.querySelector('#df-686b276f-3878-4c9a-bd4b-d02444db6d9b button.colab-df-convert');\n",
              "      buttonEl.style.display =\n",
              "        google.colab.kernel.accessAllowed ? 'block' : 'none';\n",
              "\n",
              "      async function convertToInteractive(key) {\n",
              "        const element = document.querySelector('#df-686b276f-3878-4c9a-bd4b-d02444db6d9b');\n",
              "        const dataTable =\n",
              "          await google.colab.kernel.invokeFunction('convertToInteractive',\n",
              "                                                    [key], {});\n",
              "        if (!dataTable) return;\n",
              "\n",
              "        const docLinkHtml = 'Like what you see? Visit the ' +\n",
              "          '<a target=\"_blank\" href=https://colab.research.google.com/notebooks/data_table.ipynb>data table notebook</a>'\n",
              "          + ' to learn more about interactive tables.';\n",
              "        element.innerHTML = '';\n",
              "        dataTable['output_type'] = 'display_data';\n",
              "        await google.colab.output.renderOutput(dataTable, element);\n",
              "        const docLink = document.createElement('div');\n",
              "        docLink.innerHTML = docLinkHtml;\n",
              "        element.appendChild(docLink);\n",
              "      }\n",
              "    </script>\n",
              "  </div>\n",
              "\n",
              "\n",
              "<div id=\"df-6025e949-898f-46f6-96fa-9cf1e805c649\">\n",
              "  <button class=\"colab-df-quickchart\" onclick=\"quickchart('df-6025e949-898f-46f6-96fa-9cf1e805c649')\"\n",
              "            title=\"Suggest charts\"\n",
              "            style=\"display:none;\">\n",
              "\n",
              "<svg xmlns=\"http://www.w3.org/2000/svg\" height=\"24px\"viewBox=\"0 0 24 24\"\n",
              "     width=\"24px\">\n",
              "    <g>\n",
              "        <path d=\"M19 3H5c-1.1 0-2 .9-2 2v14c0 1.1.9 2 2 2h14c1.1 0 2-.9 2-2V5c0-1.1-.9-2-2-2zM9 17H7v-7h2v7zm4 0h-2V7h2v10zm4 0h-2v-4h2v4z\"/>\n",
              "    </g>\n",
              "</svg>\n",
              "  </button>\n",
              "\n",
              "<style>\n",
              "  .colab-df-quickchart {\n",
              "      --bg-color: #E8F0FE;\n",
              "      --fill-color: #1967D2;\n",
              "      --hover-bg-color: #E2EBFA;\n",
              "      --hover-fill-color: #174EA6;\n",
              "      --disabled-fill-color: #AAA;\n",
              "      --disabled-bg-color: #DDD;\n",
              "  }\n",
              "\n",
              "  [theme=dark] .colab-df-quickchart {\n",
              "      --bg-color: #3B4455;\n",
              "      --fill-color: #D2E3FC;\n",
              "      --hover-bg-color: #434B5C;\n",
              "      --hover-fill-color: #FFFFFF;\n",
              "      --disabled-bg-color: #3B4455;\n",
              "      --disabled-fill-color: #666;\n",
              "  }\n",
              "\n",
              "  .colab-df-quickchart {\n",
              "    background-color: var(--bg-color);\n",
              "    border: none;\n",
              "    border-radius: 50%;\n",
              "    cursor: pointer;\n",
              "    display: none;\n",
              "    fill: var(--fill-color);\n",
              "    height: 32px;\n",
              "    padding: 0;\n",
              "    width: 32px;\n",
              "  }\n",
              "\n",
              "  .colab-df-quickchart:hover {\n",
              "    background-color: var(--hover-bg-color);\n",
              "    box-shadow: 0 1px 2px rgba(60, 64, 67, 0.3), 0 1px 3px 1px rgba(60, 64, 67, 0.15);\n",
              "    fill: var(--button-hover-fill-color);\n",
              "  }\n",
              "\n",
              "  .colab-df-quickchart-complete:disabled,\n",
              "  .colab-df-quickchart-complete:disabled:hover {\n",
              "    background-color: var(--disabled-bg-color);\n",
              "    fill: var(--disabled-fill-color);\n",
              "    box-shadow: none;\n",
              "  }\n",
              "\n",
              "  .colab-df-spinner {\n",
              "    border: 2px solid var(--fill-color);\n",
              "    border-color: transparent;\n",
              "    border-bottom-color: var(--fill-color);\n",
              "    animation:\n",
              "      spin 1s steps(1) infinite;\n",
              "  }\n",
              "\n",
              "  @keyframes spin {\n",
              "    0% {\n",
              "      border-color: transparent;\n",
              "      border-bottom-color: var(--fill-color);\n",
              "      border-left-color: var(--fill-color);\n",
              "    }\n",
              "    20% {\n",
              "      border-color: transparent;\n",
              "      border-left-color: var(--fill-color);\n",
              "      border-top-color: var(--fill-color);\n",
              "    }\n",
              "    30% {\n",
              "      border-color: transparent;\n",
              "      border-left-color: var(--fill-color);\n",
              "      border-top-color: var(--fill-color);\n",
              "      border-right-color: var(--fill-color);\n",
              "    }\n",
              "    40% {\n",
              "      border-color: transparent;\n",
              "      border-right-color: var(--fill-color);\n",
              "      border-top-color: var(--fill-color);\n",
              "    }\n",
              "    60% {\n",
              "      border-color: transparent;\n",
              "      border-right-color: var(--fill-color);\n",
              "    }\n",
              "    80% {\n",
              "      border-color: transparent;\n",
              "      border-right-color: var(--fill-color);\n",
              "      border-bottom-color: var(--fill-color);\n",
              "    }\n",
              "    90% {\n",
              "      border-color: transparent;\n",
              "      border-bottom-color: var(--fill-color);\n",
              "    }\n",
              "  }\n",
              "</style>\n",
              "\n",
              "  <script>\n",
              "    async function quickchart(key) {\n",
              "      const quickchartButtonEl =\n",
              "        document.querySelector('#' + key + ' button');\n",
              "      quickchartButtonEl.disabled = true;  // To prevent multiple clicks.\n",
              "      quickchartButtonEl.classList.add('colab-df-spinner');\n",
              "      try {\n",
              "        const charts = await google.colab.kernel.invokeFunction(\n",
              "            'suggestCharts', [key], {});\n",
              "      } catch (error) {\n",
              "        console.error('Error during call to suggestCharts:', error);\n",
              "      }\n",
              "      quickchartButtonEl.classList.remove('colab-df-spinner');\n",
              "      quickchartButtonEl.classList.add('colab-df-quickchart-complete');\n",
              "    }\n",
              "    (() => {\n",
              "      let quickchartButtonEl =\n",
              "        document.querySelector('#df-6025e949-898f-46f6-96fa-9cf1e805c649 button');\n",
              "      quickchartButtonEl.style.display =\n",
              "        google.colab.kernel.accessAllowed ? 'block' : 'none';\n",
              "    })();\n",
              "  </script>\n",
              "</div>\n",
              "\n",
              "  <div id=\"id_3efb6b21-8c73-4353-b652-0c44e8df52ef\">\n",
              "    <style>\n",
              "      .colab-df-generate {\n",
              "        background-color: #E8F0FE;\n",
              "        border: none;\n",
              "        border-radius: 50%;\n",
              "        cursor: pointer;\n",
              "        display: none;\n",
              "        fill: #1967D2;\n",
              "        height: 32px;\n",
              "        padding: 0 0 0 0;\n",
              "        width: 32px;\n",
              "      }\n",
              "\n",
              "      .colab-df-generate:hover {\n",
              "        background-color: #E2EBFA;\n",
              "        box-shadow: 0px 1px 2px rgba(60, 64, 67, 0.3), 0px 1px 3px 1px rgba(60, 64, 67, 0.15);\n",
              "        fill: #174EA6;\n",
              "      }\n",
              "\n",
              "      [theme=dark] .colab-df-generate {\n",
              "        background-color: #3B4455;\n",
              "        fill: #D2E3FC;\n",
              "      }\n",
              "\n",
              "      [theme=dark] .colab-df-generate:hover {\n",
              "        background-color: #434B5C;\n",
              "        box-shadow: 0px 1px 3px 1px rgba(0, 0, 0, 0.15);\n",
              "        filter: drop-shadow(0px 1px 2px rgba(0, 0, 0, 0.3));\n",
              "        fill: #FFFFFF;\n",
              "      }\n",
              "    </style>\n",
              "    <button class=\"colab-df-generate\" onclick=\"generateWithVariable('compare_results')\"\n",
              "            title=\"Generate code using this dataframe.\"\n",
              "            style=\"display:none;\">\n",
              "\n",
              "  <svg xmlns=\"http://www.w3.org/2000/svg\" height=\"24px\"viewBox=\"0 0 24 24\"\n",
              "       width=\"24px\">\n",
              "    <path d=\"M7,19H8.4L18.45,9,17,7.55,7,17.6ZM5,21V16.75L18.45,3.32a2,2,0,0,1,2.83,0l1.4,1.43a1.91,1.91,0,0,1,.58,1.4,1.91,1.91,0,0,1-.58,1.4L9.25,21ZM18.45,9,17,7.55Zm-12,3A5.31,5.31,0,0,0,4.9,8.1,5.31,5.31,0,0,0,1,6.5,5.31,5.31,0,0,0,4.9,4.9,5.31,5.31,0,0,0,6.5,1,5.31,5.31,0,0,0,8.1,4.9,5.31,5.31,0,0,0,12,6.5,5.46,5.46,0,0,0,6.5,12Z\"/>\n",
              "  </svg>\n",
              "    </button>\n",
              "    <script>\n",
              "      (() => {\n",
              "      const buttonEl =\n",
              "        document.querySelector('#id_3efb6b21-8c73-4353-b652-0c44e8df52ef button.colab-df-generate');\n",
              "      buttonEl.style.display =\n",
              "        google.colab.kernel.accessAllowed ? 'block' : 'none';\n",
              "\n",
              "      buttonEl.onclick = () => {\n",
              "        google.colab.notebook.generateWithVariable('compare_results');\n",
              "      }\n",
              "      })();\n",
              "    </script>\n",
              "  </div>\n",
              "\n",
              "    </div>\n",
              "  </div>\n"
            ],
            "application/vnd.google.colaboratory.intrinsic+json": {
              "type": "dataframe",
              "variable_name": "compare_results",
              "summary": "{\n  \"name\": \"compare_results\",\n  \"rows\": 3,\n  \"fields\": [\n    {\n      \"column\": \"model_name\",\n      \"properties\": {\n        \"dtype\": \"string\",\n        \"num_unique_values\": 3,\n        \"samples\": [\n          \"FashionMNISTModelV0\",\n          \"FashionMNISTModelV1\",\n          \"FashionMNISTModelV2\"\n        ],\n        \"semantic_type\": \"\",\n        \"description\": \"\"\n      }\n    },\n    {\n      \"column\": \"model_loss\",\n      \"properties\": {\n        \"dtype\": \"number\",\n        \"std\": 0.19021862833354178,\n        \"min\": 0.30516013503074646,\n        \"max\": 0.6850009560585022,\n        \"num_unique_values\": 3,\n        \"samples\": [\n          0.47663894295692444,\n          0.6850009560585022,\n          0.30516013503074646\n        ],\n        \"semantic_type\": \"\",\n        \"description\": \"\"\n      }\n    },\n    {\n      \"column\": \"model_acc\",\n      \"properties\": {\n        \"dtype\": \"number\",\n        \"std\": 7.031965449990131,\n        \"min\": 75.01996805111821,\n        \"max\": 88.9876198083067,\n        \"num_unique_values\": 3,\n        \"samples\": [\n          83.42651757188499,\n          75.01996805111821,\n          88.9876198083067\n        ],\n        \"semantic_type\": \"\",\n        \"description\": \"\"\n      }\n    },\n    {\n      \"column\": \"training_time\",\n      \"properties\": {\n        \"dtype\": \"number\",\n        \"std\": 82.02856865332132,\n        \"min\": 40.92157809699984,\n        \"max\": 183.49391968400005,\n        \"num_unique_values\": 3,\n        \"samples\": [\n          41.91618619099995,\n          40.92157809699984,\n          183.49391968400005\n        ],\n        \"semantic_type\": \"\",\n        \"description\": \"\"\n      }\n    }\n  ]\n}"
            }
          },
          "metadata": {},
          "execution_count": 64
        }
      ]
    },
    {
      "cell_type": "markdown",
      "source": [
        "## Make and evaluate random predictions with best model"
      ],
      "metadata": {
        "id": "VmvhCCKr7MI-"
      }
    },
    {
      "cell_type": "code",
      "source": [
        "def make_predictions(model: torch.nn.Module,\n",
        "                     data:list,\n",
        "                     device: torch.device = device):\n",
        "  pred_probs = []\n",
        "  model.eval()\n",
        "  with torch.inference_mode():\n",
        "    for sample in data:\n",
        "      # prepare sample and pass to device\n",
        "      sample = torch.unsqueeze(sample, dim=0).to(device)\n",
        "\n",
        "      # forward pass\n",
        "      pred_logit = model(sample)\n",
        "\n",
        "      # get prediction probs\n",
        "      pred_prob = torch.softmax(pred_logit.squeeze(), dim=0)\n",
        "\n",
        "      pred_probs.append(pred_prob.cpu())\n",
        "\n",
        "  return torch.stack(pred_probs)"
      ],
      "metadata": {
        "id": "EPF8jTsR7PZi"
      },
      "execution_count": null,
      "outputs": []
    },
    {
      "cell_type": "code",
      "source": [
        "import random\n",
        "random.seed(42)\n",
        "\n",
        "test_samples = []\n",
        "test_labels = []\n",
        "\n",
        "for sample, label in random.sample(list(test_data), k=9):\n",
        "  test_samples.append(sample)\n",
        "  test_labels.append(label)\n",
        "\n",
        "print(test_samples[0].shape, class_names[test_labels[0]])"
      ],
      "metadata": {
        "colab": {
          "base_uri": "https://localhost:8080/"
        },
        "id": "HouhfxlK75yr",
        "outputId": "7a37ce81-8699-4a0f-fd83-0167819a5314"
      },
      "execution_count": null,
      "outputs": [
        {
          "output_type": "stream",
          "name": "stdout",
          "text": [
            "torch.Size([1, 28, 28]) Sandal\n"
          ]
        }
      ]
    },
    {
      "cell_type": "code",
      "source": [
        "# make predictions\n",
        "pred_probs = make_predictions(model=model_2,\n",
        "                              data=test_samples)\n",
        "\n",
        "# view first 2 predcition probabilities\n",
        "pred_probs[:2]"
      ],
      "metadata": {
        "colab": {
          "base_uri": "https://localhost:8080/"
        },
        "id": "9oxu5uqH8Sx6",
        "outputId": "5ac1dd3e-be9a-44de-f65d-3a0504effbb6"
      },
      "execution_count": null,
      "outputs": [
        {
          "output_type": "execute_result",
          "data": {
            "text/plain": [
              "tensor([[3.1545e-08, 3.5573e-10, 3.4101e-08, 1.6605e-09, 3.9623e-09, 9.9998e-01,\n",
              "         6.9774e-07, 4.0546e-07, 6.6000e-07, 1.8525e-05],\n",
              "        [7.0301e-02, 2.4456e-01, 1.0362e-03, 6.3726e-01, 8.4213e-03, 3.8376e-05,\n",
              "         3.5947e-02, 1.9549e-03, 9.2847e-05, 3.9006e-04]])"
            ]
          },
          "metadata": {},
          "execution_count": 77
        }
      ]
    },
    {
      "cell_type": "code",
      "source": [
        "# convert prediction probabilities to labels\n",
        "pred_classes = pred_probs.argmax(dim=1)\n",
        "pred_classes, test_labels"
      ],
      "metadata": {
        "colab": {
          "base_uri": "https://localhost:8080/"
        },
        "id": "NKJyV6B78yY8",
        "outputId": "429a94cf-190c-4c87-9db1-f9d61dae7486"
      },
      "execution_count": null,
      "outputs": [
        {
          "output_type": "execute_result",
          "data": {
            "text/plain": [
              "(tensor([5, 3, 7, 4, 3, 0, 4, 7, 1]), [5, 1, 7, 4, 3, 0, 4, 7, 1])"
            ]
          },
          "metadata": {},
          "execution_count": 78
        }
      ]
    },
    {
      "cell_type": "code",
      "source": [
        "# plot predictions\n",
        "plt.figure(figsize=(9, 9))\n",
        "nrows = 3\n",
        "ncols = 3\n",
        "\n",
        "for i, sample in enumerate(test_samples):\n",
        "  # create subplot\n",
        "  plt.subplot(nrows, ncols, i+1)\n",
        "\n",
        "  # plot target image\n",
        "  plt.imshow(sample.squeeze(), cmap=\"gray\")\n",
        "\n",
        "  # get prediction label\n",
        "  pred_label = class_names[pred_classes[i]]\n",
        "\n",
        "  # get truth label\n",
        "  truth_label = class_names[test_labels[i]]\n",
        "\n",
        "  # title for plot\n",
        "  title_text = f\"Pred {pred_label} | Truth {truth_label}\"\n",
        "  if pred_label == truth_label:\n",
        "    plt.title(title_text, fontsize = 10, c=\"g\")\n",
        "  else:\n",
        "    plt.title(title_text, fontsize = 10, c=\"r\")"
      ],
      "metadata": {
        "colab": {
          "base_uri": "https://localhost:8080/",
          "height": 646
        },
        "id": "x6GO_vEj9Ddg",
        "outputId": "487d0528-bf38-4efe-d432-404b9b993611"
      },
      "execution_count": null,
      "outputs": [
        {
          "output_type": "display_data",
          "data": {
            "text/plain": [
              "<Figure size 900x900 with 9 Axes>"
            ],
            "image/png": "[encoded data removed]"
          },
          "metadata": {}
        }
      ]
    },
    {
      "cell_type": "markdown",
      "source": [
        "## Make confusion matrix for further evaluation\n",
        "\n",
        "Good sample code here: https://rasbt.github.io/mlxtend/user_guide/plotting/plot_confusion_matrix/"
      ],
      "metadata": {
        "id": "-RYmZUFWAUME"
      }
    },
    {
      "cell_type": "code",
      "source": [
        "from tqdm.auto import tqdm\n",
        "\n",
        "# make predictions with trained model for all test data\n",
        "y_preds = []\n",
        "model_2.eval()\n",
        "with torch.inference_mode():\n",
        "  for X, y in tqdm(test_dataloader, desc=\"Predictions\"):\n",
        "    X, y = X.to(device), y.to(device)\n",
        "    # forward pass\n",
        "    y_logit = model_2(X)\n",
        "    # get prediction probs\n",
        "    y_pred = torch.softmax(y_logit.squeeze(), dim=0).argmax(dim=1)\n",
        "    y_preds.append(y_pred.cpu())\n",
        "\n",
        "print(y_preds)\n",
        "y_pred_tensor = torch.cat(y_preds)\n",
        "y_pred_tensor[:10]\n"
      ],
      "metadata": {
        "colab": {
          "base_uri": "https://localhost:8080/",
          "height": 1000,
          "referenced_widgets": [
            "45df5b7eec8b423985df2ec0a967f956",
            "7f651ca295544f0089fdc245ea118934",
            "3fd04cd74af648cd88a5689057002b50",
            "13b9bac42b294163bb90011f2092fd8c",
            "23150c0d3969485ca7c0bf02a3273872",
            "9021ef279cdd4ba6a2623a936c99ce95",
            "d5e4b98b7c174dc1863a755b685fd06d",
            "f0d824937f8742ec8bf07b25d5056d8c",
            "e81b93b380214be9afcdce1a95771d9c",
            "72791d0e43b4401387854f56562cee70",
            "33769222c44c4d5c8b929b3b825913d5"
          ]
        },
        "id": "WncRffLM_LU1",
        "outputId": "65c400ea-ede9-47df-a838-ad99c5a31f8c"
      },
      "execution_count": null,
      "outputs": [
        {
          "output_type": "display_data",
          "data": {
            "text/plain": [
              "Predictions:   0%|          | 0/313 [00:00<?, ?it/s]"
            ],
            "application/vnd.jupyter.widget-view+json": {
              "version_major": 2,
              "version_minor": 0,
              "model_id": "45df5b7eec8b423985df2ec0a967f956"
            }
          },
          "metadata": {}
        },
        {
          "output_type": "stream",
          "name": "stdout",
          "text": [
            "[tensor([9, 2, 1, 1, 6, 1, 4, 6, 5, 7, 4, 5, 5, 3, 4, 1, 2, 6, 8, 0, 2, 5, 7, 5,\n",
            "        1, 6, 6, 0, 9, 3, 8, 8]), tensor([3, 3, 8, 0, 7, 5, 7, 9, 6, 1, 3, 7, 6, 7, 2, 1, 4, 6, 4, 6, 5, 8, 2, 2,\n",
            "        8, 4, 8, 0, 7, 7, 8, 5]), tensor([1, 3, 3, 4, 7, 8, 7, 0, 2, 6, 4, 3, 1, 2, 8, 4, 3, 8, 5, 9, 5, 0, 3, 2,\n",
            "        0, 2, 5, 3, 6, 7, 1, 8]), tensor([0, 1, 6, 2, 3, 6, 7, 6, 7, 8, 5, 7, 9, 4, 2, 5, 7, 0, 5, 2, 8, 4, 7, 8,\n",
            "        0, 0, 9, 9, 3, 0, 8, 6]), tensor([1, 5, 4, 1, 9, 1, 8, 6, 2, 1, 2, 5, 1, 6, 0, 0, 1, 6, 1, 3, 2, 2, 3, 4,\n",
            "        1, 3, 5, 0, 4, 7, 9, 3]), tensor([8, 2, 3, 8, 0, 9, 4, 8, 8, 2, 6, 5, 6, 1, 2, 1, 3, 0, 8, 1, 0, 8, 3, 6,\n",
            "        7, 9, 9, 4, 4, 7, 1, 2]), tensor([3, 6, 3, 2, 8, 3, 6, 1, 1, 0, 2, 9, 2, 4, 0, 7, 9, 8, 4, 1, 8, 4, 1, 3,\n",
            "        1, 6, 7, 2, 8, 5, 6, 0]), tensor([7, 7, 6, 6, 7, 0, 7, 8, 9, 2, 9, 0, 5, 1, 4, 4, 5, 4, 9, 2, 2, 8, 6, 4,\n",
            "        6, 2, 9, 7, 6, 5, 5, 4]), tensor([8, 5, 2, 3, 0, 4, 8, 6, 0, 6, 3, 8, 9, 6, 1, 3, 0, 2, 3, 0, 8, 3, 7, 4,\n",
            "        0, 1, 6, 3, 6, 6, 6, 7]), tensor([8, 3, 8, 9, 5, 6, 5, 5, 1, 9, 8, 3, 3, 3, 6, 8, 0, 0, 2, 9, 7, 7, 1, 3,\n",
            "        6, 6, 2, 4, 7, 1, 6, 4]), tensor([8, 2, 6, 5, 4, 2, 7, 7, 7, 3, 3, 7, 6, 7, 1, 3, 8, 2, 2, 3, 4, 0, 3, 1,\n",
            "        0, 1, 9, 4, 9, 9, 1, 8]), tensor([8, 3, 6, 0, 6, 4, 8, 6, 1, 2, 2, 4, 4, 7, 3, 2, 2, 5, 0, 7, 9, 4, 0, 9,\n",
            "        3, 9, 8, 2, 5, 6, 2, 3]), tensor([5, 8, 1, 6, 2, 2, 6, 4, 9, 5, 6, 0, 4, 6, 1, 2, 0, 9, 7, 0, 3, 4, 3, 6,\n",
            "        2, 3, 3, 6, 7, 3, 9, 4]), tensor([2, 1, 5, 4, 5, 3, 6, 5, 8, 6, 4, 8, 9, 8, 6, 2, 4, 4, 2, 4, 1, 6, 1, 3,\n",
            "        0, 7, 8, 6, 6, 5, 3, 1]), tensor([9, 5, 3, 3, 6, 1, 6, 2, 9, 4, 0, 6, 6, 6, 2, 0, 0, 3, 3, 8, 6, 8, 9, 4,\n",
            "        0, 7, 6, 4, 6, 9, 2, 9]), tensor([7, 9, 3, 7, 5, 7, 8, 1, 6, 0, 6, 4, 8, 9, 7, 9, 1, 2, 7, 0, 6, 0, 5, 7,\n",
            "        1, 8, 2, 2, 2, 2, 4, 4]), tensor([6, 0, 9, 0, 7, 1, 9, 0, 2, 8, 3, 6, 7, 2, 6, 2, 8, 0, 2, 0, 5, 0, 7, 7,\n",
            "        0, 9, 4, 3, 6, 4, 7, 1]), tensor([0, 1, 2, 6, 2, 9, 6, 1, 5, 3, 3, 1, 9, 3, 3, 5, 3, 6, 2, 6, 4, 0, 0, 5,\n",
            "        8, 2, 3, 4, 6, 7, 7, 8]), tensor([9, 0, 3, 8, 7, 6, 7, 9, 3, 4, 6, 6, 5, 0, 1, 1, 5, 9, 4, 2, 5, 7, 8, 1,\n",
            "        2, 9, 7, 7, 1, 0, 9, 3]), tensor([6, 9, 0, 5, 1, 8, 2, 7, 1, 2, 3, 8, 2, 2, 1, 5, 3, 0, 7, 8, 0, 2, 9, 4,\n",
            "        1, 6, 4, 1, 0, 1, 4, 1]), tensor([7, 5, 8, 4, 9, 1, 0, 5, 4, 4, 4, 0, 0, 4, 5, 6, 0, 6, 5, 2, 1, 3, 1, 3,\n",
            "        6, 4, 3, 8, 2, 6, 6, 7]), tensor([0, 4, 1, 8, 5, 0, 2, 2, 7, 2, 8, 7, 6, 4, 4, 9, 1, 4, 5, 0, 9, 5, 3, 6,\n",
            "        6, 2, 1, 1, 4, 1, 1, 0]), tensor([9, 7, 7, 4, 8, 9, 1, 3, 7, 3, 0, 2, 4, 7, 1, 0, 0, 8, 7, 2, 6, 4, 4, 4,\n",
            "        1, 5, 9, 3, 0, 3, 6, 5]), tensor([6, 6, 4, 3, 3, 8, 1, 1, 8, 5, 7, 9, 8, 7, 4, 2, 7, 0, 8, 0, 9, 7, 6, 1,\n",
            "        6, 2, 2, 8, 2, 6, 3, 6]), tensor([8, 4, 0, 8, 9, 2, 4, 5, 9, 1, 6, 4, 9, 2, 3, 7, 9, 7, 8, 3, 7, 7, 3, 1,\n",
            "        1, 6, 9, 5, 3, 8, 4, 4]), tensor([9, 0, 8, 3, 2, 2, 4, 7, 1, 4, 9, 0, 5, 8, 5, 4, 7, 2, 8, 5, 9, 0, 3, 6,\n",
            "        7, 1, 7, 0, 5, 4, 6, 5]), tensor([8, 3, 7, 1, 2, 6, 1, 9, 8, 2, 7, 1, 3, 7, 5, 9, 9, 4, 8, 4, 5, 7, 1, 9,\n",
            "        8, 1, 0, 0, 6, 3, 7, 1]), tensor([1, 8, 7, 1, 5, 2, 6, 3, 3, 1, 1, 4, 9, 4, 3, 7, 7, 8, 8, 9, 9, 6, 1, 3,\n",
            "        4, 0, 3, 5, 9, 4, 0, 5]), tensor([9, 1, 7, 7, 8, 7, 9, 3, 6, 4, 0, 4, 0, 2, 0, 2, 5, 5, 1, 2, 0, 9, 3, 7,\n",
            "        8, 4, 8, 3, 4, 7, 0, 7]), tensor([4, 8, 6, 3, 4, 4, 3, 6, 9, 6, 2, 4, 9, 1, 8, 1, 7, 5, 5, 6, 6, 2, 1, 6,\n",
            "        5, 4, 0, 0, 6, 7, 5, 0]), tensor([2, 5, 9, 6, 8, 6, 6, 4, 6, 2, 9, 3, 7, 7, 1, 4, 2, 0, 5, 0, 9, 9, 8, 8,\n",
            "        4, 0, 2, 4, 6, 6, 3, 2]), tensor([3, 7, 4, 9, 3, 4, 7, 7, 0, 3, 9, 5, 6, 4, 7, 9, 6, 3, 7, 5, 1, 9, 8, 8,\n",
            "        9, 9, 2, 7, 2, 6, 3, 8]), tensor([7, 4, 4, 5, 4, 8, 6, 1, 4, 9, 3, 1, 6, 8, 0, 5, 7, 8, 2, 3, 3, 9, 4, 3,\n",
            "        6, 0, 4, 8, 0, 4, 7, 6]), tensor([6, 3, 6, 7, 0, 2, 1, 1, 3, 6, 8, 5, 9, 0, 1, 6, 5, 1, 4, 4, 8, 4, 7, 7,\n",
            "        3, 8, 3, 1, 9, 8, 1, 3]), tensor([3, 7, 5, 0, 5, 7, 0, 9, 6, 3, 5, 8, 4, 6, 3, 8, 6, 0, 5, 2, 7, 1, 5, 3,\n",
            "        5, 4, 8, 6, 2, 1, 1, 7]), tensor([9, 1, 1, 7, 0, 1, 8, 2, 2, 0, 1, 4, 4, 9, 6, 8, 4, 5, 9, 0, 3, 9, 6, 9,\n",
            "        8, 7, 4, 2, 2, 5, 1, 7]), tensor([0, 7, 2, 9, 3, 7, 0, 9, 3, 8, 4, 4, 7, 6, 4, 6, 2, 0, 7, 8, 4, 2, 6, 8,\n",
            "        5, 6, 4, 5, 5, 8, 1, 1]), tensor([7, 4, 6, 9, 6, 8, 7, 2, 2, 1, 2, 7, 7, 4, 9, 8, 5, 1, 3, 3, 2, 3, 3, 3,\n",
            "        1, 9, 3, 5, 5, 2, 0, 7]), tensor([0, 6, 3, 1, 3, 1, 3, 6, 7, 2, 8, 9, 5, 2, 9, 6, 3, 4, 4, 0, 0, 8, 2, 2,\n",
            "        5, 6, 1, 8, 2, 8, 4, 4]), tensor([8, 6, 2, 4, 0, 6, 4, 6, 6, 3, 8, 2, 0, 4, 4, 8, 8, 4, 5, 2, 2, 3, 0, 1,\n",
            "        7, 0, 9, 1, 7, 6, 7, 2]), tensor([2, 7, 3, 8, 5, 6, 8, 0, 7, 5, 8, 9, 5, 0, 0, 0, 3, 2, 4, 4, 2, 7, 1, 3,\n",
            "        4, 6, 6, 5, 1, 6, 7, 3]), tensor([2, 8, 3, 2, 8, 7, 4, 1, 6, 5, 2, 7, 8, 5, 3, 8, 5, 4, 2, 8, 9, 6, 3, 3,\n",
            "        3, 8, 8, 3, 0, 7, 4, 4]), tensor([8, 1, 3, 6, 1, 9, 2, 1, 6, 2, 7, 9, 2, 6, 3, 4, 4, 2, 4, 5, 0, 2, 8, 3,\n",
            "        7, 4, 6, 0, 0, 5, 4, 8]), tensor([2, 4, 4, 0, 2, 1, 7, 9, 5, 4, 7, 2, 6, 9, 3, 3, 1, 3, 6, 6, 6, 1, 9, 6,\n",
            "        4, 7, 1, 0, 6, 5, 8, 4]), tensor([2, 7, 9, 8, 0, 7, 9, 5, 1, 2, 9, 8, 8, 3, 9, 9, 1, 6, 7, 8, 0, 1, 7, 2,\n",
            "        7, 1, 1, 5, 5, 6, 4, 5]), tensor([9, 5, 5, 2, 3, 9, 3, 8, 5, 4, 6, 3, 6, 5, 7, 6, 8, 2, 6, 4, 6, 7, 6, 0,\n",
            "        5, 1, 7, 2, 3, 6, 8, 9]), tensor([8, 7, 1, 2, 3, 2, 9, 7, 5, 6, 0, 0, 7, 3, 2, 4, 9, 3, 6, 4, 4, 3, 0, 0,\n",
            "        6, 3, 6, 1, 3, 7, 6, 5]), tensor([0, 9, 1, 1, 8, 2, 9, 5, 0, 7, 4, 6, 7, 1, 1, 5, 3, 8, 7, 8, 3, 8, 9, 2,\n",
            "        2, 1, 1, 3, 5, 6, 7, 1]), tensor([9, 9, 2, 4, 7, 0, 1, 3, 9, 6, 3, 5, 2, 8, 1, 8, 0, 7, 9, 8, 5, 4, 2, 6,\n",
            "        4, 6, 6, 5, 8, 3, 8, 5]), tensor([8, 7, 3, 7, 6, 7, 0, 2, 6, 5, 3, 5, 1, 1, 7, 7, 6, 6, 6, 4, 6, 8, 6, 3,\n",
            "        1, 4, 9, 9, 4, 5, 2, 2]), tensor([7, 8, 6, 7, 9, 1, 2, 9, 4, 9, 3, 2, 3, 3, 1, 8, 8, 5, 3, 8, 0, 6, 6, 3,\n",
            "        2, 0, 2, 7, 3, 2, 8, 3]), tensor([7, 7, 3, 1, 7, 5, 8, 8, 6, 0, 0, 4, 4, 8, 6, 7, 0, 6, 2, 7, 7, 3, 9, 4,\n",
            "        5, 9, 7, 3, 7, 2, 4, 5]), tensor([1, 4, 5, 4, 5, 0, 4, 4, 1, 6, 4, 8, 4, 7, 9, 4, 1, 1, 7, 2, 3, 5, 6, 3,\n",
            "        9, 7, 5, 3, 8, 8, 8, 7]), tensor([1, 1, 6, 4, 1, 4, 3, 4, 9, 9, 0, 0, 6, 9, 4, 9, 0, 6, 4, 8, 9, 2, 5, 4,\n",
            "        8, 0, 7, 2, 3, 0, 4, 5]), tensor([6, 1, 9, 0, 2, 2, 9, 9, 0, 8, 3, 6, 6, 6, 0, 4, 2, 6, 6, 5, 0, 2, 7, 8,\n",
            "        7, 4, 3, 6, 0, 5, 2, 4]), tensor([2, 9, 5, 2, 6, 7, 0, 1, 9, 5, 5, 0, 7, 7, 5, 0, 5, 3, 3, 4, 7, 9, 8, 2,\n",
            "        4, 7, 3, 3, 7, 7, 7, 8]), tensor([4, 9, 5, 7, 6, 5, 7, 5, 1, 3, 0, 2, 9, 9, 8, 2, 7, 2, 2, 4, 9, 3, 4, 1,\n",
            "        9, 9, 1, 8, 7, 2, 8, 6]), tensor([5, 7, 3, 7, 5, 5, 4, 0, 7, 6, 3, 2, 6, 2, 9, 9, 0, 3, 6, 8, 3, 8, 6, 4,\n",
            "        4, 1, 8, 2, 6, 5, 0, 4]), tensor([6, 3, 0, 6, 1, 6, 8, 4, 9, 0, 7, 6, 7, 7, 1, 5, 8, 7, 2, 9, 9, 1, 2, 6,\n",
            "        1, 1, 1, 8, 8, 1, 3, 7]), tensor([5, 2, 0, 8, 4, 8, 9, 4, 1, 3, 4, 9, 8, 1, 3, 1, 8, 0, 9, 9, 7, 6, 3, 4,\n",
            "        4, 3, 1, 7, 9, 4, 2, 0]), tensor([3, 6, 4, 8, 1, 7, 2, 4, 6, 2, 3, 8, 7, 1, 8, 7, 5, 7, 9, 6, 6, 4, 9, 0,\n",
            "        4, 3, 5, 5, 0, 6, 1, 0]), tensor([3, 7, 7, 3, 7, 4, 5, 7, 9, 8, 9, 1, 4, 8, 3, 2, 6, 6, 0, 8, 3, 8, 6, 8,\n",
            "        6, 0, 8, 8, 4, 2, 9, 3]), tensor([2, 0, 8, 5, 9, 0, 1, 1, 1, 9, 5, 1, 3, 3, 6, 0, 8, 4, 1, 3, 8, 8, 6, 7,\n",
            "        7, 6, 6, 7, 3, 3, 2, 4]), tensor([6, 5, 8, 6, 2, 3, 9, 1, 1, 7, 3, 8, 7, 2, 2, 9, 3, 9, 9, 0, 1, 7, 1, 4,\n",
            "        8, 1, 6, 9, 3, 4, 0, 0]), tensor([5, 6, 9, 9, 5, 5, 7, 0, 9, 3, 3, 6, 9, 8, 4, 2, 6, 3, 9, 2, 3, 6, 7, 4,\n",
            "        0, 6, 8, 1, 8, 7, 4, 4]), tensor([5, 2, 2, 3, 1, 7, 4, 9, 1, 6, 2, 8, 8, 7, 7, 7, 7, 2, 6, 0, 7, 5, 8, 5,\n",
            "        3, 0, 2, 4, 9, 2, 4, 3]), tensor([1, 9, 3, 1, 2, 2, 2, 3, 7, 8, 7, 4, 4, 4, 1, 2, 8, 5, 4, 8, 9, 1, 5, 9,\n",
            "        8, 6, 6, 8, 0, 1, 8, 7]), tensor([6, 6, 7, 7, 6, 0, 4, 3, 4, 7, 8, 7, 2, 8, 0, 8, 7, 4, 6, 6, 7, 0, 9, 9,\n",
            "        3, 1, 5, 9, 3, 1, 6, 3]), tensor([4, 8, 9, 7, 9, 8, 4, 8, 9, 3, 7, 9, 3, 6, 0, 6, 5, 7, 7, 2, 4, 8, 3, 1,\n",
            "        1, 9, 4, 3, 9, 5, 8, 7]), tensor([2, 4, 9, 0, 2, 1, 9, 7, 1, 5, 0, 5, 5, 0, 3, 0, 0, 3, 3, 7, 4, 2, 6, 8,\n",
            "        7, 9, 2, 1, 3, 5, 5, 8]), tensor([5, 3, 7, 6, 4, 6, 9, 6, 0, 0, 9, 1, 4, 3, 3, 5, 3, 8, 5, 1, 1, 2, 9, 4,\n",
            "        0, 5, 6, 8, 6, 6, 9, 8]), tensor([2, 4, 8, 3, 8, 0, 4, 2, 6, 2, 8, 5, 4, 9, 0, 9, 5, 8, 0, 9, 1, 2, 7, 2,\n",
            "        1, 6, 0, 0, 2, 5, 2, 4]), tensor([8, 7, 5, 2, 6, 6, 8, 3, 3, 1, 9, 2, 9, 7, 2, 6, 4, 8, 3, 4, 8, 5, 6, 8,\n",
            "        3, 3, 1, 4, 4, 0, 4, 9]), tensor([6, 4, 1, 9, 9, 8, 1, 6, 8, 3, 3, 3, 2, 5, 9, 2, 2, 8, 7, 6, 3, 6, 4, 4,\n",
            "        5, 7, 5, 0, 7, 9, 1, 2]), tensor([4, 8, 9, 3, 5, 2, 0, 4, 4, 7, 8, 9, 1, 8, 2, 5, 5, 3, 1, 1, 8, 8, 3, 0,\n",
            "        7, 0, 1, 8, 2, 6, 2, 9]), tensor([8, 7, 8, 8, 6, 9, 1, 8, 2, 2, 7, 7, 0, 5, 1, 1, 0, 0, 4, 3, 0, 4, 3, 5,\n",
            "        1, 6, 3, 3, 4, 4, 5, 6]), tensor([9, 8, 3, 3, 1, 0, 2, 1, 2, 4, 4, 2, 2, 9, 2, 7, 7, 5, 0, 6, 0, 5, 0, 3,\n",
            "        9, 7, 3, 6, 1, 9, 6, 1]), tensor([0, 4, 5, 4, 1, 4, 8, 5, 9, 4, 5, 3, 3, 8, 3, 6, 6, 8, 9, 0, 7, 0, 2, 4,\n",
            "        7, 3, 6, 6, 8, 7, 7, 2]), tensor([3, 1, 6, 3, 6, 2, 7, 4, 1, 2, 6, 4, 3, 4, 8, 5, 6, 8, 7, 2, 7, 8, 1, 5,\n",
            "        9, 8, 6, 9, 0, 9, 3, 7]), tensor([5, 7, 9, 6, 0, 7, 1, 5, 5, 9, 5, 4, 4, 2, 6, 5, 9, 7, 4, 2, 6, 9, 9, 3,\n",
            "        2, 1, 3, 7, 1, 8, 7, 7]), tensor([1, 8, 9, 3, 7, 7, 7, 1, 7, 3, 4, 6, 2, 3, 5, 2, 8, 9, 6, 8, 0, 0, 7, 7,\n",
            "        5, 0, 1, 9, 3, 6, 4, 9]), tensor([6, 2, 6, 9, 1, 0, 5, 8, 9, 2, 8, 2, 3, 6, 0, 7, 4, 8, 7, 4, 1, 7, 8, 2,\n",
            "        4, 0, 4, 4, 1, 8, 6, 9]), tensor([2, 9, 4, 5, 2, 3, 3, 8, 8, 2, 0, 7, 2, 4, 0, 4, 1, 3, 8, 1, 7, 7, 2, 6,\n",
            "        3, 1, 2, 7, 6, 6, 0, 6]), tensor([2, 7, 2, 6, 3, 6, 3, 0, 9, 7, 3, 5, 4, 9, 6, 4, 5, 0, 6, 8, 4, 0, 4, 4,\n",
            "        0, 6, 1, 6, 4, 6, 7, 1]), tensor([0, 4, 4, 1, 1, 5, 6, 6, 2, 3, 3, 1, 7, 2, 9, 8, 8, 4, 5, 5, 6, 7, 3, 9,\n",
            "        1, 0, 5, 3, 7, 2, 1, 1]), tensor([8, 3, 2, 0, 5, 9, 6, 3, 8, 3, 3, 4, 6, 6, 4, 8, 3, 4, 2, 1, 9, 3, 7, 9,\n",
            "        5, 7, 6, 1, 6, 8, 8, 2]), tensor([6, 4, 6, 3, 1, 2, 4, 0, 3, 9, 8, 4, 0, 3, 4, 3, 9, 7, 1, 1, 7, 5, 1, 9,\n",
            "        2, 4, 2, 3, 2, 6, 7, 1]), tensor([3, 0, 7, 3, 5, 8, 1, 4, 2, 3, 4, 6, 8, 8, 4, 6, 1, 8, 9, 3, 0, 6, 6, 6,\n",
            "        9, 7, 3, 7, 0, 1, 4, 5]), tensor([9, 6, 0, 5, 0, 5, 4, 7, 4, 6, 2, 8, 6, 4, 9, 3, 0, 5, 8, 1, 1, 4, 4, 0,\n",
            "        3, 7, 6, 2, 3, 3, 9, 7]), tensor([4, 3, 3, 1, 8, 1, 5, 2, 0, 0, 7, 9, 3, 2, 7, 1, 7, 4, 1, 6, 2, 8, 6, 7,\n",
            "        6, 4, 9, 3, 2, 5, 6, 8]), tensor([6, 2, 6, 7, 4, 2, 1, 1, 0, 3, 5, 5, 2, 6, 4, 1, 8, 8, 4, 4, 3, 4, 2, 9,\n",
            "        6, 3, 9, 6, 6, 6, 6, 4]), tensor([5, 4, 9, 8, 1, 6, 3, 6, 2, 9, 4, 3, 5, 1, 2, 6, 0, 1, 1, 0, 2, 6, 9, 5,\n",
            "        0, 1, 2, 4, 3, 7, 2, 1]), tensor([1, 7, 7, 8, 7, 6, 5, 3, 7, 2, 0, 9, 6, 1, 6, 2, 2, 5, 8, 5, 2, 7, 8, 4,\n",
            "        0, 9, 0, 8, 3, 3, 8, 2]), tensor([8, 2, 0, 2, 3, 8, 7, 8, 2, 2, 6, 6, 0, 4, 5, 4, 4, 3, 1, 9, 7, 6, 6, 6,\n",
            "        1, 4, 2, 7, 7, 1, 8, 3]), tensor([3, 7, 9, 8, 7, 2, 7, 9, 7, 2, 6, 6, 6, 3, 3, 9, 1, 1, 4, 8, 0, 9, 7, 5,\n",
            "        4, 8, 8, 3, 6, 3, 6, 4]), tensor([2, 2, 5, 9, 2, 1, 8, 6, 6, 8, 3, 6, 1, 1, 3, 0, 1, 8, 4, 1, 5, 4, 1, 5,\n",
            "        8, 6, 7, 7, 7, 5, 6, 5]), tensor([5, 3, 6, 7, 8, 4, 5, 1, 6, 6, 2, 4, 3, 7, 7, 9, 9, 2, 5, 8, 5, 8, 5, 3,\n",
            "        0, 9, 7, 2, 0, 6, 8, 6]), tensor([0, 5, 3, 7, 6, 5, 6, 7, 0, 6, 4, 0, 2, 7, 8, 1, 3, 8, 1, 5, 3, 6, 1, 1,\n",
            "        6, 6, 9, 8, 2, 8, 2, 7]), tensor([7, 1, 3, 0, 3, 0, 7, 8, 7, 6, 5, 2, 6, 7, 5, 5, 8, 9, 7, 3, 2, 4, 8, 3,\n",
            "        9, 5, 7, 6, 2, 6, 7, 3]), tensor([8, 5, 1, 8, 9, 2, 2, 1, 6, 2, 7, 4, 0, 4, 4, 8, 9, 7, 9, 2, 2, 8, 2, 6,\n",
            "        0, 4, 3, 3, 1, 5, 4, 7]), tensor([5, 3, 7, 6, 2, 3, 5, 1, 1, 6, 7, 3, 8, 8, 7, 5, 6, 9, 5, 5, 4, 0, 7, 1,\n",
            "        4, 6, 0, 9, 9, 6, 6, 4]), tensor([0, 5, 7, 8, 2, 2, 9, 6, 6, 6, 8, 1, 6, 4, 8, 0, 7, 8, 8, 9, 7, 7, 5, 2,\n",
            "        7, 6, 3, 2, 0, 3, 4, 2]), tensor([0, 8, 9, 4, 5, 6, 4, 1, 2, 5, 7, 0, 5, 6, 2, 8, 6, 3, 8, 6, 6, 7, 2, 7,\n",
            "        2, 3, 4, 8, 1, 2, 3, 4]), tensor([2, 4, 3, 9, 9, 6, 8, 0, 4, 0, 0, 1, 9, 3, 7, 6, 8, 6, 9, 4, 7, 9, 1, 5,\n",
            "        8, 1, 3, 6, 2, 6, 8, 3]), tensor([3, 3, 0, 0, 0, 3, 3, 1, 4, 8, 4, 9, 3, 0, 6, 5, 8, 8, 8, 6, 1, 4, 8, 9,\n",
            "        8, 5, 8, 7, 0, 7, 2, 7]), tensor([3, 5, 5, 8, 3, 2, 8, 5, 9, 9, 4, 0, 6, 7, 1, 8, 8, 8, 7, 2, 0, 9, 7, 9,\n",
            "        6, 9, 4, 1, 4, 7, 2, 5]), tensor([6, 6, 2, 9, 0, 7, 1, 9, 7, 2, 5, 3, 8, 4, 9, 3, 7, 5, 7, 5, 1, 3, 3, 6,\n",
            "        0, 7, 5, 3, 5, 5, 8, 7]), tensor([9, 4, 6, 5, 5, 3, 4, 8, 3, 0, 9, 2, 3, 6, 2, 9, 4, 3, 9, 1, 4, 8, 1, 4,\n",
            "        9, 8, 2, 9, 7, 2, 0, 2]), tensor([2, 3, 6, 3, 0, 5, 2, 3, 2, 8, 2, 0, 7, 4, 6, 4, 8, 3, 5, 1, 3, 9, 1, 2,\n",
            "        9, 3, 7, 4, 2, 0, 2, 5]), tensor([6, 3, 6, 6, 5, 1, 7, 9, 4, 6, 7, 3, 0, 2, 8, 1, 0, 9, 9, 7, 8, 4, 6, 9,\n",
            "        7, 7, 5, 8, 8, 7, 5, 3]), tensor([5, 5, 0, 8, 9, 7, 2, 1, 4, 7, 1, 3, 2, 3, 2, 2, 9, 4, 7, 7, 6, 5, 0, 8,\n",
            "        8, 6, 8, 5, 6, 0, 7, 3]), tensor([6, 6, 4, 5, 2, 0, 7, 7, 7, 1, 8, 2, 4, 8, 5, 4, 4, 8, 7, 7, 6, 7, 1, 6,\n",
            "        9, 5, 3, 9, 3, 8, 0, 7]), tensor([4, 6, 0, 1, 4, 5, 9, 3, 2, 8, 5, 7, 3, 1, 4, 0, 8, 1, 8, 5, 6, 9, 3, 3,\n",
            "        8, 6, 4, 2, 0, 6, 6, 2]), tensor([3, 4, 5, 9, 3, 1, 9, 4, 7, 0, 3, 1, 0, 0, 7, 7, 0, 7, 8, 0, 5, 6, 4, 3,\n",
            "        8, 9, 7, 2, 9, 5, 3, 7]), tensor([2, 6, 1, 9, 7, 8, 1, 0, 7, 3, 6, 7, 8, 6, 5, 6, 7, 9, 9, 7, 0, 4, 2, 3,\n",
            "        4, 0, 7, 5, 3, 9, 0, 8]), tensor([8, 6, 0, 4, 1, 9, 3, 3, 5, 3, 7, 5, 9, 2, 8, 5, 5, 9, 5, 6, 0, 7, 3, 7,\n",
            "        6, 2, 0, 9, 6, 8, 1, 9]), tensor([2, 6, 6, 4, 8, 8, 7, 7, 3, 9, 3, 9, 6, 8, 2, 6, 9, 0, 3, 2, 5, 5, 0, 4,\n",
            "        6, 4, 1, 3, 1, 2, 7, 8]), tensor([8, 9, 7, 6, 5, 9, 3, 4, 0, 4, 0, 3, 6, 8, 8, 8, 0, 2, 3, 2, 8, 2, 1, 4,\n",
            "        1, 1, 6, 3, 2, 2, 9, 0]), tensor([0, 4, 1, 3, 2, 5, 0, 6, 7, 5, 9, 2, 5, 2, 9, 9, 8, 6, 8, 3, 2, 0, 9, 6,\n",
            "        2, 4, 3, 8, 2, 6, 6, 5]), tensor([6, 2, 7, 3, 7, 8, 8, 2, 4, 8, 8, 0, 1, 5, 8, 9, 8, 7, 2, 0, 3, 0, 3, 0,\n",
            "        9, 3, 9, 9, 1, 5, 9, 4]), tensor([1, 7, 0, 1, 0, 5, 3, 8, 8, 4, 1, 7, 0, 5, 0, 4, 1, 7, 1, 7, 9, 6, 3, 9,\n",
            "        2, 2, 5, 3, 5, 8, 8, 2]), tensor([4, 7, 7, 4, 6, 0, 7, 5, 3, 6, 2, 7, 6, 8, 5, 6, 9, 1, 3, 1, 4, 5, 9, 3,\n",
            "        9, 0, 3, 5, 6, 1, 8, 8]), tensor([5, 4, 6, 9, 1, 7, 1, 7, 1, 8, 0, 3, 4, 0, 2, 0, 3, 3, 8, 8, 0, 3, 6, 8,\n",
            "        1, 1, 3, 3, 2, 2, 1, 8]), tensor([0, 2, 0, 2, 4, 2, 0, 9, 2, 3, 0, 4, 7, 7, 1, 6, 1, 2, 0, 0, 8, 5, 1, 6,\n",
            "        5, 2, 8, 1, 7, 1, 6, 4]), tensor([7, 4, 6, 1, 5, 3, 3, 5, 8, 7, 7, 7, 2, 7, 5, 6, 2, 2, 0, 6, 6, 9, 9, 5,\n",
            "        8, 0, 4, 4, 1, 3, 7, 6]), tensor([6, 0, 9, 8, 5, 3, 0, 7, 1, 9, 7, 8, 4, 6, 9, 9, 1, 2, 6, 4, 2, 4, 5, 1,\n",
            "        6, 4, 8, 3, 4, 8, 3, 4]), tensor([0, 0, 3, 6, 7, 4, 4, 1, 7, 3, 6, 7, 9, 9, 1, 8, 8, 9, 1, 2, 6, 1, 2, 8,\n",
            "        4, 5, 7, 8, 0, 6, 2, 7]), tensor([2, 9, 5, 6, 8, 7, 8, 2, 4, 9, 2, 5, 5, 9, 9, 4, 4, 2, 0, 0, 1, 8, 7, 6,\n",
            "        1, 7, 5, 2, 9, 0, 3, 4]), tensor([4, 8, 4, 0, 6, 7, 3, 7, 3, 6, 2, 8, 0, 6, 2, 3, 2, 5, 5, 8, 0, 7, 0, 8,\n",
            "        9, 0, 2, 1, 2, 5, 1, 3]), tensor([2, 9, 6, 4, 9, 9, 1, 4, 3, 1, 6, 8, 0, 3, 0, 6, 2, 0, 4, 3, 6, 7, 2, 3,\n",
            "        4, 0, 8, 5, 4, 0, 1, 0]), tensor([2, 2, 6, 7, 9, 6, 2, 4, 3, 6, 8, 7, 4, 4, 0, 3, 3, 5, 2, 5, 1, 5, 5, 1,\n",
            "        7, 7, 2, 1, 8, 8, 0, 9]), tensor([0, 6, 0, 3, 6, 1, 8, 3, 4, 2, 1, 2, 0, 3, 0, 8, 5, 1, 7, 0, 2, 6, 3, 9,\n",
            "        8, 4, 7, 1, 0, 2, 6, 2]), tensor([0, 3, 7, 5, 0, 6, 2, 0, 8, 4, 2, 1, 8, 6, 8, 2, 9, 2, 4, 8, 5, 2, 7, 3,\n",
            "        2, 2, 0, 0, 4, 8, 5, 2]), tensor([1, 5, 2, 8, 2, 9, 3, 6, 3, 6, 4, 2, 7, 7, 9, 6, 4, 9, 8, 3, 5, 8, 7, 7,\n",
            "        0, 7, 7, 0, 7, 7, 2, 9]), tensor([5, 4, 2, 2, 3, 4, 0, 1, 9, 5, 0, 6, 2, 4, 3, 8, 0, 7, 6, 4, 3, 4, 1, 3,\n",
            "        8, 7, 3, 6, 3, 4, 8, 8]), tensor([9, 1, 3, 2, 1, 4, 8, 6, 4, 2, 7, 3, 9, 2, 9, 0, 4, 6, 5, 7, 0, 8, 1, 7,\n",
            "        5, 4, 9, 5, 7, 3, 6, 0]), tensor([9, 8, 7, 3, 7, 7, 4, 7, 5, 8, 5, 2, 4, 6, 2, 3, 8, 9, 7, 1, 3, 4, 2, 9,\n",
            "        7, 1, 4, 2, 6, 0, 7, 5]), tensor([4, 5, 2, 8, 7, 4, 9, 9, 0, 4, 0, 1, 5, 5, 5, 6, 8, 1, 5, 7, 7, 7, 9, 8,\n",
            "        0, 1, 1, 4, 6, 0, 9, 3]), tensor([4, 4, 4, 8, 2, 5, 4, 9, 0, 2, 8, 4, 8, 6, 3, 6, 1, 4, 3, 3, 8, 4, 9, 9,\n",
            "        0, 7, 9, 5, 3, 1, 7, 2]), tensor([8, 4, 9, 0, 1, 6, 0, 7, 8, 1, 9, 3, 6, 8, 4, 8, 4, 2, 5, 6, 9, 6, 1, 2,\n",
            "        0, 7, 9, 0, 1, 3, 9, 5]), tensor([3, 2, 1, 1, 3, 8, 3, 9, 5, 4, 4, 3, 7, 7, 7, 2, 3, 9, 3, 9, 4, 2, 0, 7,\n",
            "        6, 6, 7, 7, 6, 3, 4, 9]), tensor([6, 4, 3, 2, 7, 9, 6, 1, 3, 2, 0, 8, 8, 7, 3, 2, 7, 5, 7, 6, 1, 8, 1, 4,\n",
            "        9, 8, 9, 3, 1, 0, 3, 0]), tensor([3, 0, 6, 6, 1, 7, 7, 1, 2, 2, 5, 3, 4, 1, 7, 6, 7, 6, 2, 8, 8, 1, 4, 9,\n",
            "        7, 6, 3, 4, 9, 3, 9, 8]), tensor([5, 3, 8, 4, 7, 1, 4, 1, 9, 6, 8, 4, 2, 4, 6, 1, 1, 7, 8, 6, 1, 6, 2, 9,\n",
            "        0, 9, 5, 3, 9, 0, 6, 5]), tensor([6, 8, 3, 8, 0, 6, 9, 9, 1, 5, 3, 2, 6, 5, 3, 6, 3, 6, 7, 4, 0, 6, 1, 9,\n",
            "        9, 1, 7, 8, 5, 6, 9, 4]), tensor([8, 4, 6, 6, 4, 6, 4, 1, 1, 4, 6, 8, 6, 9, 0, 5, 8, 1, 3, 2, 3, 2, 4, 8,\n",
            "        6, 6, 9, 3, 2, 9, 7, 2]), tensor([6, 6, 6, 8, 9, 6, 3, 4, 7, 7, 9, 7, 3, 6, 7, 6, 7, 3, 0, 2, 0, 9, 4, 3,\n",
            "        3, 1, 9, 5, 8, 2, 3, 5]), tensor([0, 6, 4, 5, 2, 3, 5, 2, 7, 7, 6, 0, 9, 7, 1, 2, 4, 5, 3, 0, 2, 1, 4, 0,\n",
            "        5, 4, 8, 5, 7, 6, 0, 8]), tensor([3, 5, 2, 4, 9, 8, 9, 9, 8, 1, 7, 5, 6, 1, 5, 3, 3, 3, 3, 4, 2, 3, 6, 7,\n",
            "        8, 0, 9, 6, 6, 0, 4, 2]), tensor([9, 4, 5, 7, 3, 9, 8, 4, 6, 2, 2, 3, 1, 0, 7, 9, 6, 6, 4, 1, 1, 4, 9, 2,\n",
            "        9, 5, 9, 0, 4, 4, 4, 8]), tensor([9, 9, 2, 6, 9, 8, 3, 5, 3, 1, 4, 5, 0, 1, 8, 5, 8, 4, 0, 7, 8, 9, 2, 4,\n",
            "        6, 4, 2, 6, 6, 7, 9, 1]), tensor([9, 7, 4, 5, 6, 3, 2, 4, 5, 6, 1, 5, 8, 0, 4, 2, 9, 4, 7, 8, 1, 0, 2, 7,\n",
            "        7, 5, 9, 7, 7, 1, 8, 7]), tensor([5, 9, 7, 8, 6, 1, 6, 8, 0, 2, 6, 7, 9, 6, 4, 5, 4, 3, 4, 1, 1, 9, 0, 5,\n",
            "        5, 4, 7, 8, 9, 6, 7, 4]), tensor([6, 6, 5, 5, 8, 4, 8, 8, 7, 2, 9, 3, 9, 6, 9, 7, 3, 9, 5, 3, 2, 2, 2, 8,\n",
            "        7, 9, 2, 0, 1, 4, 1, 0]), tensor([3, 8, 6, 8, 4, 4, 2, 3, 5, 7, 7, 8, 5, 6, 3, 2, 1, 8, 3, 2, 7, 4, 2, 3,\n",
            "        0, 8, 3, 3, 2, 9, 6, 9]), tensor([7, 0, 1, 8, 3, 6, 3, 8, 6, 8, 5, 1, 3, 6, 1, 9, 3, 5, 0, 4, 2, 3, 1, 5,\n",
            "        3, 2, 8, 5, 7, 6, 0, 4]), tensor([1, 0, 6, 2, 7, 9, 6, 7, 2, 3, 6, 4, 6, 3, 3, 9, 4, 7, 0, 8, 6, 5, 6, 2,\n",
            "        0, 1, 3, 9, 4, 2, 5, 6]), tensor([5, 3, 2, 5, 6, 0, 6, 0, 6, 9, 1, 3, 4, 2, 5, 8, 6, 6, 1, 4, 9, 7, 2, 4,\n",
            "        7, 5, 7, 1, 4, 8, 7, 9]), tensor([7, 7, 0, 2, 9, 2, 8, 6, 7, 6, 1, 5, 2, 7, 4, 1, 4, 5, 9, 6, 5, 7, 7, 3,\n",
            "        8, 1, 9, 4, 8, 3, 6, 7]), tensor([6, 9, 5, 1, 3, 6, 9, 1, 4, 4, 5, 3, 4, 7, 9, 1, 2, 2, 2, 4, 6, 8, 7, 9,\n",
            "        9, 4, 8, 8, 9, 0, 7, 6]), tensor([4, 3, 8, 2, 4, 2, 0, 1, 4, 0, 2, 1, 5, 4, 6, 0, 0, 3, 4, 5, 4, 0, 7, 6,\n",
            "        0, 3, 1, 8, 4, 8, 9, 9]), tensor([5, 5, 8, 2, 5, 4, 4, 2, 5, 6, 9, 2, 7, 1, 0, 2, 4, 6, 9, 8, 3, 6, 9, 1,\n",
            "        9, 4, 7, 3, 5, 4, 3, 4]), tensor([2, 1, 0, 2, 4, 3, 7, 8, 4, 9, 5, 9, 0, 4, 3, 4, 5, 5, 5, 7, 6, 1, 3, 3,\n",
            "        7, 0, 9, 7, 6, 8, 3, 5]), tensor([5, 8, 1, 9, 4, 0, 2, 2, 1, 6, 0, 3, 2, 5, 0, 3, 1, 1, 7, 8, 2, 5, 9, 0,\n",
            "        8, 3, 6, 4, 2, 7, 0, 7]), tensor([3, 3, 2, 3, 7, 1, 2, 2, 3, 3, 0, 0, 6, 4, 8, 5, 0, 3, 3, 4, 7, 3, 3, 6,\n",
            "        0, 2, 4, 4, 1, 8, 1, 9]), tensor([3, 2, 6, 4, 6, 3, 3, 3, 5, 3, 5, 8, 3, 9, 7, 3, 0, 6, 1, 6, 1, 0, 7, 7,\n",
            "        4, 8, 9, 6, 1, 5, 4, 9]), tensor([4, 7, 9, 9, 9, 0, 1, 0, 9, 9, 5, 1, 7, 2, 9, 3, 5, 6, 8, 1, 7, 4, 3, 8,\n",
            "        4, 7, 8, 8, 9, 6, 4, 4]), tensor([5, 6, 2, 5, 9, 0, 0, 5, 3, 7, 7, 4, 4, 7, 1, 1, 8, 3, 7, 2, 7, 1, 8, 8,\n",
            "        8, 7, 8, 6, 0, 5, 7, 9]), tensor([8, 5, 6, 0, 6, 2, 3, 2, 3, 9, 9, 1, 9, 5, 8, 4, 4, 2, 4, 2, 7, 6, 8, 3,\n",
            "        0, 7, 8, 8, 3, 9, 9, 5]), tensor([9, 2, 6, 9, 7, 8, 7, 4, 7, 9, 2, 3, 9, 7, 3, 5, 3, 1, 4, 9, 1, 2, 8, 5,\n",
            "        1, 7, 9, 0, 3, 3, 6, 9]), tensor([3, 4, 3, 0, 0, 6, 9, 7, 3, 9, 8, 5, 6, 8, 5, 9, 5, 6, 4, 6, 5, 2, 2, 5,\n",
            "        4, 2, 7, 1, 6, 6, 3, 6]), tensor([8, 6, 4, 6, 8, 8, 5, 1, 5, 2, 3, 4, 2, 4, 1, 9, 0, 7, 2, 7, 3, 2, 9, 7,\n",
            "        6, 4, 6, 3, 7, 1, 4, 7]), tensor([6, 1, 7, 3, 0, 3, 8, 6, 6, 0, 4, 1, 7, 9, 6, 2, 9, 2, 6, 7, 1, 7, 5, 2,\n",
            "        9, 8, 6, 4, 0, 3, 3, 2]), tensor([6, 8, 3, 6, 8, 1, 8, 1, 0, 1, 4, 7, 3, 7, 7, 3, 3, 9, 9, 0, 2, 2, 5, 8,\n",
            "        9, 6, 3, 5, 4, 1, 6, 9]), tensor([4, 4, 2, 6, 1, 8, 1, 3, 4, 0, 2, 1, 9, 0, 5, 3, 5, 3, 6, 4, 1, 4, 0, 7,\n",
            "        3, 6, 4, 3, 4, 4, 5, 2]), tensor([9, 6, 8, 0, 4, 6, 0, 1, 7, 8, 2, 3, 3, 2, 0, 3, 8, 2, 6, 2, 5, 1, 4, 6,\n",
            "        2, 1, 9, 3, 4, 6, 9, 8]), tensor([8, 0, 6, 3, 4, 4, 8, 1, 2, 3, 3, 1, 5, 5, 3, 2, 6, 7, 1, 9, 2, 9, 0, 4,\n",
            "        2, 4, 8, 6, 9, 4, 7, 0]), tensor([3, 1, 3, 6, 3, 4, 1, 2, 6, 2, 6, 7, 7, 8, 3, 2, 9, 5, 6, 6, 9, 5, 4, 3,\n",
            "        8, 5, 3, 8, 3, 7, 9, 0]), tensor([2, 5, 1, 0, 5, 6, 3, 9, 7, 9, 6, 6, 7, 1, 2, 0, 8, 6, 2, 2, 7, 8, 6, 6,\n",
            "        4, 6, 9, 7, 3, 4, 5, 4]), tensor([5, 1, 9, 5, 0, 5, 6, 4, 1, 7, 9, 3, 3, 3, 4, 9, 1, 3, 3, 9, 5, 6, 8, 2,\n",
            "        4, 1, 4, 0, 6, 7, 9, 0]), tensor([6, 1, 6, 3, 0, 9, 8, 1, 3, 7, 3, 7, 9, 7, 4, 2, 3, 2, 8, 8, 5, 5, 1, 8,\n",
            "        8, 5, 7, 9, 9, 3, 4, 4]), tensor([2, 8, 9, 4, 6, 7, 5, 4, 7, 6, 1, 4, 2, 2, 0, 9, 6, 6, 5, 1, 1, 8, 8, 3,\n",
            "        6, 6, 2, 0, 6, 4, 9, 5]), tensor([6, 4, 6, 4, 6, 1, 5, 2, 7, 8, 6, 7, 7, 0, 8, 4, 3, 6, 9, 1, 2, 1, 7, 4,\n",
            "        3, 4, 9, 9, 2, 6, 4, 3]), tensor([0, 5, 7, 5, 2, 7, 4, 9, 9, 2, 7, 2, 7, 7, 5, 4, 7, 6, 6, 9, 0, 1, 8, 7,\n",
            "        5, 4, 5, 3, 7, 4, 6, 5]), tensor([5, 6, 7, 9, 0, 9, 5, 9, 4, 0, 1, 7, 8, 3, 5, 1, 0, 6, 5, 0, 2, 3, 7, 1,\n",
            "        0, 1, 0, 7, 7, 6, 0, 4]), tensor([7, 1, 0, 5, 3, 4, 8, 1, 5, 2, 7, 3, 2, 3, 2, 7, 8, 0, 7, 6, 9, 5, 8, 6,\n",
            "        7, 1, 5, 0, 9, 7, 3, 0]), tensor([6, 5, 7, 8, 4, 3, 1, 9, 0, 2, 9, 1, 3, 4, 4, 3, 3, 6, 2, 4, 8, 6, 4, 9,\n",
            "        5, 0, 1, 8, 2, 4, 3, 6]), tensor([2, 9, 4, 3, 7, 9, 6, 3, 7, 4, 5, 9, 8, 7, 3, 0, 1, 2, 6, 4, 1, 9, 6, 4,\n",
            "        0, 5, 5, 4, 6, 2, 0, 1]), tensor([4, 9, 9, 7, 6, 1, 2, 6, 0, 2, 4, 2, 5, 9, 4, 8, 4, 6, 1, 5, 9, 4, 1, 8,\n",
            "        9, 3, 1, 7, 1, 3, 3, 9]), tensor([1, 3, 8, 9, 9, 1, 9, 6, 0, 7, 8, 5, 5, 5, 3, 8, 9, 4, 7, 4, 4, 9, 2, 6,\n",
            "        1, 5, 0, 7, 3, 6, 0, 7]), tensor([1, 1, 8, 2, 8, 7, 2, 0, 7, 2, 0, 0, 5, 1, 6, 8, 6, 3, 7, 6, 3, 9, 7, 6,\n",
            "        1, 3, 9, 2, 4, 0, 3, 7]), tensor([8, 1, 1, 9, 5, 3, 8, 4, 6, 6, 1, 8, 2, 3, 6, 2, 5, 9, 9, 4, 3, 4, 1, 7,\n",
            "        9, 0, 8, 7, 3, 3, 8, 4]), tensor([1, 8, 2, 7, 4, 6, 8, 9, 2, 7, 3, 2, 6, 1, 1, 0, 4, 1, 6, 7, 0, 5, 9, 1,\n",
            "        5, 0, 9, 3, 2, 1, 7, 6]), tensor([9, 8, 8, 9, 5, 5, 3, 8, 2, 0, 3, 6, 1, 1, 9, 6, 9, 7, 5, 3, 2, 9, 5, 5,\n",
            "        4, 2, 9, 9, 3, 0, 6, 4]), tensor([1, 7, 4, 7, 2, 8, 5, 8, 6, 0, 1, 3, 2, 2, 3, 6, 6, 0, 2, 8, 3, 2, 8, 6,\n",
            "        1, 8, 4, 5, 4, 2, 3, 9]), tensor([6, 4, 3, 4, 5, 6, 2, 7, 3, 7, 3, 3, 6, 9, 4, 8, 5, 6, 0, 3, 6, 7, 2, 5,\n",
            "        3, 1, 1, 9, 7, 5, 4, 2]), tensor([1, 6, 4, 8, 9, 2, 5, 5, 3, 3, 0, 9, 6, 3, 6, 3, 8, 4, 7, 2, 3, 6, 4, 2,\n",
            "        0, 4, 1, 3, 7, 2, 8, 2]), tensor([2, 3, 4, 4, 0, 8, 4, 5, 1, 4, 4, 8, 2, 1, 4, 1, 4, 9, 6, 5, 9, 6, 8, 0,\n",
            "        3, 4, 3, 8, 4, 7, 5, 4]), tensor([1, 1, 2, 0, 5, 5, 0, 1, 6, 5, 2, 8, 9, 7, 9, 1, 1, 3, 3, 5, 6, 7, 6, 9,\n",
            "        4, 9, 3, 6, 6, 2, 8, 7]), tensor([2, 5, 9, 8, 3, 8, 1, 3, 3, 4, 5, 2, 5, 4, 4, 9, 2, 7, 1, 2, 8, 3, 7, 7,\n",
            "        6, 7, 9, 4, 7, 7, 0, 1]), tensor([6, 1, 2, 8, 2, 2, 7, 6, 7, 1, 8, 7, 5, 1, 3, 1, 0, 3, 6, 5, 3, 8, 6, 3,\n",
            "        4, 9, 0, 1, 5, 3, 0, 7]), tensor([0, 3, 4, 5, 1, 2, 6, 2, 8, 3, 9, 8, 3, 7, 2, 4, 2, 5, 1, 9, 3, 3, 8, 7,\n",
            "        1, 8, 3, 2, 0, 9, 2, 4]), tensor([3, 4, 6, 1, 3, 5, 2, 9, 7, 5, 3, 9, 9, 5, 6, 4, 8, 0, 7, 0, 8, 6, 2, 1,\n",
            "        9, 7, 7, 3, 8, 0, 3, 0]), tensor([9, 8, 5, 6, 4, 8, 1, 5, 5, 9, 0, 1, 6, 1, 3, 4, 4, 4, 4, 1, 7, 4, 2, 2,\n",
            "        6, 3, 8, 2, 4, 6, 3, 0]), tensor([8, 8, 4, 4, 2, 0, 7, 0, 8, 9, 1, 6, 6, 7, 6, 8, 1, 8, 2, 3, 6, 7, 5, 7,\n",
            "        9, 9, 3, 9, 4, 4, 6, 6]), tensor([1, 4, 8, 4, 4, 5, 2, 2, 2, 9, 1, 8, 0, 6, 2, 2, 0, 4, 6, 6, 1, 3, 6, 3,\n",
            "        4, 1, 5, 4, 1, 0, 7, 6]), tensor([5, 0, 3, 2, 8, 9, 8, 7, 8, 4, 5, 9, 5, 5, 1, 2, 4, 7, 2, 9, 7, 8, 6, 7,\n",
            "        4, 6, 3, 8, 8, 4, 5, 3]), tensor([8, 1, 1, 2, 2, 7, 8, 9, 0, 2, 7, 7, 1, 5, 7, 8, 4, 3, 7, 5, 9, 3, 0, 8,\n",
            "        6, 1, 6, 3, 5, 8, 6, 0]), tensor([1, 8, 6, 9, 0, 0, 7, 6, 6, 6, 7, 6, 8, 8, 2, 6, 3, 6, 7, 1, 4, 7, 4, 6,\n",
            "        7, 1, 6, 5, 2, 6, 7, 9]), tensor([6, 6, 8, 2, 1, 1, 8, 8, 3, 5, 7, 8, 6, 7, 4, 3, 9, 3, 8, 9, 0, 6, 2, 4,\n",
            "        5, 7, 0, 2, 2, 9, 7, 7]), tensor([2, 6, 5, 8, 3, 1, 3, 7, 4, 9, 4, 3, 9, 7, 2, 0, 8, 6, 9, 1, 9, 9, 6, 7,\n",
            "        1, 4, 7, 0, 3, 8, 7, 2]), tensor([8, 5, 9, 3, 2, 0, 6, 9, 4, 5, 6, 4, 3, 8, 9, 1, 8, 8, 4, 0, 8, 7, 6, 9,\n",
            "        2, 1, 2, 7, 5, 4, 0, 8]), tensor([3, 4, 7, 2, 4, 6, 8, 5, 7, 9, 5, 7, 4, 2, 3, 7, 3, 4, 1, 5, 6, 9, 7, 4,\n",
            "        0, 2, 5, 8, 0, 7, 7, 2]), tensor([2, 0, 4, 8, 2, 0, 6, 9, 8, 7, 6, 5, 0, 6, 0, 2, 3, 3, 1, 8, 7, 4, 3, 9,\n",
            "        1, 2, 6, 5, 6, 3, 6, 0]), tensor([2, 6, 0, 7, 2, 1, 8, 4, 8, 7, 9, 4, 1, 4, 5, 7, 7, 3, 2, 5, 9, 4, 6, 7,\n",
            "        3, 2, 2, 9, 6, 7, 3, 9]), tensor([1, 2, 1, 9, 7, 2, 3, 4, 8, 1, 8, 3, 5, 0, 5, 3, 8, 5, 7, 4, 9, 0, 6, 8,\n",
            "        4, 2, 4, 4, 4, 3, 7, 8]), tensor([7, 1, 3, 7, 6, 9, 5, 5, 2, 4, 4, 5, 0, 8, 6, 3, 4, 0, 8, 8, 9, 6, 9, 1,\n",
            "        5, 1, 2, 1, 3, 2, 2, 2]), tensor([4, 5, 7, 5, 9, 2, 0, 5, 7, 0, 5, 6, 5, 3, 3, 4, 3, 7, 1, 5, 4, 9, 8, 1,\n",
            "        7, 3, 4, 4, 3, 7, 1, 8]), tensor([5, 7, 8, 6, 5, 3, 8, 7, 7, 7, 7, 6, 5, 2, 4, 1, 2, 3, 4, 1, 0, 3, 9, 1,\n",
            "        8, 2, 3, 7, 4, 9, 5, 7]), tensor([4, 3, 9, 5, 6, 8, 2, 7, 3, 9, 3, 0, 5, 9, 0, 9, 4, 6, 4, 5, 7, 1, 6, 8,\n",
            "        2, 0, 2, 3, 1, 1, 1, 7]), tensor([6, 2, 6, 5, 9, 8, 7, 5, 3, 2, 7, 9, 2, 0, 1, 1, 1, 4, 8, 6, 8, 0, 5, 5,\n",
            "        6, 7, 6, 8, 2, 4, 6, 2]), tensor([2, 6, 5, 7, 4, 9, 8, 2, 2, 2, 0, 7, 4, 5, 2, 3, 3, 1, 9, 8, 1, 8, 6, 6,\n",
            "        3, 9, 1, 9, 7, 2, 9, 2]), tensor([9, 3, 0, 4, 2, 3, 4, 6, 6, 9, 2, 1, 1, 6, 5, 6, 7, 0, 4, 1, 1, 7, 0, 3,\n",
            "        1, 9, 8, 7, 3, 5, 2, 4]), tensor([6, 6, 4, 6, 3, 6, 2, 3, 5, 9, 5, 8, 9, 3, 1, 7, 8, 9, 4, 1, 1, 7, 0, 7,\n",
            "        0, 0, 9, 6, 0, 4, 9, 2]), tensor([8, 5, 5, 9, 3, 3, 5, 7, 1, 2, 3, 3, 5, 6, 6, 4, 1, 1, 9, 1, 4, 0, 6, 2,\n",
            "        2, 6, 6, 0, 6, 5, 0, 3]), tensor([0, 5, 1, 1, 8, 4, 5, 3, 5, 1, 6, 4, 3, 2, 6, 7, 9, 6, 3, 8, 7, 6, 4, 9,\n",
            "        1, 9, 7, 7, 6, 2, 2, 7]), tensor([5, 4, 1, 5, 7, 7, 8, 2, 8, 3, 7, 6, 6, 2, 9, 9, 0, 2, 7, 3, 1, 0, 8, 2,\n",
            "        4, 4, 4, 7, 1, 8, 4, 0]), tensor([3, 4, 6, 3, 9, 8, 0, 3, 8, 3, 9, 2, 1, 5, 6, 5, 6, 8, 4, 2, 5, 9, 3, 6,\n",
            "        4, 7, 8, 5, 9, 5, 0, 0]), tensor([6, 9, 7, 2, 9, 2, 2, 2, 4, 6, 1, 6, 3, 9, 4, 0, 3, 4, 6, 6, 9, 2, 7, 6,\n",
            "        5, 6, 3, 4, 8, 7, 0, 2]), tensor([1, 1, 8, 7, 3, 2, 0, 5, 2, 3, 8, 8, 8, 9, 6, 6, 9, 6, 3, 3, 6, 4, 2, 8,\n",
            "        8, 5, 9, 6, 7, 1, 9, 0]), tensor([3, 3, 6, 2, 3, 9, 9, 7, 3, 0, 4, 2, 6, 6, 6, 5, 2, 6, 7, 8, 5, 8, 3, 4,\n",
            "        1, 4, 8, 7, 2, 6, 2, 3]), tensor([7, 6, 3, 5, 2, 5, 3, 7, 1, 2, 9, 8, 7, 4, 8, 8, 7, 5, 8, 4, 4, 0, 8, 3,\n",
            "        0, 4, 9, 6, 1, 0, 5, 1]), tensor([4, 0, 9, 2, 6, 3, 6, 7, 4, 4, 4, 3, 8, 5, 1, 8, 3, 4, 4, 5, 0, 0, 7, 8,\n",
            "        7, 4, 4, 2, 2, 9, 3, 5]), tensor([0, 9, 9, 0, 1, 3, 7, 1, 9, 4, 5, 2, 4, 9, 5, 7, 9, 4, 2, 8, 3, 4, 7, 8,\n",
            "        4, 6, 8, 0, 5, 5, 7, 1]), tensor([7, 6, 2, 1, 7, 1, 9, 0, 4, 0, 3, 2, 7, 3, 9, 3, 5, 4, 0, 6, 7, 7, 4, 2,\n",
            "        3, 8, 5, 8, 0, 0, 4, 1]), tensor([2, 9, 5, 8, 9, 0, 3, 2, 9, 5, 9, 3, 1, 2, 8, 4, 1, 4, 6, 9, 9, 8, 9, 7,\n",
            "        4, 0, 1, 9, 9, 3, 9, 0]), tensor([2, 3, 7, 3, 1, 6, 6, 8, 3, 4, 3, 3, 8, 3, 7, 1, 6, 3, 8, 4, 7, 9, 8, 6,\n",
            "        3, 0, 4, 5, 7, 6, 7, 0]), tensor([5, 0, 2, 6, 3, 3, 0, 0, 4, 4, 4, 4, 6, 9, 9, 6, 7, 4, 0, 2, 2, 1, 9, 5,\n",
            "        9, 9, 0, 5, 8, 2, 7, 3]), tensor([9, 5, 2, 8, 9, 5, 8, 0, 0, 3, 0, 6, 3, 7, 8, 0, 1, 2, 2, 6, 1, 1, 3, 2,\n",
            "        2, 5, 4, 3, 9, 3, 4, 4]), tensor([3, 7, 2, 9, 2, 1, 4, 7, 5, 5, 9, 2, 6, 9, 7, 9, 7, 4, 1, 8, 3, 3, 8, 0,\n",
            "        3, 7, 6, 7, 7, 9, 4, 4]), tensor([0, 3, 7, 2, 1, 5, 2, 0, 5, 8, 6, 7, 0, 1, 0, 5, 6, 2, 1, 4, 1, 8, 7, 9,\n",
            "        9, 7, 3, 2, 2, 2, 7, 2]), tensor([3, 9, 6, 3, 9, 5, 1, 0, 7, 6, 7, 4, 3, 5, 7, 2, 7, 2, 8, 7, 5, 4, 5, 9,\n",
            "        6, 3, 5, 0, 2, 8, 5, 3]), tensor([1, 9, 3, 7, 3, 0, 3, 4, 4, 2, 5, 9, 2, 3, 1, 7, 7, 9, 0, 1, 6, 8, 9, 2,\n",
            "        8, 3, 7, 8, 7, 7, 0, 8]), tensor([5, 6, 0, 8, 5, 6, 7, 7, 9, 7, 1, 0, 0, 8, 6, 4, 0, 2, 4, 5, 5, 6, 8, 3,\n",
            "        3, 4, 5, 0, 7, 3, 8, 7]), tensor([1, 6, 2, 0, 6, 7, 3, 7, 4, 6, 2, 3, 8, 4, 6, 3, 0, 8, 7, 3, 3, 0, 5, 6,\n",
            "        1, 5, 0, 9, 9, 4, 3, 0]), tensor([6, 1, 6, 6, 5, 7, 2, 6, 0, 9, 2, 6, 8, 2, 8, 3, 7, 7, 3, 3, 9, 5, 7, 6,\n",
            "        6, 9, 4, 7, 0, 7, 2, 9]), tensor([5, 5, 8, 7, 4, 9, 9, 6, 3, 6, 3, 0, 2, 7, 6, 4, 2, 7, 4, 1, 5, 7, 9, 7,\n",
            "        3, 9, 8, 8, 5, 1, 9, 6]), tensor([1, 0, 4, 8, 0, 5, 6, 9, 8, 8, 4, 4, 4, 1, 7, 5, 1, 4, 6, 7, 0, 3, 2, 8,\n",
            "        7, 8, 5, 5, 1, 1, 3, 8]), tensor([9, 9, 9, 1, 3, 6, 3, 6, 3, 4, 7, 1, 2, 0, 1, 5, 3, 6, 9, 2, 4, 2, 2, 6,\n",
            "        7, 7, 6, 7, 1, 4, 0, 8]), tensor([3, 3, 5, 6, 0, 8, 3, 3, 4, 0, 1, 8, 4, 3, 2, 9, 5, 4, 4, 5, 6, 1, 6, 4,\n",
            "        4, 5, 8, 6, 7, 3, 6, 6]), tensor([7, 6, 2, 3, 8, 8, 4, 6, 3, 8, 5, 1, 7, 5, 4, 8, 7, 7, 9, 9, 9, 2, 0, 9,\n",
            "        4, 0, 8, 8, 8, 0, 5, 6]), tensor([6, 6, 6, 6, 9, 9, 2, 3, 5, 2, 0, 1, 0, 8, 9, 5, 7, 3, 0, 2, 4, 1, 2, 8,\n",
            "        1, 8, 2, 6, 6, 9, 8, 5]), tensor([1, 2, 2, 0, 9, 2, 5, 5, 0, 7, 1, 6, 9, 8, 9, 9, 4, 9, 6, 3, 1, 2, 5, 0,\n",
            "        8, 0, 4, 2, 3, 0, 0, 0]), tensor([3, 0, 5, 9, 6, 7, 1, 5, 0, 1, 6, 1, 7, 9, 4, 0, 4, 5, 2, 9, 4, 9, 8, 8,\n",
            "        7, 6, 2, 0, 9, 3, 6, 7]), tensor([6, 4, 7, 0, 4, 1, 0, 5, 7, 3, 5, 9, 2, 3, 2, 8, 5, 8, 1, 9, 6, 7, 6, 7,\n",
            "        3, 6, 4, 5, 6, 8, 4, 6]), tensor([7, 4, 0, 5, 1, 5, 9, 6, 0, 9, 5, 8, 5, 7, 3, 9, 8, 3, 4, 0, 5, 7, 5, 1,\n",
            "        1, 5, 2, 1, 4, 5, 8, 2]), tensor([9, 6, 3, 3, 4, 6, 2, 4, 1, 1, 4, 7, 2, 5, 0, 2, 6, 8, 8, 6, 7, 7, 1, 2,\n",
            "        6, 4, 1, 4, 0, 2, 5, 8]), tensor([2, 4, 2, 3, 1, 5, 8, 4, 4, 0, 8, 6, 8, 0, 3, 4, 5, 8, 7, 5, 7, 0, 1, 1,\n",
            "        9, 7, 8, 0, 1, 9, 6, 3]), tensor([6, 9, 4, 0, 4, 9, 7, 2, 2, 2, 0, 5, 6, 6, 3, 7, 8, 6, 2, 6, 1, 1, 9, 9,\n",
            "        2, 9, 3, 4, 8, 5, 0, 0]), tensor([6, 1, 2, 3, 7, 6, 9, 0, 4, 8, 6, 3, 6, 9, 5, 8, 8, 4, 6, 4, 1, 1, 8, 9,\n",
            "        6, 4, 2, 3, 8, 0, 7, 1]), tensor([8, 8, 5, 3, 3, 7, 7, 1, 0, 1, 4, 1, 9, 0, 2, 1, 1, 0, 7, 3, 7, 3, 9, 0,\n",
            "        1, 8, 9, 2, 2, 6, 0, 9]), tensor([3, 6, 1, 2, 7, 8, 0, 3, 6, 8, 6, 5, 5, 3, 5, 9, 1, 8, 5, 3, 1, 2, 4, 3,\n",
            "        7, 3, 5, 4, 8, 6, 7, 4]), tensor([2, 3, 9, 8, 3, 8, 7, 7, 9, 7, 0, 9, 4, 0, 9, 6, 1, 9, 8, 6, 3, 7, 2, 9,\n",
            "        5, 4, 7, 1, 2, 1, 2, 3]), tensor([9, 2, 0, 5, 6, 0, 5, 5, 4, 6, 9, 9, 1, 6, 7, 7, 7, 2, 5, 1, 2, 0, 6, 3,\n",
            "        8, 9, 8, 4, 1, 0, 2, 3]), tensor([9, 8, 8, 7, 8, 3, 2, 0, 7, 4, 8, 6, 9, 9, 4, 7, 7, 6, 2, 1, 5, 3, 4, 3,\n",
            "        5, 5, 0, 8, 2, 7, 8, 9]), tensor([4, 2, 1, 7, 4, 6, 4, 7, 4, 3, 6, 0, 7, 7, 8, 0, 9, 1, 2, 6, 2, 9, 7, 1,\n",
            "        9, 7, 3, 3, 1, 6, 3, 5]), tensor([3, 3, 9, 4, 1, 4, 4, 6, 7, 5, 4, 6, 9, 9, 8, 3, 8, 1, 2, 2, 9, 5, 6, 1,\n",
            "        4, 6, 0, 1, 2, 0, 7, 6]), tensor([8, 8, 2, 8, 4, 5, 0, 6, 1, 7, 9, 7, 3, 9, 6, 0, 2, 8, 7, 1, 6, 8, 7, 6,\n",
            "        6, 6, 8, 2, 8, 0, 1, 5]), tensor([3, 8, 1, 7, 4, 9, 3, 7, 9, 5, 1, 8, 3, 0, 9, 0, 6, 2, 4, 2, 7, 6, 0, 9,\n",
            "        8, 8, 1, 5, 7, 7, 0, 7]), tensor([5, 4, 1, 0, 9, 8, 7, 3, 7, 0, 2, 9, 5, 1, 6, 9, 2, 6, 3, 2, 0, 4, 7, 8,\n",
            "        6, 4, 0, 1, 9, 3, 8, 3]), tensor([9, 7, 1, 7, 1, 0, 4, 8, 5, 0, 0, 6, 4, 1, 1, 2, 9, 0, 2, 2, 1, 3, 2, 7,\n",
            "        0, 1, 8, 7, 7, 0, 0, 5]), tensor([0, 4, 6, 2, 2, 5, 2, 3, 8, 2, 1, 7, 3, 8, 8, 9, 5, 0, 1, 3, 1, 4, 9, 0,\n",
            "        3, 1, 1, 4, 7, 8, 3, 6]), tensor([9, 0, 2, 8, 3, 8, 4, 9, 4, 7, 7, 0, 4, 0, 2, 5, 7, 3, 7, 4, 6, 6, 9, 3,\n",
            "        0, 5, 4, 1, 2, 1, 8, 1]), tensor([9, 4, 8, 9, 9, 3, 3, 7, 0, 0, 6, 1, 6, 4, 6, 4, 2, 2, 7, 3, 6, 3, 4, 0,\n",
            "        0, 1, 3, 6, 6, 5, 7, 9]), tensor([6, 6, 3, 7, 5, 1, 2, 7, 7, 5, 8, 0, 9, 1, 2, 1, 4, 9, 1, 6, 5, 3, 3, 0,\n",
            "        7, 1, 2, 7, 9, 3, 7, 4]), tensor([4, 6, 6, 7, 2, 7, 3, 3, 7, 8, 8, 7, 0, 1, 6, 0, 9, 7, 9, 9, 1, 2, 0, 4,\n",
            "        7, 4, 3, 3, 1, 7, 5, 7]), tensor([6, 9, 0, 0, 3, 1, 4, 5, 5, 3, 6, 7, 8, 4, 5, 4, 0, 8, 3, 0, 1, 7, 9, 2,\n",
            "        9, 1, 2, 6, 5, 1, 0, 6]), tensor([3, 7, 3, 1, 8, 2, 5, 9, 5, 8, 1, 0, 9, 2, 6, 6, 1, 1, 4, 7, 3, 0, 7, 9,\n",
            "        8, 9, 5, 4, 0, 4, 7, 2]), tensor([3, 8, 3, 8, 1, 1, 2, 4, 8, 1, 0, 8, 4, 8, 5, 3, 2, 7, 0, 2, 4, 9, 4, 2,\n",
            "        4, 9, 9, 6, 9, 5, 6, 7]), tensor([3, 2, 3, 3, 9, 6, 7, 7, 8, 1, 1, 2, 6, 5, 7, 9, 4, 7, 6, 7, 0, 6, 2, 9,\n",
            "        9, 7, 7, 5, 0, 1, 6, 3]), tensor([4, 6, 2, 0, 9, 8, 7, 8, 6, 2, 2, 7, 7, 1, 6, 5, 9, 9, 2, 1, 5, 1, 4, 3,\n",
            "        6, 7, 9, 8, 3, 3, 8, 5]), tensor([2, 4, 3, 6, 8, 0, 9, 2, 6, 5, 0, 1, 2, 8, 1, 5, 2, 1, 8, 1, 7, 3, 9, 1,\n",
            "        8, 3, 5, 4, 1, 0, 0, 4]), tensor([6, 6, 8, 2, 2, 5, 7, 0, 2, 6, 9, 8, 6, 1, 0, 0, 6, 8, 3, 4, 7, 7, 5, 9,\n",
            "        2, 5, 6, 6, 9, 9, 4, 8]), tensor([5, 6, 9, 3, 4, 0, 2, 8, 3, 1, 9, 0, 1, 6, 7, 3, 8, 5, 0, 4, 6, 4, 1, 1,\n",
            "        9, 8, 8, 5, 1, 2, 6, 0]), tensor([5, 4, 5, 6, 8, 3, 2, 4, 4, 4, 4, 5, 0, 4, 3, 1, 9, 2, 8, 7, 8, 2, 3, 6,\n",
            "        2, 5, 6, 9, 0, 7, 1, 1]), tensor([7, 9, 6, 1, 6, 7, 7, 4, 6, 3, 3, 6, 1, 0, 6, 9, 9, 8, 2, 9, 6, 4, 5, 4,\n",
            "        7, 2, 6, 5, 2, 6, 9, 3]), tensor([7, 0, 6, 3, 5, 6, 4, 3, 4, 6, 9, 8, 8, 6, 4, 0, 0, 3, 9, 4, 2, 8, 1, 7,\n",
            "        2, 6, 9, 3, 6, 2, 0, 8]), tensor([7, 0, 5, 0, 6, 3, 1, 3, 0, 9, 5, 4, 3, 7, 6, 2, 2, 9, 6, 7, 6, 5, 6, 8,\n",
            "        2, 1, 0, 6, 6, 5, 6, 4]), tensor([5, 6, 2, 0, 7, 4, 6, 8, 3, 3, 8, 6, 3, 8, 9, 4, 2, 2, 8, 4, 8, 2, 5, 7,\n",
            "        0, 3, 6, 8, 1, 5, 9, 2]), tensor([2, 8, 9, 4, 1, 0, 5, 0, 6, 2, 8, 2, 2, 6, 7, 2, 7, 3, 7, 4, 9, 8, 8, 3,\n",
            "        9, 9, 0, 6, 2, 6, 3, 6]), tensor([4, 9, 2, 7, 6, 5, 0, 3, 1, 7, 8, 0, 4, 7, 3, 3, 8, 0, 0, 9, 2, 8, 5, 4,\n",
            "        9, 6, 2, 4, 2, 0, 1, 1]), tensor([7, 3, 8, 2, 1, 9, 5, 8, 2, 8, 6, 3, 7, 3, 6, 4, 9, 6, 6, 2, 9, 8, 0, 5,\n",
            "        7, 4, 4, 5, 4, 1, 0, 7]), tensor([2, 4, 2, 7, 3, 6, 3, 3, 1, 5, 6, 0, 3, 9, 7, 5, 6, 5, 3, 9, 2, 6, 3, 5,\n",
            "        4, 8, 9, 0, 9, 7, 5, 7]), tensor([7, 9, 3, 6, 8, 4, 3, 9, 3, 1, 0, 2, 5, 6, 8, 7, 9, 7, 7, 7, 9, 2, 6, 0,\n",
            "        6, 7, 2, 1, 8, 0, 3, 8]), tensor([5, 0, 7, 6, 9, 1, 1, 2, 6, 8, 9, 7, 7, 5, 8, 6, 1, 4, 0, 1, 8, 4, 3, 4,\n",
            "        7, 9, 3, 7, 5, 5, 3, 9]), tensor([1, 4, 1, 6, 7, 4, 6, 9, 3, 4, 6, 1, 7, 8, 1, 6, 5, 9, 0, 0, 9, 7, 3, 8,\n",
            "        8, 2, 8, 5, 7, 6, 7, 0]), tensor([9, 6, 9, 2, 9, 4, 8, 5, 2, 0, 3, 2, 6, 4, 7, 3, 1, 7, 7, 8, 5, 7, 0, 6,\n",
            "        4, 2, 1, 3, 8, 3, 3, 4]), tensor([7, 5, 9, 1, 0, 4, 3, 7, 6, 6, 3, 1, 8, 4, 7, 2, 5, 5, 3, 1, 7, 1, 9, 2,\n",
            "        9, 6, 2, 6, 1, 8, 6, 6]), tensor([8, 2, 0, 6, 8, 4, 5, 1, 2, 2, 6, 4, 6, 8, 5, 7, 7, 7, 6, 5, 5, 7, 9, 7,\n",
            "        8, 2, 8, 2, 1, 3, 3, 4]), tensor([8, 9, 4, 0, 7, 3, 6, 8, 1, 2, 6, 1, 0, 5, 4, 9, 7, 2, 8, 7, 3, 7, 2, 3,\n",
            "        2, 1, 7, 4, 8, 5, 5, 0]), tensor([2, 3, 0, 1, 6, 6, 5, 0, 1, 5, 5, 4, 5, 1, 9, 8, 7, 1, 2, 7, 0, 9, 3, 1,\n",
            "        9, 0, 4, 2, 6, 5, 9, 9]), tensor([2, 2, 7, 1, 2, 1, 4, 2, 3, 7, 8, 4, 0, 4, 5, 1, 2, 9, 3, 5, 8, 0, 1, 9,\n",
            "        6, 7, 3, 7, 4, 4, 6, 6]), tensor([2, 1, 3, 3, 6, 7, 0, 5, 9, 6, 9, 3, 7, 9, 9, 6, 8, 8, 3, 1, 4, 4, 0, 6,\n",
            "        8, 1, 6, 1, 3, 3, 2, 7]), tensor([8, 7, 0, 4, 3, 4, 4, 5, 7, 9, 2, 7, 2, 4, 5, 0, 1, 7, 6, 7, 6, 6, 0, 3,\n",
            "        5, 1, 1, 2, 3, 6, 9, 8]), tensor([1, 6, 1, 6, 8, 5, 4, 0, 4, 0, 4, 9, 3, 8, 5, 2, 8, 6, 2, 8, 6, 4, 4, 6,\n",
            "        8, 7, 7, 2, 8, 7, 2, 9]), tensor([5, 9, 2, 1, 0, 4, 1, 9, 7, 1, 7, 3, 5, 8, 7, 2, 5, 1, 5, 2, 0, 6, 0, 1,\n",
            "        2, 4, 4, 8, 0, 3, 2, 6]), tensor([3, 5, 1, 6, 3, 6, 5, 1, 8, 3, 1, 6, 7, 6, 4, 2, 0, 0, 7, 8, 1, 6, 9, 0,\n",
            "        6, 8, 1, 4, 8, 8, 3, 0]), tensor([8, 5, 7, 5, 4, 7, 7, 6, 1, 8, 1, 7, 7, 0, 3, 1, 6, 5, 5, 3, 8, 9, 4, 0,\n",
            "        9, 5, 1, 7, 6, 1, 5, 2]), tensor([0, 3, 2, 0, 7, 1, 3, 4, 4, 5, 7, 0, 6, 7, 3, 3, 7, 8, 8, 2, 5, 6, 9, 7,\n",
            "        1, 2, 9, 3, 0, 5, 5, 0]), tensor([9, 1, 4, 6, 5, 6, 4, 1, 4, 0, 3, 3, 6, 3, 0, 8, 4, 7, 5, 5, 7, 0, 7, 9,\n",
            "        4, 3, 2, 9, 2, 7, 1, 8]), tensor([8, 8, 9, 8, 3, 8, 9, 3, 6, 0, 2, 1, 8, 4, 4, 6, 0, 9, 7, 3, 1, 9, 1, 3,\n",
            "        5, 6, 6, 2, 1, 7, 3, 0]), tensor([8, 2, 9, 3, 9, 6, 0, 4, 1, 2, 6, 2, 3, 1, 4, 9, 7, 3, 2, 6, 3, 9, 7, 8,\n",
            "        5, 0, 9, 3, 0, 3, 8, 1]), tensor([3, 2, 7, 5, 8, 4, 5, 6, 8, 9, 1, 9, 1, 8, 1, 8])]\n"
          ]
        },
        {
          "output_type": "execute_result",
          "data": {
            "text/plain": [
              "tensor([9, 2, 1, 1, 6, 1, 4, 6, 5, 7])"
            ]
          },
          "metadata": {},
          "execution_count": 70
        }
      ]
    },
    {
      "cell_type": "code",
      "source": [
        "# install torchmetrics if not installed\n",
        "try:\n",
        "  import torchmetrics\n",
        "except:\n",
        "  !pip install -q torchmetrics -U mlxtend\n",
        "  import torchmetrics, mlxtend\n",
        "  print(f\"version {mlxtend.__version__}\")"
      ],
      "metadata": {
        "id": "JPkYQ98BF034"
      },
      "execution_count": null,
      "outputs": []
    },
    {
      "cell_type": "markdown",
      "source": [
        "We want the diagnols on confusion matrix to be dark/have highest values because that means the predictions match the true labels."
      ],
      "metadata": {
        "id": "v9ekc5clR2wn"
      }
    },
    {
      "cell_type": "code",
      "source": [
        "from torchmetrics import ConfusionMatrix\n",
        "from mlxtend.plotting import plot_confusion_matrix\n",
        "\n",
        "confmat = ConfusionMatrix(num_classes=len(class_names), task='multiclass')\n",
        "confmat_tensor = confmat(preds=y_pred_tensor,\n",
        "                         target=test_data.targets)\n",
        "\n",
        "# plot confusion matrix\n",
        "fig, ax = plot_confusion_matrix(\n",
        "    conf_mat=confmat_tensor.numpy(),\n",
        "    class_names=class_names,\n",
        "    figsize=(10, 7)\n",
        ")"
      ],
      "metadata": {
        "colab": {
          "base_uri": "https://localhost:8080/",
          "height": 635
        },
        "id": "Kv2vrRa6GFYJ",
        "outputId": "af3f3a17-e56d-4416-d79c-d1e198ffb3ed"
      },
      "execution_count": null,
      "outputs": [
        {
          "output_type": "display_data",
          "data": {
            "text/plain": [
              "<Figure size 1000x700 with 1 Axes>"
            ],
            "image/png": "[encoded data removed]"
          },
          "metadata": {}
        }
      ]
    },
    {
      "cell_type": "markdown",
      "source": [
        "# Save our best model"
      ],
      "metadata": {
        "id": "JUxCOGG0SLx9"
      }
    },
    {
      "cell_type": "code",
      "source": [
        "from pathlib import Path\n",
        "\n",
        "MODEL_PATH = Path(\"models\")\n",
        "MODEL_PATH.mkdir(parents=True,\n",
        "                 exist_ok=True)\n",
        "\n",
        "MODEL_NAME = \"03_pytorch_computer_vision_CNN_model.pth\"\n",
        "MODEL_SAVE_PATH = MODEL_PATH / MODEL_NAME\n",
        "\n",
        "torch.save(obj=model_2.state_dict(),\n",
        "           f=MODEL_SAVE_PATH)"
      ],
      "metadata": {
        "id": "AAGiw2WYSQpH"
      },
      "execution_count": null,
      "outputs": []
    },
    {
      "cell_type": "code",
      "source": [],
      "metadata": {
        "id": "ULvCNqysSjDi"
      },
      "execution_count": null,
      "outputs": []
    }
  ],
  "metadata": {
    "colab": {
      "provenance": []
    },
    "kernelspec": {
      "display_name": "Python 3",
      "name": "python3"
    },
    "language_info": {
      "name": "python"
    },
    "widgets": {
      "application/vnd.jupyter.widget-state+json": {
        "69becab64f9e40e98edddd0a96551075": {
          "model_module": "@jupyter-widgets/controls",
          "model_name": "HBoxModel",
          "model_module_version": "1.5.0",
          "state": {
            "_dom_classes": [],
            "_model_module": "@jupyter-widgets/controls",
            "_model_module_version": "1.5.0",
            "_model_name": "HBoxModel",
            "_view_count": null,
            "_view_module": "@jupyter-widgets/controls",
            "_view_module_version": "1.5.0",
            "_view_name": "HBoxView",
            "box_style": "",
            "children": [
              "IPY_MODEL_40d9b746e8bf478ca1a2a89b875eb692",
              "IPY_MODEL_0d1d4ba278b540e983da038d0512e272",
              "IPY_MODEL_eca86db2cafe4feab94c12407587e505"
            ],
            "layout": "IPY_MODEL_ac3f040d828f40cdb922d5d14f534270"
          }
        },
        "40d9b746e8bf478ca1a2a89b875eb692": {
          "model_module": "@jupyter-widgets/controls",
          "model_name": "HTMLModel",
          "model_module_version": "1.5.0",
          "state": {
            "_dom_classes": [],
            "_model_module": "@jupyter-widgets/controls",
            "_model_module_version": "1.5.0",
            "_model_name": "HTMLModel",
            "_view_count": null,
            "_view_module": "@jupyter-widgets/controls",
            "_view_module_version": "1.5.0",
            "_view_name": "HTMLView",
            "description": "",
            "description_tooltip": null,
            "layout": "IPY_MODEL_3af56db91c8b44d69df049eb4fdc62cd",
            "placeholder": "​",
            "style": "IPY_MODEL_e21f1767bbf14a1c940d2f47faab04b7",
            "value": "100%"
          }
        },
        "0d1d4ba278b540e983da038d0512e272": {
          "model_module": "@jupyter-widgets/controls",
          "model_name": "FloatProgressModel",
          "model_module_version": "1.5.0",
          "state": {
            "_dom_classes": [],
            "_model_module": "@jupyter-widgets/controls",
            "_model_module_version": "1.5.0",
            "_model_name": "FloatProgressModel",
            "_view_count": null,
            "_view_module": "@jupyter-widgets/controls",
            "_view_module_version": "1.5.0",
            "_view_name": "ProgressView",
            "bar_style": "success",
            "description": "",
            "description_tooltip": null,
            "layout": "IPY_MODEL_b86010a2033046b89baabcd0bb5b087c",
            "max": 3,
            "min": 0,
            "orientation": "horizontal",
            "style": "IPY_MODEL_d75f8e85f29240269df5871c46e21054",
            "value": 3
          }
        },
        "eca86db2cafe4feab94c12407587e505": {
          "model_module": "@jupyter-widgets/controls",
          "model_name": "HTMLModel",
          "model_module_version": "1.5.0",
          "state": {
            "_dom_classes": [],
            "_model_module": "@jupyter-widgets/controls",
            "_model_module_version": "1.5.0",
            "_model_name": "HTMLModel",
            "_view_count": null,
            "_view_module": "@jupyter-widgets/controls",
            "_view_module_version": "1.5.0",
            "_view_name": "HTMLView",
            "description": "",
            "description_tooltip": null,
            "layout": "IPY_MODEL_726219137a2241109c5653090008729e",
            "placeholder": "​",
            "style": "IPY_MODEL_458f8cc7582449cc96215d427f23ef79",
            "value": " 3/3 [00:41&lt;00:00, 13.72s/it]"
          }
        },
        "ac3f040d828f40cdb922d5d14f534270": {
          "model_module": "@jupyter-widgets/base",
          "model_name": "LayoutModel",
          "model_module_version": "1.2.0",
          "state": {
            "_model_module": "@jupyter-widgets/base",
            "_model_module_version": "1.2.0",
            "_model_name": "LayoutModel",
            "_view_count": null,
            "_view_module": "@jupyter-widgets/base",
            "_view_module_version": "1.2.0",
            "_view_name": "LayoutView",
            "align_content": null,
            "align_items": null,
            "align_self": null,
            "border": null,
            "bottom": null,
            "display": null,
            "flex": null,
            "flex_flow": null,
            "grid_area": null,
            "grid_auto_columns": null,
            "grid_auto_flow": null,
            "grid_auto_rows": null,
            "grid_column": null,
            "grid_gap": null,
            "grid_row": null,
            "grid_template_areas": null,
            "grid_template_columns": null,
            "grid_template_rows": null,
            "height": null,
            "justify_content": null,
            "justify_items": null,
            "left": null,
            "margin": null,
            "max_height": null,
            "max_width": null,
            "min_height": null,
            "min_width": null,
            "object_fit": null,
            "object_position": null,
            "order": null,
            "overflow": null,
            "overflow_x": null,
            "overflow_y": null,
            "padding": null,
            "right": null,
            "top": null,
            "visibility": null,
            "width": null
          }
        },
        "3af56db91c8b44d69df049eb4fdc62cd": {
          "model_module": "@jupyter-widgets/base",
          "model_name": "LayoutModel",
          "model_module_version": "1.2.0",
          "state": {
            "_model_module": "@jupyter-widgets/base",
            "_model_module_version": "1.2.0",
            "_model_name": "LayoutModel",
            "_view_count": null,
            "_view_module": "@jupyter-widgets/base",
            "_view_module_version": "1.2.0",
            "_view_name": "LayoutView",
            "align_content": null,
            "align_items": null,
            "align_self": null,
            "border": null,
            "bottom": null,
            "display": null,
            "flex": null,
            "flex_flow": null,
            "grid_area": null,
            "grid_auto_columns": null,
            "grid_auto_flow": null,
            "grid_auto_rows": null,
            "grid_column": null,
            "grid_gap": null,
            "grid_row": null,
            "grid_template_areas": null,
            "grid_template_columns": null,
            "grid_template_rows": null,
            "height": null,
            "justify_content": null,
            "justify_items": null,
            "left": null,
            "margin": null,
            "max_height": null,
            "max_width": null,
            "min_height": null,
            "min_width": null,
            "object_fit": null,
            "object_position": null,
            "order": null,
            "overflow": null,
            "overflow_x": null,
            "overflow_y": null,
            "padding": null,
            "right": null,
            "top": null,
            "visibility": null,
            "width": null
          }
        },
        "e21f1767bbf14a1c940d2f47faab04b7": {
          "model_module": "@jupyter-widgets/controls",
          "model_name": "DescriptionStyleModel",
          "model_module_version": "1.5.0",
          "state": {
            "_model_module": "@jupyter-widgets/controls",
            "_model_module_version": "1.5.0",
            "_model_name": "DescriptionStyleModel",
            "_view_count": null,
            "_view_module": "@jupyter-widgets/base",
            "_view_module_version": "1.2.0",
            "_view_name": "StyleView",
            "description_width": ""
          }
        },
        "b86010a2033046b89baabcd0bb5b087c": {
          "model_module": "@jupyter-widgets/base",
          "model_name": "LayoutModel",
          "model_module_version": "1.2.0",
          "state": {
            "_model_module": "@jupyter-widgets/base",
            "_model_module_version": "1.2.0",
            "_model_name": "LayoutModel",
            "_view_count": null,
            "_view_module": "@jupyter-widgets/base",
            "_view_module_version": "1.2.0",
            "_view_name": "LayoutView",
            "align_content": null,
            "align_items": null,
            "align_self": null,
            "border": null,
            "bottom": null,
            "display": null,
            "flex": null,
            "flex_flow": null,
            "grid_area": null,
            "grid_auto_columns": null,
            "grid_auto_flow": null,
            "grid_auto_rows": null,
            "grid_column": null,
            "grid_gap": null,
            "grid_row": null,
            "grid_template_areas": null,
            "grid_template_columns": null,
            "grid_template_rows": null,
            "height": null,
            "justify_content": null,
            "justify_items": null,
            "left": null,
            "margin": null,
            "max_height": null,
            "max_width": null,
            "min_height": null,
            "min_width": null,
            "object_fit": null,
            "object_position": null,
            "order": null,
            "overflow": null,
            "overflow_x": null,
            "overflow_y": null,
            "padding": null,
            "right": null,
            "top": null,
            "visibility": null,
            "width": null
          }
        },
        "d75f8e85f29240269df5871c46e21054": {
          "model_module": "@jupyter-widgets/controls",
          "model_name": "ProgressStyleModel",
          "model_module_version": "1.5.0",
          "state": {
            "_model_module": "@jupyter-widgets/controls",
            "_model_module_version": "1.5.0",
            "_model_name": "ProgressStyleModel",
            "_view_count": null,
            "_view_module": "@jupyter-widgets/base",
            "_view_module_version": "1.2.0",
            "_view_name": "StyleView",
            "bar_color": null,
            "description_width": ""
          }
        },
        "726219137a2241109c5653090008729e": {
          "model_module": "@jupyter-widgets/base",
          "model_name": "LayoutModel",
          "model_module_version": "1.2.0",
          "state": {
            "_model_module": "@jupyter-widgets/base",
            "_model_module_version": "1.2.0",
            "_model_name": "LayoutModel",
            "_view_count": null,
            "_view_module": "@jupyter-widgets/base",
            "_view_module_version": "1.2.0",
            "_view_name": "LayoutView",
            "align_content": null,
            "align_items": null,
            "align_self": null,
            "border": null,
            "bottom": null,
            "display": null,
            "flex": null,
            "flex_flow": null,
            "grid_area": null,
            "grid_auto_columns": null,
            "grid_auto_flow": null,
            "grid_auto_rows": null,
            "grid_column": null,
            "grid_gap": null,
            "grid_row": null,
            "grid_template_areas": null,
            "grid_template_columns": null,
            "grid_template_rows": null,
            "height": null,
            "justify_content": null,
            "justify_items": null,
            "left": null,
            "margin": null,
            "max_height": null,
            "max_width": null,
            "min_height": null,
            "min_width": null,
            "object_fit": null,
            "object_position": null,
            "order": null,
            "overflow": null,
            "overflow_x": null,
            "overflow_y": null,
            "padding": null,
            "right": null,
            "top": null,
            "visibility": null,
            "width": null
          }
        },
        "458f8cc7582449cc96215d427f23ef79": {
          "model_module": "@jupyter-widgets/controls",
          "model_name": "DescriptionStyleModel",
          "model_module_version": "1.5.0",
          "state": {
            "_model_module": "@jupyter-widgets/controls",
            "_model_module_version": "1.5.0",
            "_model_name": "DescriptionStyleModel",
            "_view_count": null,
            "_view_module": "@jupyter-widgets/base",
            "_view_module_version": "1.2.0",
            "_view_name": "StyleView",
            "description_width": ""
          }
        },
        "9a689259af0c4d84b5050b3411c84976": {
          "model_module": "@jupyter-widgets/controls",
          "model_name": "HBoxModel",
          "model_module_version": "1.5.0",
          "state": {
            "_dom_classes": [],
            "_model_module": "@jupyter-widgets/controls",
            "_model_module_version": "1.5.0",
            "_model_name": "HBoxModel",
            "_view_count": null,
            "_view_module": "@jupyter-widgets/controls",
            "_view_module_version": "1.5.0",
            "_view_name": "HBoxView",
            "box_style": "",
            "children": [
              "IPY_MODEL_4fa28859b1184bc883bc9cfa74392384",
              "IPY_MODEL_cd98eae86d08433d9b964531477f8eb4",
              "IPY_MODEL_0c89aa1dac5d4a2f8dd35568bd331c62"
            ],
            "layout": "IPY_MODEL_bb10f8ac5b524140a6711585b03ccbd1"
          }
        },
        "4fa28859b1184bc883bc9cfa74392384": {
          "model_module": "@jupyter-widgets/controls",
          "model_name": "HTMLModel",
          "model_module_version": "1.5.0",
          "state": {
            "_dom_classes": [],
            "_model_module": "@jupyter-widgets/controls",
            "_model_module_version": "1.5.0",
            "_model_name": "HTMLModel",
            "_view_count": null,
            "_view_module": "@jupyter-widgets/controls",
            "_view_module_version": "1.5.0",
            "_view_name": "HTMLView",
            "description": "",
            "description_tooltip": null,
            "layout": "IPY_MODEL_7301e99caf61430c937b7e55562e64d7",
            "placeholder": "​",
            "style": "IPY_MODEL_04f1097ebfc748018b3e64b8c2f0a46e",
            "value": "100%"
          }
        },
        "cd98eae86d08433d9b964531477f8eb4": {
          "model_module": "@jupyter-widgets/controls",
          "model_name": "FloatProgressModel",
          "model_module_version": "1.5.0",
          "state": {
            "_dom_classes": [],
            "_model_module": "@jupyter-widgets/controls",
            "_model_module_version": "1.5.0",
            "_model_name": "FloatProgressModel",
            "_view_count": null,
            "_view_module": "@jupyter-widgets/controls",
            "_view_module_version": "1.5.0",
            "_view_name": "ProgressView",
            "bar_style": "success",
            "description": "",
            "description_tooltip": null,
            "layout": "IPY_MODEL_6995b1806c0b4da9b4b7adfba4345e01",
            "max": 3,
            "min": 0,
            "orientation": "horizontal",
            "style": "IPY_MODEL_2cce821b0dfe459eb7dafec2cd775068",
            "value": 3
          }
        },
        "0c89aa1dac5d4a2f8dd35568bd331c62": {
          "model_module": "@jupyter-widgets/controls",
          "model_name": "HTMLModel",
          "model_module_version": "1.5.0",
          "state": {
            "_dom_classes": [],
            "_model_module": "@jupyter-widgets/controls",
            "_model_module_version": "1.5.0",
            "_model_name": "HTMLModel",
            "_view_count": null,
            "_view_module": "@jupyter-widgets/controls",
            "_view_module_version": "1.5.0",
            "_view_name": "HTMLView",
            "description": "",
            "description_tooltip": null,
            "layout": "IPY_MODEL_26f245691cac48218f7eb0343ae56342",
            "placeholder": "​",
            "style": "IPY_MODEL_3971f63ca23040129d74e7f20a165b2e",
            "value": " 3/3 [00:40&lt;00:00, 13.53s/it]"
          }
        },
        "bb10f8ac5b524140a6711585b03ccbd1": {
          "model_module": "@jupyter-widgets/base",
          "model_name": "LayoutModel",
          "model_module_version": "1.2.0",
          "state": {
            "_model_module": "@jupyter-widgets/base",
            "_model_module_version": "1.2.0",
            "_model_name": "LayoutModel",
            "_view_count": null,
            "_view_module": "@jupyter-widgets/base",
            "_view_module_version": "1.2.0",
            "_view_name": "LayoutView",
            "align_content": null,
            "align_items": null,
            "align_self": null,
            "border": null,
            "bottom": null,
            "display": null,
            "flex": null,
            "flex_flow": null,
            "grid_area": null,
            "grid_auto_columns": null,
            "grid_auto_flow": null,
            "grid_auto_rows": null,
            "grid_column": null,
            "grid_gap": null,
            "grid_row": null,
            "grid_template_areas": null,
            "grid_template_columns": null,
            "grid_template_rows": null,
            "height": null,
            "justify_content": null,
            "justify_items": null,
            "left": null,
            "margin": null,
            "max_height": null,
            "max_width": null,
            "min_height": null,
            "min_width": null,
            "object_fit": null,
            "object_position": null,
            "order": null,
            "overflow": null,
            "overflow_x": null,
            "overflow_y": null,
            "padding": null,
            "right": null,
            "top": null,
            "visibility": null,
            "width": null
          }
        },
        "7301e99caf61430c937b7e55562e64d7": {
          "model_module": "@jupyter-widgets/base",
          "model_name": "LayoutModel",
          "model_module_version": "1.2.0",
          "state": {
            "_model_module": "@jupyter-widgets/base",
            "_model_module_version": "1.2.0",
            "_model_name": "LayoutModel",
            "_view_count": null,
            "_view_module": "@jupyter-widgets/base",
            "_view_module_version": "1.2.0",
            "_view_name": "LayoutView",
            "align_content": null,
            "align_items": null,
            "align_self": null,
            "border": null,
            "bottom": null,
            "display": null,
            "flex": null,
            "flex_flow": null,
            "grid_area": null,
            "grid_auto_columns": null,
            "grid_auto_flow": null,
            "grid_auto_rows": null,
            "grid_column": null,
            "grid_gap": null,
            "grid_row": null,
            "grid_template_areas": null,
            "grid_template_columns": null,
            "grid_template_rows": null,
            "height": null,
            "justify_content": null,
            "justify_items": null,
            "left": null,
            "margin": null,
            "max_height": null,
            "max_width": null,
            "min_height": null,
            "min_width": null,
            "object_fit": null,
            "object_position": null,
            "order": null,
            "overflow": null,
            "overflow_x": null,
            "overflow_y": null,
            "padding": null,
            "right": null,
            "top": null,
            "visibility": null,
            "width": null
          }
        },
        "04f1097ebfc748018b3e64b8c2f0a46e": {
          "model_module": "@jupyter-widgets/controls",
          "model_name": "DescriptionStyleModel",
          "model_module_version": "1.5.0",
          "state": {
            "_model_module": "@jupyter-widgets/controls",
            "_model_module_version": "1.5.0",
            "_model_name": "DescriptionStyleModel",
            "_view_count": null,
            "_view_module": "@jupyter-widgets/base",
            "_view_module_version": "1.2.0",
            "_view_name": "StyleView",
            "description_width": ""
          }
        },
        "6995b1806c0b4da9b4b7adfba4345e01": {
          "model_module": "@jupyter-widgets/base",
          "model_name": "LayoutModel",
          "model_module_version": "1.2.0",
          "state": {
            "_model_module": "@jupyter-widgets/base",
            "_model_module_version": "1.2.0",
            "_model_name": "LayoutModel",
            "_view_count": null,
            "_view_module": "@jupyter-widgets/base",
            "_view_module_version": "1.2.0",
            "_view_name": "LayoutView",
            "align_content": null,
            "align_items": null,
            "align_self": null,
            "border": null,
            "bottom": null,
            "display": null,
            "flex": null,
            "flex_flow": null,
            "grid_area": null,
            "grid_auto_columns": null,
            "grid_auto_flow": null,
            "grid_auto_rows": null,
            "grid_column": null,
            "grid_gap": null,
            "grid_row": null,
            "grid_template_areas": null,
            "grid_template_columns": null,
            "grid_template_rows": null,
            "height": null,
            "justify_content": null,
            "justify_items": null,
            "left": null,
            "margin": null,
            "max_height": null,
            "max_width": null,
            "min_height": null,
            "min_width": null,
            "object_fit": null,
            "object_position": null,
            "order": null,
            "overflow": null,
            "overflow_x": null,
            "overflow_y": null,
            "padding": null,
            "right": null,
            "top": null,
            "visibility": null,
            "width": null
          }
        },
        "2cce821b0dfe459eb7dafec2cd775068": {
          "model_module": "@jupyter-widgets/controls",
          "model_name": "ProgressStyleModel",
          "model_module_version": "1.5.0",
          "state": {
            "_model_module": "@jupyter-widgets/controls",
            "_model_module_version": "1.5.0",
            "_model_name": "ProgressStyleModel",
            "_view_count": null,
            "_view_module": "@jupyter-widgets/base",
            "_view_module_version": "1.2.0",
            "_view_name": "StyleView",
            "bar_color": null,
            "description_width": ""
          }
        },
        "26f245691cac48218f7eb0343ae56342": {
          "model_module": "@jupyter-widgets/base",
          "model_name": "LayoutModel",
          "model_module_version": "1.2.0",
          "state": {
            "_model_module": "@jupyter-widgets/base",
            "_model_module_version": "1.2.0",
            "_model_name": "LayoutModel",
            "_view_count": null,
            "_view_module": "@jupyter-widgets/base",
            "_view_module_version": "1.2.0",
            "_view_name": "LayoutView",
            "align_content": null,
            "align_items": null,
            "align_self": null,
            "border": null,
            "bottom": null,
            "display": null,
            "flex": null,
            "flex_flow": null,
            "grid_area": null,
            "grid_auto_columns": null,
            "grid_auto_flow": null,
            "grid_auto_rows": null,
            "grid_column": null,
            "grid_gap": null,
            "grid_row": null,
            "grid_template_areas": null,
            "grid_template_columns": null,
            "grid_template_rows": null,
            "height": null,
            "justify_content": null,
            "justify_items": null,
            "left": null,
            "margin": null,
            "max_height": null,
            "max_width": null,
            "min_height": null,
            "min_width": null,
            "object_fit": null,
            "object_position": null,
            "order": null,
            "overflow": null,
            "overflow_x": null,
            "overflow_y": null,
            "padding": null,
            "right": null,
            "top": null,
            "visibility": null,
            "width": null
          }
        },
        "3971f63ca23040129d74e7f20a165b2e": {
          "model_module": "@jupyter-widgets/controls",
          "model_name": "DescriptionStyleModel",
          "model_module_version": "1.5.0",
          "state": {
            "_model_module": "@jupyter-widgets/controls",
            "_model_module_version": "1.5.0",
            "_model_name": "DescriptionStyleModel",
            "_view_count": null,
            "_view_module": "@jupyter-widgets/base",
            "_view_module_version": "1.2.0",
            "_view_name": "StyleView",
            "description_width": ""
          }
        },
        "0849bc1ff4e548a1b1ec53a4ad898a3e": {
          "model_module": "@jupyter-widgets/controls",
          "model_name": "HBoxModel",
          "model_module_version": "1.5.0",
          "state": {
            "_dom_classes": [],
            "_model_module": "@jupyter-widgets/controls",
            "_model_module_version": "1.5.0",
            "_model_name": "HBoxModel",
            "_view_count": null,
            "_view_module": "@jupyter-widgets/controls",
            "_view_module_version": "1.5.0",
            "_view_name": "HBoxView",
            "box_style": "",
            "children": [
              "IPY_MODEL_cbc4e7cd4f4240388fbb796b2bfa766c",
              "IPY_MODEL_3bbcac59751c4febab05b1fa6abcfbba",
              "IPY_MODEL_4aab2d475900444cb4eb5dba73d7b56d"
            ],
            "layout": "IPY_MODEL_f68ae3c4e8ff45f4b1d0f9ecd1ab07a6"
          }
        },
        "cbc4e7cd4f4240388fbb796b2bfa766c": {
          "model_module": "@jupyter-widgets/controls",
          "model_name": "HTMLModel",
          "model_module_version": "1.5.0",
          "state": {
            "_dom_classes": [],
            "_model_module": "@jupyter-widgets/controls",
            "_model_module_version": "1.5.0",
            "_model_name": "HTMLModel",
            "_view_count": null,
            "_view_module": "@jupyter-widgets/controls",
            "_view_module_version": "1.5.0",
            "_view_name": "HTMLView",
            "description": "",
            "description_tooltip": null,
            "layout": "IPY_MODEL_b5a3c8f5310f426ba8a18db168901553",
            "placeholder": "​",
            "style": "IPY_MODEL_b6058f5e2ac4462cb2b73d3392b3173f",
            "value": "100%"
          }
        },
        "3bbcac59751c4febab05b1fa6abcfbba": {
          "model_module": "@jupyter-widgets/controls",
          "model_name": "FloatProgressModel",
          "model_module_version": "1.5.0",
          "state": {
            "_dom_classes": [],
            "_model_module": "@jupyter-widgets/controls",
            "_model_module_version": "1.5.0",
            "_model_name": "FloatProgressModel",
            "_view_count": null,
            "_view_module": "@jupyter-widgets/controls",
            "_view_module_version": "1.5.0",
            "_view_name": "ProgressView",
            "bar_style": "success",
            "description": "",
            "description_tooltip": null,
            "layout": "IPY_MODEL_0e783335fbfd4a13bf14de258deb0ad5",
            "max": 3,
            "min": 0,
            "orientation": "horizontal",
            "style": "IPY_MODEL_996a2bd1883e4f6c8509dc482ba867c4",
            "value": 3
          }
        },
        "4aab2d475900444cb4eb5dba73d7b56d": {
          "model_module": "@jupyter-widgets/controls",
          "model_name": "HTMLModel",
          "model_module_version": "1.5.0",
          "state": {
            "_dom_classes": [],
            "_model_module": "@jupyter-widgets/controls",
            "_model_module_version": "1.5.0",
            "_model_name": "HTMLModel",
            "_view_count": null,
            "_view_module": "@jupyter-widgets/controls",
            "_view_module_version": "1.5.0",
            "_view_name": "HTMLView",
            "description": "",
            "description_tooltip": null,
            "layout": "IPY_MODEL_1586f410b7ce4726b811906d9bf7c177",
            "placeholder": "​",
            "style": "IPY_MODEL_53ca4c1d68614e028bb5045a7680cb57",
            "value": " 3/3 [03:03&lt;00:00, 60.93s/it]"
          }
        },
        "f68ae3c4e8ff45f4b1d0f9ecd1ab07a6": {
          "model_module": "@jupyter-widgets/base",
          "model_name": "LayoutModel",
          "model_module_version": "1.2.0",
          "state": {
            "_model_module": "@jupyter-widgets/base",
            "_model_module_version": "1.2.0",
            "_model_name": "LayoutModel",
            "_view_count": null,
            "_view_module": "@jupyter-widgets/base",
            "_view_module_version": "1.2.0",
            "_view_name": "LayoutView",
            "align_content": null,
            "align_items": null,
            "align_self": null,
            "border": null,
            "bottom": null,
            "display": null,
            "flex": null,
            "flex_flow": null,
            "grid_area": null,
            "grid_auto_columns": null,
            "grid_auto_flow": null,
            "grid_auto_rows": null,
            "grid_column": null,
            "grid_gap": null,
            "grid_row": null,
            "grid_template_areas": null,
            "grid_template_columns": null,
            "grid_template_rows": null,
            "height": null,
            "justify_content": null,
            "justify_items": null,
            "left": null,
            "margin": null,
            "max_height": null,
            "max_width": null,
            "min_height": null,
            "min_width": null,
            "object_fit": null,
            "object_position": null,
            "order": null,
            "overflow": null,
            "overflow_x": null,
            "overflow_y": null,
            "padding": null,
            "right": null,
            "top": null,
            "visibility": null,
            "width": null
          }
        },
        "b5a3c8f5310f426ba8a18db168901553": {
          "model_module": "@jupyter-widgets/base",
          "model_name": "LayoutModel",
          "model_module_version": "1.2.0",
          "state": {
            "_model_module": "@jupyter-widgets/base",
            "_model_module_version": "1.2.0",
            "_model_name": "LayoutModel",
            "_view_count": null,
            "_view_module": "@jupyter-widgets/base",
            "_view_module_version": "1.2.0",
            "_view_name": "LayoutView",
            "align_content": null,
            "align_items": null,
            "align_self": null,
            "border": null,
            "bottom": null,
            "display": null,
            "flex": null,
            "flex_flow": null,
            "grid_area": null,
            "grid_auto_columns": null,
            "grid_auto_flow": null,
            "grid_auto_rows": null,
            "grid_column": null,
            "grid_gap": null,
            "grid_row": null,
            "grid_template_areas": null,
            "grid_template_columns": null,
            "grid_template_rows": null,
            "height": null,
            "justify_content": null,
            "justify_items": null,
            "left": null,
            "margin": null,
            "max_height": null,
            "max_width": null,
            "min_height": null,
            "min_width": null,
            "object_fit": null,
            "object_position": null,
            "order": null,
            "overflow": null,
            "overflow_x": null,
            "overflow_y": null,
            "padding": null,
            "right": null,
            "top": null,
            "visibility": null,
            "width": null
          }
        },
        "b6058f5e2ac4462cb2b73d3392b3173f": {
          "model_module": "@jupyter-widgets/controls",
          "model_name": "DescriptionStyleModel",
          "model_module_version": "1.5.0",
          "state": {
            "_model_module": "@jupyter-widgets/controls",
            "_model_module_version": "1.5.0",
            "_model_name": "DescriptionStyleModel",
            "_view_count": null,
            "_view_module": "@jupyter-widgets/base",
            "_view_module_version": "1.2.0",
            "_view_name": "StyleView",
            "description_width": ""
          }
        },
        "0e783335fbfd4a13bf14de258deb0ad5": {
          "model_module": "@jupyter-widgets/base",
          "model_name": "LayoutModel",
          "model_module_version": "1.2.0",
          "state": {
            "_model_module": "@jupyter-widgets/base",
            "_model_module_version": "1.2.0",
            "_model_name": "LayoutModel",
            "_view_count": null,
            "_view_module": "@jupyter-widgets/base",
            "_view_module_version": "1.2.0",
            "_view_name": "LayoutView",
            "align_content": null,
            "align_items": null,
            "align_self": null,
            "border": null,
            "bottom": null,
            "display": null,
            "flex": null,
            "flex_flow": null,
            "grid_area": null,
            "grid_auto_columns": null,
            "grid_auto_flow": null,
            "grid_auto_rows": null,
            "grid_column": null,
            "grid_gap": null,
            "grid_row": null,
            "grid_template_areas": null,
            "grid_template_columns": null,
            "grid_template_rows": null,
            "height": null,
            "justify_content": null,
            "justify_items": null,
            "left": null,
            "margin": null,
            "max_height": null,
            "max_width": null,
            "min_height": null,
            "min_width": null,
            "object_fit": null,
            "object_position": null,
            "order": null,
            "overflow": null,
            "overflow_x": null,
            "overflow_y": null,
            "padding": null,
            "right": null,
            "top": null,
            "visibility": null,
            "width": null
          }
        },
        "996a2bd1883e4f6c8509dc482ba867c4": {
          "model_module": "@jupyter-widgets/controls",
          "model_name": "ProgressStyleModel",
          "model_module_version": "1.5.0",
          "state": {
            "_model_module": "@jupyter-widgets/controls",
            "_model_module_version": "1.5.0",
            "_model_name": "ProgressStyleModel",
            "_view_count": null,
            "_view_module": "@jupyter-widgets/base",
            "_view_module_version": "1.2.0",
            "_view_name": "StyleView",
            "bar_color": null,
            "description_width": ""
          }
        },
        "1586f410b7ce4726b811906d9bf7c177": {
          "model_module": "@jupyter-widgets/base",
          "model_name": "LayoutModel",
          "model_module_version": "1.2.0",
          "state": {
            "_model_module": "@jupyter-widgets/base",
            "_model_module_version": "1.2.0",
            "_model_name": "LayoutModel",
            "_view_count": null,
            "_view_module": "@jupyter-widgets/base",
            "_view_module_version": "1.2.0",
            "_view_name": "LayoutView",
            "align_content": null,
            "align_items": null,
            "align_self": null,
            "border": null,
            "bottom": null,
            "display": null,
            "flex": null,
            "flex_flow": null,
            "grid_area": null,
            "grid_auto_columns": null,
            "grid_auto_flow": null,
            "grid_auto_rows": null,
            "grid_column": null,
            "grid_gap": null,
            "grid_row": null,
            "grid_template_areas": null,
            "grid_template_columns": null,
            "grid_template_rows": null,
            "height": null,
            "justify_content": null,
            "justify_items": null,
            "left": null,
            "margin": null,
            "max_height": null,
            "max_width": null,
            "min_height": null,
            "min_width": null,
            "object_fit": null,
            "object_position": null,
            "order": null,
            "overflow": null,
            "overflow_x": null,
            "overflow_y": null,
            "padding": null,
            "right": null,
            "top": null,
            "visibility": null,
            "width": null
          }
        },
        "53ca4c1d68614e028bb5045a7680cb57": {
          "model_module": "@jupyter-widgets/controls",
          "model_name": "DescriptionStyleModel",
          "model_module_version": "1.5.0",
          "state": {
            "_model_module": "@jupyter-widgets/controls",
            "_model_module_version": "1.5.0",
            "_model_name": "DescriptionStyleModel",
            "_view_count": null,
            "_view_module": "@jupyter-widgets/base",
            "_view_module_version": "1.2.0",
            "_view_name": "StyleView",
            "description_width": ""
          }
        },
        "45df5b7eec8b423985df2ec0a967f956": {
          "model_module": "@jupyter-widgets/controls",
          "model_name": "HBoxModel",
          "model_module_version": "1.5.0",
          "state": {
            "_dom_classes": [],
            "_model_module": "@jupyter-widgets/controls",
            "_model_module_version": "1.5.0",
            "_model_name": "HBoxModel",
            "_view_count": null,
            "_view_module": "@jupyter-widgets/controls",
            "_view_module_version": "1.5.0",
            "_view_name": "HBoxView",
            "box_style": "",
            "children": [
              "IPY_MODEL_7f651ca295544f0089fdc245ea118934",
              "IPY_MODEL_3fd04cd74af648cd88a5689057002b50",
              "IPY_MODEL_13b9bac42b294163bb90011f2092fd8c"
            ],
            "layout": "IPY_MODEL_23150c0d3969485ca7c0bf02a3273872"
          }
        },
        "7f651ca295544f0089fdc245ea118934": {
          "model_module": "@jupyter-widgets/controls",
          "model_name": "HTMLModel",
          "model_module_version": "1.5.0",
          "state": {
            "_dom_classes": [],
            "_model_module": "@jupyter-widgets/controls",
            "_model_module_version": "1.5.0",
            "_model_name": "HTMLModel",
            "_view_count": null,
            "_view_module": "@jupyter-widgets/controls",
            "_view_module_version": "1.5.0",
            "_view_name": "HTMLView",
            "description": "",
            "description_tooltip": null,
            "layout": "IPY_MODEL_9021ef279cdd4ba6a2623a936c99ce95",
            "placeholder": "​",
            "style": "IPY_MODEL_d5e4b98b7c174dc1863a755b685fd06d",
            "value": "Predictions: 100%"
          }
        },
        "3fd04cd74af648cd88a5689057002b50": {
          "model_module": "@jupyter-widgets/controls",
          "model_name": "FloatProgressModel",
          "model_module_version": "1.5.0",
          "state": {
            "_dom_classes": [],
            "_model_module": "@jupyter-widgets/controls",
            "_model_module_version": "1.5.0",
            "_model_name": "FloatProgressModel",
            "_view_count": null,
            "_view_module": "@jupyter-widgets/controls",
            "_view_module_version": "1.5.0",
            "_view_name": "ProgressView",
            "bar_style": "success",
            "description": "",
            "description_tooltip": null,
            "layout": "IPY_MODEL_f0d824937f8742ec8bf07b25d5056d8c",
            "max": 313,
            "min": 0,
            "orientation": "horizontal",
            "style": "IPY_MODEL_e81b93b380214be9afcdce1a95771d9c",
            "value": 313
          }
        },
        "13b9bac42b294163bb90011f2092fd8c": {
          "model_module": "@jupyter-widgets/controls",
          "model_name": "HTMLModel",
          "model_module_version": "1.5.0",
          "state": {
            "_dom_classes": [],
            "_model_module": "@jupyter-widgets/controls",
            "_model_module_version": "1.5.0",
            "_model_name": "HTMLModel",
            "_view_count": null,
            "_view_module": "@jupyter-widgets/controls",
            "_view_module_version": "1.5.0",
            "_view_name": "HTMLView",
            "description": "",
            "description_tooltip": null,
            "layout": "IPY_MODEL_72791d0e43b4401387854f56562cee70",
            "placeholder": "​",
            "style": "IPY_MODEL_33769222c44c4d5c8b929b3b825913d5",
            "value": " 313/313 [00:06&lt;00:00, 49.25it/s]"
          }
        },
        "23150c0d3969485ca7c0bf02a3273872": {
          "model_module": "@jupyter-widgets/base",
          "model_name": "LayoutModel",
          "model_module_version": "1.2.0",
          "state": {
            "_model_module": "@jupyter-widgets/base",
            "_model_module_version": "1.2.0",
            "_model_name": "LayoutModel",
            "_view_count": null,
            "_view_module": "@jupyter-widgets/base",
            "_view_module_version": "1.2.0",
            "_view_name": "LayoutView",
            "align_content": null,
            "align_items": null,
            "align_self": null,
            "border": null,
            "bottom": null,
            "display": null,
            "flex": null,
            "flex_flow": null,
            "grid_area": null,
            "grid_auto_columns": null,
            "grid_auto_flow": null,
            "grid_auto_rows": null,
            "grid_column": null,
            "grid_gap": null,
            "grid_row": null,
            "grid_template_areas": null,
            "grid_template_columns": null,
            "grid_template_rows": null,
            "height": null,
            "justify_content": null,
            "justify_items": null,
            "left": null,
            "margin": null,
            "max_height": null,
            "max_width": null,
            "min_height": null,
            "min_width": null,
            "object_fit": null,
            "object_position": null,
            "order": null,
            "overflow": null,
            "overflow_x": null,
            "overflow_y": null,
            "padding": null,
            "right": null,
            "top": null,
            "visibility": null,
            "width": null
          }
        },
        "9021ef279cdd4ba6a2623a936c99ce95": {
          "model_module": "@jupyter-widgets/base",
          "model_name": "LayoutModel",
          "model_module_version": "1.2.0",
          "state": {
            "_model_module": "@jupyter-widgets/base",
            "_model_module_version": "1.2.0",
            "_model_name": "LayoutModel",
            "_view_count": null,
            "_view_module": "@jupyter-widgets/base",
            "_view_module_version": "1.2.0",
            "_view_name": "LayoutView",
            "align_content": null,
            "align_items": null,
            "align_self": null,
            "border": null,
            "bottom": null,
            "display": null,
            "flex": null,
            "flex_flow": null,
            "grid_area": null,
            "grid_auto_columns": null,
            "grid_auto_flow": null,
            "grid_auto_rows": null,
            "grid_column": null,
            "grid_gap": null,
            "grid_row": null,
            "grid_template_areas": null,
            "grid_template_columns": null,
            "grid_template_rows": null,
            "height": null,
            "justify_content": null,
            "justify_items": null,
            "left": null,
            "margin": null,
            "max_height": null,
            "max_width": null,
            "min_height": null,
            "min_width": null,
            "object_fit": null,
            "object_position": null,
            "order": null,
            "overflow": null,
            "overflow_x": null,
            "overflow_y": null,
            "padding": null,
            "right": null,
            "top": null,
            "visibility": null,
            "width": null
          }
        },
        "d5e4b98b7c174dc1863a755b685fd06d": {
          "model_module": "@jupyter-widgets/controls",
          "model_name": "DescriptionStyleModel",
          "model_module_version": "1.5.0",
          "state": {
            "_model_module": "@jupyter-widgets/controls",
            "_model_module_version": "1.5.0",
            "_model_name": "DescriptionStyleModel",
            "_view_count": null,
            "_view_module": "@jupyter-widgets/base",
            "_view_module_version": "1.2.0",
            "_view_name": "StyleView",
            "description_width": ""
          }
        },
        "f0d824937f8742ec8bf07b25d5056d8c": {
          "model_module": "@jupyter-widgets/base",
          "model_name": "LayoutModel",
          "model_module_version": "1.2.0",
          "state": {
            "_model_module": "@jupyter-widgets/base",
            "_model_module_version": "1.2.0",
            "_model_name": "LayoutModel",
            "_view_count": null,
            "_view_module": "@jupyter-widgets/base",
            "_view_module_version": "1.2.0",
            "_view_name": "LayoutView",
            "align_content": null,
            "align_items": null,
            "align_self": null,
            "border": null,
            "bottom": null,
            "display": null,
            "flex": null,
            "flex_flow": null,
            "grid_area": null,
            "grid_auto_columns": null,
            "grid_auto_flow": null,
            "grid_auto_rows": null,
            "grid_column": null,
            "grid_gap": null,
            "grid_row": null,
            "grid_template_areas": null,
            "grid_template_columns": null,
            "grid_template_rows": null,
            "height": null,
            "justify_content": null,
            "justify_items": null,
            "left": null,
            "margin": null,
            "max_height": null,
            "max_width": null,
            "min_height": null,
            "min_width": null,
            "object_fit": null,
            "object_position": null,
            "order": null,
            "overflow": null,
            "overflow_x": null,
            "overflow_y": null,
            "padding": null,
            "right": null,
            "top": null,
            "visibility": null,
            "width": null
          }
        },
        "e81b93b380214be9afcdce1a95771d9c": {
          "model_module": "@jupyter-widgets/controls",
          "model_name": "ProgressStyleModel",
          "model_module_version": "1.5.0",
          "state": {
            "_model_module": "@jupyter-widgets/controls",
            "_model_module_version": "1.5.0",
            "_model_name": "ProgressStyleModel",
            "_view_count": null,
            "_view_module": "@jupyter-widgets/base",
            "_view_module_version": "1.2.0",
            "_view_name": "StyleView",
            "bar_color": null,
            "description_width": ""
          }
        },
        "72791d0e43b4401387854f56562cee70": {
          "model_module": "@jupyter-widgets/base",
          "model_name": "LayoutModel",
          "model_module_version": "1.2.0",
          "state": {
            "_model_module": "@jupyter-widgets/base",
            "_model_module_version": "1.2.0",
            "_model_name": "LayoutModel",
            "_view_count": null,
            "_view_module": "@jupyter-widgets/base",
            "_view_module_version": "1.2.0",
            "_view_name": "LayoutView",
            "align_content": null,
            "align_items": null,
            "align_self": null,
            "border": null,
            "bottom": null,
            "display": null,
            "flex": null,
            "flex_flow": null,
            "grid_area": null,
            "grid_auto_columns": null,
            "grid_auto_flow": null,
            "grid_auto_rows": null,
            "grid_column": null,
            "grid_gap": null,
            "grid_row": null,
            "grid_template_areas": null,
            "grid_template_columns": null,
            "grid_template_rows": null,
            "height": null,
            "justify_content": null,
            "justify_items": null,
            "left": null,
            "margin": null,
            "max_height": null,
            "max_width": null,
            "min_height": null,
            "min_width": null,
            "object_fit": null,
            "object_position": null,
            "order": null,
            "overflow": null,
            "overflow_x": null,
            "overflow_y": null,
            "padding": null,
            "right": null,
            "top": null,
            "visibility": null,
            "width": null
          }
        },
        "33769222c44c4d5c8b929b3b825913d5": {
          "model_module": "@jupyter-widgets/controls",
          "model_name": "DescriptionStyleModel",
          "model_module_version": "1.5.0",
          "state": {
            "_model_module": "@jupyter-widgets/controls",
            "_model_module_version": "1.5.0",
            "_model_name": "DescriptionStyleModel",
            "_view_count": null,
            "_view_module": "@jupyter-widgets/base",
            "_view_module_version": "1.2.0",
            "_view_name": "StyleView",
            "description_width": ""
          }
        }
      }
    }
  },
  "nbformat": 4,
  "nbformat_minor": 0
}