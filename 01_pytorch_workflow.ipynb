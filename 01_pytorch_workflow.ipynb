{
  "nbformat": 4,
  "nbformat_minor": 0,
  "metadata": {
    "colab": {
      "provenance": []
    },
    "kernelspec": {
      "name": "python3",
      "display_name": "Python 3"
    },
    "language_info": {
      "name": "python"
    }
  },
  "cells": [
    {
      "cell_type": "code",
      "execution_count": null,
      "metadata": {
        "colab": {
          "base_uri": "https://localhost:8080/",
          "height": 35
        },
        "id": "TjBlrvZmOoUj",
        "outputId": "2055d623-7f57-45f6-dec2-ce411fdc88de"
      },
      "outputs": [
        {
          "output_type": "execute_result",
          "data": {
            "text/plain": [
              "'2.3.1+cu121'"
            ],
            "application/vnd.google.colaboratory.intrinsic+json": {
              "type": "string"
            }
          },
          "metadata": {},
          "execution_count": 1
        }
      ],
      "source": [
        "import torch\n",
        "from torch import nn # PyTorch building blocks for neural networks\n",
        "import matplotlib.pyplot as plt\n",
        "\n",
        "torch.__version__"
      ]
    },
    {
      "cell_type": "markdown",
      "source": [
        "# End to end workflow for pytorch\n",
        "\n",
        "1. data, prepare and load\n",
        "2. build model\n",
        "3. fitting the model to data (training)\n",
        "4. make predictions and evaluate model (inference)\n",
        "5. saving and loading"
      ],
      "metadata": {
        "id": "zX4KogxQO_pY"
      }
    },
    {
      "cell_type": "markdown",
      "source": [
        "1. Data, preparing and loadin"
      ],
      "metadata": {
        "id": "NfTx_VT6P3Xj"
      }
    },
    {
      "cell_type": "code",
      "source": [
        "# known parameters\n",
        "weight = 0.7\n",
        "bias = 0.3\n",
        "\n",
        "start = 0\n",
        "end = 1\n",
        "step = 0.02\n",
        "X = torch.arange(start, end, step).unsqueeze(dim=1)\n",
        "y = weight * X + bias\n",
        "\n",
        "print(X[:10], \"\\n\", y[:10])"
      ],
      "metadata": {
        "colab": {
          "base_uri": "https://localhost:8080/"
        },
        "id": "dlFjEtZyO_C4",
        "outputId": "fa9b7059-8b55-4ef4-c681-a847bfee0789"
      },
      "execution_count": null,
      "outputs": [
        {
          "output_type": "stream",
          "name": "stdout",
          "text": [
            "tensor([[0.0000],\n",
            "        [0.0200],\n",
            "        [0.0400],\n",
            "        [0.0600],\n",
            "        [0.0800],\n",
            "        [0.1000],\n",
            "        [0.1200],\n",
            "        [0.1400],\n",
            "        [0.1600],\n",
            "        [0.1800]]) \n",
            " tensor([[0.3000],\n",
            "        [0.3140],\n",
            "        [0.3280],\n",
            "        [0.3420],\n",
            "        [0.3560],\n",
            "        [0.3700],\n",
            "        [0.3840],\n",
            "        [0.3980],\n",
            "        [0.4120],\n",
            "        [0.4260]])\n"
          ]
        }
      ]
    },
    {
      "cell_type": "markdown",
      "source": [
        "### Split data into training, validation, and testing sets\n",
        "\n",
        "Always need training and testing for sure"
      ],
      "metadata": {
        "id": "NMYrOaSWUr_e"
      }
    },
    {
      "cell_type": "code",
      "source": [
        "# Splitting our created data into training and testing sets\n",
        "train_split = int(0.8 * len(X))\n",
        "\n",
        "# split X and y into training and testing sets\n",
        "X_train, y_train = X[:train_split], y[:train_split]\n",
        "X_test, y_test = X[train_split:], y[train_split:]\n",
        "\n",
        "len(X_train), len(y_train), len(X_test), len(y_test)"
      ],
      "metadata": {
        "colab": {
          "base_uri": "https://localhost:8080/"
        },
        "id": "ziVVgzWnOySN",
        "outputId": "81a3911b-4f06-459b-d77d-345d7e8bc84a"
      },
      "execution_count": null,
      "outputs": [
        {
          "output_type": "execute_result",
          "data": {
            "text/plain": [
              "(40, 40, 10, 10)"
            ]
          },
          "metadata": {},
          "execution_count": 3
        }
      ]
    },
    {
      "cell_type": "code",
      "source": [
        "def plot_predictions(train_data = X_train,\n",
        "                     train_labels = y_train,\n",
        "                     test_data=X_test,\n",
        "                     test_labels=y_test,\n",
        "                     predictions=None):\n",
        "  # plot training data, test data\n",
        "  plt.figure(figsize=(10, 7))\n",
        "\n",
        "  # training data in blue\n",
        "  plt.scatter(train_data, train_labels, c=\"b\", s=4, label=\"Training data\")\n",
        "\n",
        "  # test data in green\n",
        "  plt.scatter(test_data, test_labels, c=\"g\", s=4, label=\"Testing data\")\n",
        "\n",
        "  # plot predictions if exist\n",
        "  if predictions is not None:\n",
        "    plt.scatter(test_data, predictions, c=\"r\", s=4, label=\"Predictions\")\n",
        "\n",
        "  plt.legend(prop={\"size\": 14})\n"
      ],
      "metadata": {
        "id": "vVA3TDMSXI-3"
      },
      "execution_count": null,
      "outputs": []
    },
    {
      "cell_type": "code",
      "source": [
        "plot_predictions()"
      ],
      "metadata": {
        "colab": {
          "base_uri": "https://localhost:8080/",
          "height": 460
        },
        "id": "FIcrIKB9YP58",
        "outputId": "be77e016-7b1f-4676-d7e2-e643aef93914"
      },
      "execution_count": null,
      "outputs": [
        {
          "output_type": "display_data",
          "data": {
            "text/plain": [
              "<Figure size 1000x700 with 1 Axes>"
            ],
            "image/png": "[encoded data removed]"
          },
          "metadata": {}
        }
      ]
    },
    {
      "cell_type": "markdown",
      "source": [
        "### Build PyTorch model\n",
        "Linear regression\n",
        "\n",
        "Starts with random values for weight and bias\n",
        "\n",
        "Looks at training data and adjusts the random values to better represent ideal values\n",
        "\n",
        "Through two main:\n",
        "1. Gradient descent https://ml-cheatsheet.readthedocs.io/en/latest/gradient_descent.html\n",
        "Iteratively moves in the direction of steepest descent (negative of the gradient). Size of steps is called **learning rate**. Uses partial deriviatives using new *m* and *b *values. Uses results of backpropagation I think.\n",
        "2. Backpropagation https://ml-cheatsheet.readthedocs.io/en/latest/backpropagation.html\n",
        "adjust each weight in network **in proportion** to how much it contributes to overall error. Use chain rule to calculate derivative with respect to variables.\n",
        "given Cost=C(R(Z(XW))), then C'(W)=C'(R)R'(Z)Z'(W)=(ŷ-y)R'(Z)X.\n",
        "\n",
        "Number of calculations required to compute cost drivatives increases as network grows deeper (as just taking chain rule from last layer to first)"
      ],
      "metadata": {
        "id": "HIbC563yar2t"
      }
    },
    {
      "cell_type": "code",
      "source": [
        "from torch import nn\n",
        "# linear regression model class\n",
        "\n",
        "# inherit from nn.Module, base class for all neural network modules\n",
        "class LinearRegressionModel(nn.Module):\n",
        "  def __init__(self):\n",
        "    super().__init__()\n",
        "\n",
        "    # gradient required\n",
        "    self.weights = nn.Parameter(torch.randn(1, requires_grad=True, dtype=torch.float))\n",
        "    self.bias = nn.Parameter(torch.randn(1, requires_grad=True, dtype=torch.float))\n",
        "\n",
        "  # forward method to define computation in the model\n",
        "  # you need to override this whens subclassing nn.Module\n",
        "  def forward(self, x: torch.Tensor) -> torch.Tensor:\n",
        "    return self.weights * x + self.bias\n"
      ],
      "metadata": {
        "id": "po_hNgm9aKSr"
      },
      "execution_count": null,
      "outputs": []
    },
    {
      "cell_type": "markdown",
      "source": [
        "### PyTorch model building essentials\n",
        "\n",
        "a neural network can be considered a computational graph\n",
        "\n",
        "torch.optim - where optimizers in PyTorch live, helps with gradient descent\n",
        "\n",
        "def forward() - all nn.Module subclasses require this to be implemented, defines what happens next in forward computation"
      ],
      "metadata": {
        "id": "qMUdplLFhldO"
      }
    },
    {
      "cell_type": "code",
      "source": [
        "# create a seed\n",
        "torch.manual_seed(42)\n",
        "\n",
        "# create an instance of model\n",
        "model_0 = LinearRegressionModel()\n",
        "\n",
        "# check parameters\n",
        "list(model_0.parameters())"
      ],
      "metadata": {
        "colab": {
          "base_uri": "https://localhost:8080/"
        },
        "id": "O1-bLAVMbzQU",
        "outputId": "b4a66366-4329-4b29-ca66-a00ebe75ae2a"
      },
      "execution_count": null,
      "outputs": [
        {
          "output_type": "execute_result",
          "data": {
            "text/plain": [
              "[Parameter containing:\n",
              " tensor([0.3367], requires_grad=True),\n",
              " Parameter containing:\n",
              " tensor([0.1288], requires_grad=True)]"
            ]
          },
          "metadata": {},
          "execution_count": 7
        }
      ]
    },
    {
      "cell_type": "code",
      "source": [
        "model_0.state_dict()"
      ],
      "metadata": {
        "colab": {
          "base_uri": "https://localhost:8080/"
        },
        "id": "Uw8_CxmN2upi",
        "outputId": "ba44f035-de18-44cf-e8ce-2c17d28efbbb"
      },
      "execution_count": null,
      "outputs": [
        {
          "output_type": "execute_result",
          "data": {
            "text/plain": [
              "OrderedDict([('weights', tensor([0.3367])), ('bias', tensor([0.1288]))])"
            ]
          },
          "metadata": {},
          "execution_count": 8
        }
      ]
    },
    {
      "cell_type": "markdown",
      "source": [
        "Making prediction using torch.inference_mode()"
      ],
      "metadata": {
        "id": "-KYrGCd73FAj"
      }
    },
    {
      "cell_type": "code",
      "source": [
        "# test our starting model\n",
        "with torch.inference_mode():\n",
        "  y_preds = model_0(X_test)\n",
        "\n",
        "plot_predictions(predictions=y_preds)"
      ],
      "metadata": {
        "colab": {
          "base_uri": "https://localhost:8080/",
          "height": 460
        },
        "id": "CTXVP1FmjKcm",
        "outputId": "f61b5133-643b-4692-9bd2-0cf73812d9e4"
      },
      "execution_count": null,
      "outputs": [
        {
          "output_type": "display_data",
          "data": {
            "text/plain": [
              "<Figure size 1000x700 with 1 Axes>"
            ],
            "image/png": "[encoded data removed]"
          },
          "metadata": {}
        }
      ]
    },
    {
      "cell_type": "markdown",
      "source": [
        "# Train Model\n",
        "\n",
        "Move from some unknown parameters to known parameters.\n",
        "\n",
        "Measure how poor our model is using a loss function. Our optimizer will take into account the loss and adjust the model's parameters.\n",
        "\n",
        "List of loss functions here: https://pytorch.org/docs/stable/nn.html#loss-functions\n",
        "\n",
        "Optimizer functions: https://pytorch.org/docs/stable/optim.html"
      ],
      "metadata": {
        "id": "R8KkN00U441c"
      }
    },
    {
      "cell_type": "code",
      "source": [
        "# L1 loss is the mean absolute error\n",
        "loss_fn = nn.L1Loss()\n",
        "\n",
        "# setup optimizer. SGD is a popular one\n",
        "optimizer = torch.optim.SGD(params=model_0.parameters(), lr=0.01)"
      ],
      "metadata": {
        "id": "V2vJ8rUB3uyB"
      },
      "execution_count": null,
      "outputs": []
    },
    {
      "cell_type": "markdown",
      "source": [
        "### Build a training loop and test loop\n",
        "\n",
        "1. Loop through data\n",
        "2. Forward pass (data moving through model's forward function), or forward propagation\n",
        "3. Calculate the loss, compare forward pass predictions to ground truth labels\n",
        "4. Opimizer zero grad\n",
        "5. Loss backward, move backward through network to calculate gradients of each parameter with respect to loss. *Gradients will be stored by tensors themselves when .backward() is called.*\n",
        "6. Optimzer step, adjust parameters to try to improve loss. Will iterate over all parameters (tensors) and uses internally stored `grad` to update the values.\n"
      ],
      "metadata": {
        "id": "Mh7DkFXGAm8N"
      }
    },
    {
      "cell_type": "code",
      "source": [
        "# epoch is one lopp through the data\n",
        "epochs = 100\n",
        "epoch_count = []\n",
        "loss_values = []\n",
        "test_loss_values = []\n",
        "\n",
        "torch.manual_seed(42)\n",
        "\n",
        "# loop through data\n",
        "for epoch in range(epochs):\n",
        "  # set model to training mode\n",
        "  model_0.train()\n",
        "\n",
        "  # forward pass using forward() method\n",
        "  y_pred = model_0(X_train)\n",
        "\n",
        "  # calculate loss\n",
        "  loss = loss_fn(y_pred, y_train)\n",
        "\n",
        "  # zero the optimizer gradient\n",
        "  optimizer.zero_grad()\n",
        "\n",
        "  # backpropagation on loss. Gradients are stored by tensors once backward() is called\n",
        "  loss.backward()\n",
        "\n",
        "  # by default how the optimizer changes will accumulate through loop so we zero above\n",
        "  optimizer.step()\n",
        "\n",
        "  # testing\n",
        "  model_0.eval()\n",
        "  with torch.inference_mode():\n",
        "    # do forward pass\n",
        "    test_pred = model_0(X_test)\n",
        "    # calculate the loss\n",
        "    test_loss = loss_fn(test_pred, y_test)\n",
        "\n",
        "  if epoch % 10 == 0:\n",
        "    epoch_count.append(epoch)\n",
        "    loss_values.append(loss)\n",
        "    test_loss_values.append(test_loss)\n",
        "    print(f\"Epoch: {epoch} | Loss: {loss} | TestLoss: {test_loss}\")\n",
        "    print(model_0.state_dict())\n"
      ],
      "metadata": {
        "colab": {
          "base_uri": "https://localhost:8080/"
        },
        "id": "VDI9ypTUAlv6",
        "outputId": "cada838e-24fb-42c3-f592-037d90a8731f"
      },
      "execution_count": null,
      "outputs": [
        {
          "output_type": "stream",
          "name": "stdout",
          "text": [
            "tensor(0.3129, grad_fn=<MeanBackward0>)\n",
            "Epoch: 0 | Loss: 0.31288138031959534 | TestLoss: 0.48106518387794495\n",
            "OrderedDict([('weights', tensor([0.3406])), ('bias', tensor([0.1388]))])\n",
            "tensor(0.3014, grad_fn=<MeanBackward0>)\n",
            "tensor(0.2898, grad_fn=<MeanBackward0>)\n",
            "tensor(0.2783, grad_fn=<MeanBackward0>)\n",
            "tensor(0.2668, grad_fn=<MeanBackward0>)\n",
            "tensor(0.2553, grad_fn=<MeanBackward0>)\n",
            "tensor(0.2438, grad_fn=<MeanBackward0>)\n",
            "tensor(0.2322, grad_fn=<MeanBackward0>)\n",
            "tensor(0.2207, grad_fn=<MeanBackward0>)\n",
            "tensor(0.2092, grad_fn=<MeanBackward0>)\n",
            "tensor(0.1977, grad_fn=<MeanBackward0>)\n",
            "Epoch: 10 | Loss: 0.1976713240146637 | TestLoss: 0.3463551998138428\n",
            "OrderedDict([('weights', tensor([0.3796])), ('bias', tensor([0.2388]))])\n",
            "tensor(0.1862, grad_fn=<MeanBackward0>)\n",
            "tensor(0.1746, grad_fn=<MeanBackward0>)\n",
            "tensor(0.1631, grad_fn=<MeanBackward0>)\n",
            "tensor(0.1516, grad_fn=<MeanBackward0>)\n",
            "tensor(0.1401, grad_fn=<MeanBackward0>)\n",
            "tensor(0.1285, grad_fn=<MeanBackward0>)\n",
            "tensor(0.1170, grad_fn=<MeanBackward0>)\n",
            "tensor(0.1061, grad_fn=<MeanBackward0>)\n",
            "tensor(0.0968, grad_fn=<MeanBackward0>)\n",
            "tensor(0.0891, grad_fn=<MeanBackward0>)\n",
            "Epoch: 20 | Loss: 0.08908725529909134 | TestLoss: 0.21729660034179688\n",
            "OrderedDict([('weights', tensor([0.4184])), ('bias', tensor([0.3333]))])\n",
            "tensor(0.0823, grad_fn=<MeanBackward0>)\n",
            "tensor(0.0764, grad_fn=<MeanBackward0>)\n",
            "tensor(0.0716, grad_fn=<MeanBackward0>)\n",
            "tensor(0.0675, grad_fn=<MeanBackward0>)\n",
            "tensor(0.0640, grad_fn=<MeanBackward0>)\n",
            "tensor(0.0610, grad_fn=<MeanBackward0>)\n",
            "tensor(0.0585, grad_fn=<MeanBackward0>)\n",
            "tensor(0.0564, grad_fn=<MeanBackward0>)\n",
            "tensor(0.0546, grad_fn=<MeanBackward0>)\n",
            "tensor(0.0531, grad_fn=<MeanBackward0>)\n",
            "Epoch: 30 | Loss: 0.053148526698350906 | TestLoss: 0.14464017748832703\n",
            "OrderedDict([('weights', tensor([0.4512])), ('bias', tensor([0.3768]))])\n",
            "tensor(0.0518, grad_fn=<MeanBackward0>)\n",
            "tensor(0.0507, grad_fn=<MeanBackward0>)\n",
            "tensor(0.0498, grad_fn=<MeanBackward0>)\n",
            "tensor(0.0490, grad_fn=<MeanBackward0>)\n",
            "tensor(0.0482, grad_fn=<MeanBackward0>)\n",
            "tensor(0.0475, grad_fn=<MeanBackward0>)\n",
            "tensor(0.0469, grad_fn=<MeanBackward0>)\n",
            "tensor(0.0464, grad_fn=<MeanBackward0>)\n",
            "tensor(0.0459, grad_fn=<MeanBackward0>)\n",
            "tensor(0.0454, grad_fn=<MeanBackward0>)\n",
            "Epoch: 40 | Loss: 0.04543796554207802 | TestLoss: 0.11360953003168106\n",
            "OrderedDict([('weights', tensor([0.4748])), ('bias', tensor([0.3868]))])\n",
            "tensor(0.0450, grad_fn=<MeanBackward0>)\n",
            "tensor(0.0446, grad_fn=<MeanBackward0>)\n",
            "tensor(0.0442, grad_fn=<MeanBackward0>)\n",
            "tensor(0.0438, grad_fn=<MeanBackward0>)\n",
            "tensor(0.0434, grad_fn=<MeanBackward0>)\n",
            "tensor(0.0431, grad_fn=<MeanBackward0>)\n",
            "tensor(0.0427, grad_fn=<MeanBackward0>)\n",
            "tensor(0.0424, grad_fn=<MeanBackward0>)\n",
            "tensor(0.0420, grad_fn=<MeanBackward0>)\n",
            "tensor(0.0417, grad_fn=<MeanBackward0>)\n",
            "Epoch: 50 | Loss: 0.04167863354086876 | TestLoss: 0.09919948130846024\n",
            "OrderedDict([('weights', tensor([0.4938])), ('bias', tensor([0.3843]))])\n",
            "tensor(0.0413, grad_fn=<MeanBackward0>)\n",
            "tensor(0.0410, grad_fn=<MeanBackward0>)\n",
            "tensor(0.0406, grad_fn=<MeanBackward0>)\n",
            "tensor(0.0403, grad_fn=<MeanBackward0>)\n",
            "tensor(0.0399, grad_fn=<MeanBackward0>)\n",
            "tensor(0.0396, grad_fn=<MeanBackward0>)\n",
            "tensor(0.0392, grad_fn=<MeanBackward0>)\n",
            "tensor(0.0389, grad_fn=<MeanBackward0>)\n",
            "tensor(0.0385, grad_fn=<MeanBackward0>)\n",
            "tensor(0.0382, grad_fn=<MeanBackward0>)\n",
            "Epoch: 60 | Loss: 0.03818932920694351 | TestLoss: 0.08886633068323135\n",
            "OrderedDict([('weights', tensor([0.5116])), ('bias', tensor([0.3788]))])\n",
            "tensor(0.0379, grad_fn=<MeanBackward0>)\n",
            "tensor(0.0375, grad_fn=<MeanBackward0>)\n",
            "tensor(0.0372, grad_fn=<MeanBackward0>)\n",
            "tensor(0.0368, grad_fn=<MeanBackward0>)\n",
            "tensor(0.0365, grad_fn=<MeanBackward0>)\n",
            "tensor(0.0361, grad_fn=<MeanBackward0>)\n",
            "tensor(0.0358, grad_fn=<MeanBackward0>)\n",
            "tensor(0.0354, grad_fn=<MeanBackward0>)\n",
            "tensor(0.0351, grad_fn=<MeanBackward0>)\n",
            "tensor(0.0348, grad_fn=<MeanBackward0>)\n",
            "Epoch: 70 | Loss: 0.03476089984178543 | TestLoss: 0.0805937647819519\n",
            "OrderedDict([('weights', tensor([0.5288])), ('bias', tensor([0.3718]))])\n",
            "tensor(0.0344, grad_fn=<MeanBackward0>)\n",
            "tensor(0.0341, grad_fn=<MeanBackward0>)\n",
            "tensor(0.0337, grad_fn=<MeanBackward0>)\n",
            "tensor(0.0334, grad_fn=<MeanBackward0>)\n",
            "tensor(0.0330, grad_fn=<MeanBackward0>)\n",
            "tensor(0.0327, grad_fn=<MeanBackward0>)\n",
            "tensor(0.0324, grad_fn=<MeanBackward0>)\n",
            "tensor(0.0320, grad_fn=<MeanBackward0>)\n",
            "tensor(0.0317, grad_fn=<MeanBackward0>)\n",
            "tensor(0.0313, grad_fn=<MeanBackward0>)\n",
            "Epoch: 80 | Loss: 0.03132382780313492 | TestLoss: 0.07232122868299484\n",
            "OrderedDict([('weights', tensor([0.5459])), ('bias', tensor([0.3648]))])\n",
            "tensor(0.0310, grad_fn=<MeanBackward0>)\n",
            "tensor(0.0306, grad_fn=<MeanBackward0>)\n",
            "tensor(0.0303, grad_fn=<MeanBackward0>)\n",
            "tensor(0.0300, grad_fn=<MeanBackward0>)\n",
            "tensor(0.0296, grad_fn=<MeanBackward0>)\n",
            "tensor(0.0293, grad_fn=<MeanBackward0>)\n",
            "tensor(0.0289, grad_fn=<MeanBackward0>)\n",
            "tensor(0.0286, grad_fn=<MeanBackward0>)\n",
            "tensor(0.0282, grad_fn=<MeanBackward0>)\n",
            "tensor(0.0279, grad_fn=<MeanBackward0>)\n",
            "Epoch: 90 | Loss: 0.02788739837706089 | TestLoss: 0.06473556160926819\n",
            "OrderedDict([('weights', tensor([0.5629])), ('bias', tensor([0.3573]))])\n",
            "tensor(0.0275, grad_fn=<MeanBackward0>)\n",
            "tensor(0.0272, grad_fn=<MeanBackward0>)\n",
            "tensor(0.0269, grad_fn=<MeanBackward0>)\n",
            "tensor(0.0265, grad_fn=<MeanBackward0>)\n",
            "tensor(0.0262, grad_fn=<MeanBackward0>)\n",
            "tensor(0.0258, grad_fn=<MeanBackward0>)\n",
            "tensor(0.0255, grad_fn=<MeanBackward0>)\n",
            "tensor(0.0251, grad_fn=<MeanBackward0>)\n",
            "tensor(0.0248, grad_fn=<MeanBackward0>)\n"
          ]
        }
      ]
    },
    {
      "cell_type": "markdown",
      "source": [
        "Graph the training and test loss curves"
      ],
      "metadata": {
        "id": "-jSuC__mUqdl"
      }
    },
    {
      "cell_type": "code",
      "source": [
        "import numpy as np\n",
        "\n",
        "# graph the loss curves\n",
        "plt.plot(epoch_count, np.array(torch.tensor(loss_values).numpy()), label=\"train loss\")\n",
        "plt.plot(epoch_count, test_loss_values, label=\"test loss\")\n",
        "plt.title(\"training and test loss curves\")\n",
        "plt.ylabel(\"loss\")\n",
        "plt.xlabel(\"epochs\")\n",
        "plt.legend()"
      ],
      "metadata": {
        "colab": {
          "base_uri": "https://localhost:8080/",
          "height": 489
        },
        "id": "aKFpDDqLQDR4",
        "outputId": "fd1d2153-1bec-420b-e4fd-aca05a81011a"
      },
      "execution_count": null,
      "outputs": [
        {
          "output_type": "execute_result",
          "data": {
            "text/plain": [
              "<matplotlib.legend.Legend at 0x79f6cb37bb20>"
            ]
          },
          "metadata": {},
          "execution_count": 12
        },
        {
          "output_type": "display_data",
          "data": {
            "text/plain": [
              "<Figure size 640x480 with 1 Axes>"
            ],
            "image/png": "[encoded data removed]"
          },
          "metadata": {}
        }
      ]
    },
    {
      "cell_type": "code",
      "source": [
        "model_0.state_dict()"
      ],
      "metadata": {
        "colab": {
          "base_uri": "https://localhost:8080/"
        },
        "id": "ll3m7xUFGRhs",
        "outputId": "56b5c3e7-3d52-40b6-e764-10eb7d21efca"
      },
      "execution_count": null,
      "outputs": [
        {
          "output_type": "execute_result",
          "data": {
            "text/plain": [
              "OrderedDict([('weights', tensor([0.5784])), ('bias', tensor([0.3513]))])"
            ]
          },
          "metadata": {},
          "execution_count": 13
        }
      ]
    },
    {
      "cell_type": "code",
      "source": [
        "with torch.inference_mode():\n",
        "  y_preds_new = model_0(X_test)\n",
        "\n",
        "plot_predictions(predictions=y_preds_new)"
      ],
      "metadata": {
        "colab": {
          "base_uri": "https://localhost:8080/",
          "height": 460
        },
        "id": "b7Yk5mkgGZk5",
        "outputId": "d25fa12c-d5bd-46a8-bb56-edd0d9b5ec18"
      },
      "execution_count": null,
      "outputs": [
        {
          "output_type": "display_data",
          "data": {
            "text/plain": [
              "<Figure size 1000x700 with 1 Axes>"
            ],
            "image/png": "[encoded data removed]"
          },
          "metadata": {}
        }
      ]
    },
    {
      "cell_type": "markdown",
      "source": [
        "## Saving a model in PyTorch\n",
        "\n",
        "To avoid repeating training from scratch.\n",
        "\n",
        "1. `torch.save()` - save object in Python pickel format\n",
        "2. `torch.load()` - load saved PyTorch object\n",
        "3. `torch.nn.Module.load_state_dict()` - load model's saved state dictionary\n",
        "\n",
        "A state dict is a dictionary object that maps each layer to its parameter tensor.\n",
        "\n",
        "https://pytorch.org/tutorials/recipes/recipes/what_is_state_dict.html\n"
      ],
      "metadata": {
        "id": "UDAOMOdDWxMU"
      }
    },
    {
      "cell_type": "code",
      "source": [
        "# saving model\n",
        "from pathlib import Path\n",
        "\n",
        "# model directory\n",
        "MODEL_PATH = Path(\"models\")\n",
        "MODEL_PATH.mkdir(parents=True, exist_ok=True)\n",
        "\n",
        "# model save path\n",
        "MODEL_NAME = \"01_pytorch_workflow_model_0.pth\"\n",
        "MODEL_SAVE_PATH = MODEL_PATH / MODEL_NAME\n",
        "\n",
        "# save model state dict\n",
        "torch.save(obj=model_0.state_dict(), f=MODEL_SAVE_PATH)"
      ],
      "metadata": {
        "id": "2oi6aveQHkBv"
      },
      "execution_count": null,
      "outputs": []
    },
    {
      "cell_type": "code",
      "source": [
        "!ls -l models"
      ],
      "metadata": {
        "colab": {
          "base_uri": "https://localhost:8080/"
        },
        "id": "A4bVhb85YPbl",
        "outputId": "dde459a7-7318-4b41-eba4-ba43a4673308"
      },
      "execution_count": null,
      "outputs": [
        {
          "output_type": "stream",
          "name": "stdout",
          "text": [
            "total 4\n",
            "-rw-r--r-- 1 root root 1680 Jul 23 23:25 01_pytorch_workflow_model_0.pth\n"
          ]
        }
      ]
    },
    {
      "cell_type": "markdown",
      "source": [
        "# Extras\n",
        "Practice loading the model we saved"
      ],
      "metadata": {
        "id": "v0f2Rzr2ZZ3I"
      }
    },
    {
      "cell_type": "code",
      "source": [
        "# instantiate a new instance of our model class\n",
        "loaded_model_0 = LinearRegressionModel()\n",
        "\n",
        "# load the saved state_dict of model_0\n",
        "loaded_model_0.load_state_dict(torch.load(f=MODEL_SAVE_PATH))\n",
        "\n",
        "print(loaded_model_0.state_dict(), \"\\n\", model_0.state_dict())"
      ],
      "metadata": {
        "colab": {
          "base_uri": "https://localhost:8080/"
        },
        "id": "bPpdlrcxZj3O",
        "outputId": "0f4657e1-d17c-43c5-dbec-4a6e68b7d0df"
      },
      "execution_count": null,
      "outputs": [
        {
          "output_type": "stream",
          "name": "stdout",
          "text": [
            "OrderedDict([('weights', tensor([0.5784])), ('bias', tensor([0.3513]))]) \n",
            " OrderedDict([('weights', tensor([0.5784])), ('bias', tensor([0.3513]))])\n"
          ]
        }
      ]
    },
    {
      "cell_type": "markdown",
      "source": [
        "## Alternate way to implement LinearRegressionModel below,\n",
        "\n",
        "Using nn.Linear()\n",
        "\n",
        "Linear layer has weight matrix `W (nxm)` and bias vector `b (mx1)`. Given vector input `x` with shape `mx1`, output of linear lyaer is given `f(x)=Wx+b`, which is a vector of shape `nx1`. So `m` inputs and `n` outputs."
      ],
      "metadata": {
        "id": "D1jpQpmFfkC3"
      }
    },
    {
      "cell_type": "code",
      "source": [
        "class LinearRegressionModuleV2(nn.Module):\n",
        "  def __init__(self):\n",
        "    super().__init()\n",
        "    # use nn.Linear() to initizlie parameters\n",
        "    self.linear_layer = nn.Linear(in_features=1,\n",
        "                                  out_feature=1)\n",
        "\n",
        "  def forward(self, x: torch.Tensor) -> torch.Tensor:\n",
        "    return self.linear_layer(x)\n"
      ],
      "metadata": {
        "id": "BjnrgaZ4gVE6"
      },
      "execution_count": null,
      "outputs": []
    }
  ]
}